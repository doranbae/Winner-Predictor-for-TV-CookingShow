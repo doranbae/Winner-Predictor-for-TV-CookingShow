{
 "cells": [
  {
   "cell_type": "markdown",
   "metadata": {},
   "source": [
    "# Do chefs have lucky food?\n",
    "### Question: Is there any ingredient which brings good luck (win) to chefs?\n",
    "I wondered whether one chef may have his/her favorite food (ingredient). Let's call it his/her lucky food (ingredients). "
   ]
  },
  {
   "cell_type": "code",
   "execution_count": 1,
   "metadata": {},
   "outputs": [
    {
     "name": "stderr",
     "output_type": "stream",
     "text": [
      "Using TensorFlow backend.\n"
     ]
    }
   ],
   "source": [
    "from keras.models import Sequential\n",
    "from keras.layers.core import Dense, Dropout, Activation\n",
    "from keras.utils import np_utils\n",
    "import pickle\n",
    "import numpy as np\n",
    "import pandas as pd\n",
    "import copy\n",
    "from collections import Counter\n",
    "from keras.models import Sequential\n",
    "from keras.layers import Dense\n",
    "from keras.wrappers.scikit_learn import KerasClassifier\n",
    "from sklearn.model_selection import cross_val_score\n",
    "from sklearn.preprocessing import LabelEncoder\n",
    "from sklearn.model_selection import StratifiedKFold\n",
    "from sklearn.preprocessing import StandardScaler\n",
    "from sklearn.pipeline import Pipeline\n",
    "from collections import defaultdict\n",
    "from helper import *"
   ]
  },
  {
   "cell_type": "markdown",
   "metadata": {},
   "source": [
    "# Step 1: Load & Prepare dataset"
   ]
  },
  {
   "cell_type": "code",
   "execution_count": 2,
   "metadata": {},
   "outputs": [],
   "source": [
    "with open(\"data/_feature_match_data.pkl\", \"rb\") as fp:\n",
    "    match_data = pickle.load(fp)\n",
    "    \n",
    "with open(\"data/_nID_ingredients_dict.pkl\", \"rb\") as fp:\n",
    "    nID_ingredients_dict = pickle.load(fp)\n",
    "    \n",
    "lemm = pd.read_csv(\"data/ing.txt\", encoding = 'utf-8', sep = ',')"
   ]
  },
  {
   "cell_type": "code",
   "execution_count": 3,
   "metadata": {},
   "outputs": [],
   "source": [
    "ingredients = []\n",
    "for k in list(nID_ingredients_dict.keys()):\n",
    "    ing = nID_ingredients_dict.get(k)\n",
    "    for i in ing:\n",
    "        ingredients.append(i)\n",
    "\n",
    "ing_freq = Counter(ingredients)"
   ]
  },
  {
   "cell_type": "code",
   "execution_count": 4,
   "metadata": {},
   "outputs": [],
   "source": [
    "ing_df = pd.DataFrame.from_dict(ing_freq, orient = 'index').reset_index()\n",
    "ing_df = ing_df.rename(columns = {'index': 'ingredient', 0:'cnt'})\n",
    "ing_df = ing_df.sort_values(by=\"cnt\", ascending = False).reset_index()"
   ]
  },
  {
   "cell_type": "markdown",
   "metadata": {},
   "source": [
    "### Lemmatize ingredients\n",
    "Borrowing the concept from NLP, I decided to group ingredients that are similar, call it [lemmatization](https://en.wikipedia.org/wiki/Lemmatisation) of ingredients. For example, I merged \"minced garlic\" with \"garlic\" and so and so forth."
   ]
  },
  {
   "cell_type": "code",
   "execution_count": 5,
   "metadata": {},
   "outputs": [
    {
     "data": {
      "text/html": [
       "<div>\n",
       "<style>\n",
       "    .dataframe thead tr:only-child th {\n",
       "        text-align: right;\n",
       "    }\n",
       "\n",
       "    .dataframe thead th {\n",
       "        text-align: left;\n",
       "    }\n",
       "\n",
       "    .dataframe tbody tr th {\n",
       "        vertical-align: top;\n",
       "    }\n",
       "</style>\n",
       "<table border=\"1\" class=\"dataframe\">\n",
       "  <thead>\n",
       "    <tr style=\"text-align: right;\">\n",
       "      <th></th>\n",
       "      <th>index</th>\n",
       "      <th>ingredient</th>\n",
       "      <th>cnt</th>\n",
       "      <th>lemm</th>\n",
       "    </tr>\n",
       "  </thead>\n",
       "  <tbody>\n",
       "    <tr>\n",
       "      <th>0</th>\n",
       "      <td>229.0</td>\n",
       "      <td>소금</td>\n",
       "      <td>415.0</td>\n",
       "      <td>깨소금후추</td>\n",
       "    </tr>\n",
       "    <tr>\n",
       "      <th>1</th>\n",
       "      <td>447.0</td>\n",
       "      <td>양파</td>\n",
       "      <td>342.0</td>\n",
       "      <td>양파</td>\n",
       "    </tr>\n",
       "    <tr>\n",
       "      <th>2</th>\n",
       "      <td>706.0</td>\n",
       "      <td>후추</td>\n",
       "      <td>336.0</td>\n",
       "      <td>깨소금후추</td>\n",
       "    </tr>\n",
       "  </tbody>\n",
       "</table>\n",
       "</div>"
      ],
      "text/plain": [
       "   index ingredient    cnt   lemm\n",
       "0  229.0         소금  415.0  깨소금후추\n",
       "1  447.0         양파  342.0     양파\n",
       "2  706.0         후추  336.0  깨소금후추"
      ]
     },
     "execution_count": 5,
     "metadata": {},
     "output_type": "execute_result"
    }
   ],
   "source": [
    "ing_df[\"lemm\"] = ing_df[\"ingredient\"]\n",
    "for row in lemm.itertuples():\n",
    "    row_idx = row.row_idx\n",
    "    new_name = row.ingb\n",
    "    ing_df.at[row_idx,\"lemm\"] = new_name\n",
    "ing_df[:3]"
   ]
  },
  {
   "cell_type": "markdown",
   "metadata": {},
   "source": [
    "Easy enough? Lemmetization can be more precise (meaning a lot more manual work), but I am satisfied with what I have so far."
   ]
  },
  {
   "cell_type": "code",
   "execution_count": 6,
   "metadata": {},
   "outputs": [],
   "source": [
    "ing_df[\"index\"] = pd.Series(list(range(0,len(ing_df)))).values \n",
    "ing_lemm_dict = dict(zip(ing_df.ingredient, ing_df.lemm))\n",
    "ing_index_dict = dict(zip(ing_df.ingredient, ing_df.index))\n",
    "index_ing_dict = dict(zip(ing_df.index, ing_df.ingredient))\n",
    "ing_count_dict = dict(zip(ing_df.ingredient, ing_df.cnt))"
   ]
  },
  {
   "cell_type": "code",
   "execution_count": 7,
   "metadata": {},
   "outputs": [],
   "source": [
    "lemm_ing_df = ing_df[[\"lemm\", \"cnt\"]]\n",
    "lemm_ing_df = lemm_ing_df.groupby(\"lemm\")[\"cnt\"].apply(sum).reset_index()\n",
    "lemm_ing_df = lemm_ing_df.sort_values(by=\"cnt\", ascending = False).reset_index(drop = True)\n",
    "lemm_ing_df[\"lem_ing_id\"] = pd.Series(list(range(0,len(lemm_ing_df)))).values"
   ]
  },
  {
   "cell_type": "markdown",
   "metadata": {},
   "source": [
    "### TF-IDF on lucky food\n",
    "I am throwing away most occuring ingredients (such as salt, soy sauce, etc.) since it is just too common to be any significance. I set an arbitrary value at freq > 100"
   ]
  },
  {
   "cell_type": "code",
   "execution_count": 8,
   "metadata": {},
   "outputs": [],
   "source": [
    "# Get rid of those that occur more than 100 times\n",
    "mask = lemm_ing_df[\"cnt\"] <= 100\n",
    "key_ing_df = lemm_ing_df.loc[mask]\n",
    "key_leming_lemid_dict = dict(zip(key_ing_df.lemm, key_ing_df.lem_ing_id))"
   ]
  },
  {
   "cell_type": "code",
   "execution_count": 9,
   "metadata": {},
   "outputs": [],
   "source": [
    "# Make new ingredients dictionary\n",
    "nID_ingredients_new_dict = defaultdict(list)\n",
    "\n",
    "for k in list(nID_ingredients_dict.keys()):\n",
    "    ing = nID_ingredients_dict.get(k)\n",
    "    for i in ing:\n",
    "        # See if each ingredients can be lemmetized\n",
    "        lem_ing = ing_lemm_dict.get(i, -1)\n",
    "        if lem_ing == -1:\n",
    "            pass\n",
    "        else:\n",
    "            if lem_ing in key_leming_lemid_dict.keys():\n",
    "                nID_ingredients_new_dict[k].append(lem_ing)\n",
    "            else:\n",
    "                pass"
   ]
  },
  {
   "cell_type": "markdown",
   "metadata": {},
   "source": [
    "---------------------------------------\n",
    "# Step 2: Predict\n",
    "### Finding whether ingredients can be used to predict the win? "
   ]
  },
  {
   "cell_type": "code",
   "execution_count": 10,
   "metadata": {},
   "outputs": [],
   "source": [
    "def lucky_ingredients_model(chef_name, total_df, nID_ingredients_new_dict):\n",
    "    # Prepare X, Y\n",
    "    updated_matrix, matrixID_ing_dict, X, Y = prepare_XY(chef_name, total_df,nID_ingredients_new_dict)\n",
    "    \n",
    "    # Train\n",
    "    accuracy = train_model(X,Y)\n",
    "    \n",
    "    return accuracy, updated_matrix, matrixID_ing_dict"
   ]
  },
  {
   "cell_type": "code",
   "execution_count": 11,
   "metadata": {},
   "outputs": [],
   "source": [
    "accuracy, updated_matrix, matrixID_ing_dict = lucky_ingredients_model(\"김풍\", match_data, nID_ingredients_new_dict)"
   ]
  },
  {
   "cell_type": "code",
   "execution_count": 12,
   "metadata": {},
   "outputs": [
    {
     "data": {
      "text/plain": [
       "0.7142857142857143"
      ]
     },
     "execution_count": 12,
     "metadata": {},
     "output_type": "execute_result"
    }
   ],
   "source": [
    "accuracy"
   ]
  },
  {
   "cell_type": "markdown",
   "metadata": {},
   "source": [
    "### It looks like 김풍 has lucky food, meaning using ingredients we can predict 김풍's win 71% of the time.\n",
    "Now this is probably wrong. Because my test data size is way way way small. As a proof, if you try this multiple times, you will get an unstable series of accuracy. However, for 김풍, the result was always more than 50%, whereas other chef's value varied from 20% to high 60%. Coincidents? I don't know (I am not joking. I don't know for real)\n",
    "#### -- It does not mean 김풍 only wins with 통조림, 과자, 인스턴트 재료 (as he is portrayed in the show)\n",
    "It probably has to do with the fact that he loses a lot. His winning rate is the thirties. Plus, as I will show in the later section, his lucky food is not all instant ingredients (even though a good portion, it is)\n",
    "#### -- One more time (because it is important) it does not mean that the model is accurate in any sense\n",
    "I need more data. If NBH (냉장고를 부탁해) show goes on for the next 10 years, and I will tell you about the model accuracy then\n",
    "</br>\n",
    "</br>\n",
    "### But surely not bad for the proof of concept!"
   ]
  },
  {
   "cell_type": "markdown",
   "metadata": {},
   "source": [
    "---------------------------------------------\n",
    "# Step 3: Validation\n",
    "Let's manually calculate which food brought the chef a good luck of winning the cooking contest."
   ]
  },
  {
   "cell_type": "markdown",
   "metadata": {},
   "source": [
    "### In all winning matches, see which ingredients brought the most win (out of all the times it was used)."
   ]
  },
  {
   "cell_type": "code",
   "execution_count": 14,
   "metadata": {},
   "outputs": [
    {
     "name": "stdout",
     "output_type": "stream",
     "text": [
      "----------------\n",
      "Lucky food:  부추\n",
      " Used:  3.0  times.\n",
      " Won:  3.0 times.\n",
      "Lucky food:  두부\n",
      " Used:  2.0  times.\n",
      " Won:  2.0 times.\n",
      "Lucky food:  통조림햄\n",
      " Used:  2.0  times.\n",
      " Won:  2.0 times.\n",
      "Lucky food:  카레가루\n",
      " Used:  2.0  times.\n",
      " Won:  2.0 times.\n",
      "Lucky food:  고체카레\n",
      " Used:  2.0  times.\n",
      " Won:  2.0 times.\n"
     ]
    }
   ],
   "source": [
    "lucky_food_matrix = lucky_ingredients(updated_matrix, matrixID_ing_dict)"
   ]
  },
  {
   "cell_type": "markdown",
   "metadata": {},
   "source": [
    "The luckiest food(ingredient) for 김풍 is actually 부추(chives), 두부(tofu), 통조림햄 (canned ham, *ah-yes*), and 카레 (curry). Indeed we have a mixture of vegetables/soy ingredients (chives, tofu) and some that are considered instant (canned ham, curry powder)."
   ]
  },
  {
   "cell_type": "markdown",
   "metadata": {},
   "source": [
    "--------------------------------\n",
    "# Step 4: What about the others? "
   ]
  },
  {
   "cell_type": "markdown",
   "metadata": {},
   "source": [
    "Average of 4 iterations, it looks like 레이먼 킴, 김풍, 박준우 are the ones with lucky food syndrome. Okay just kidding. It is probably too immature to say anything conclusive. 레이먼 킴 has had few weeks of winning streak in the past several weeks, and 박준우's data is too small to compare. But with enough data, may be we can expect more!"
   ]
  },
  {
   "cell_type": "code",
   "execution_count": 789,
   "metadata": {},
   "outputs": [],
   "source": [
    "iter_num = 4\n",
    "chef_for_model = [\"이재훈\",\"이원일\",\"레이먼 킴\",\"미카엘\",\"김풍\",\"정호영\",\"이연복\",\"박준우\",\"오세득\",\"홍석천\",\"최현석\",\"유현수\",\"이찬오\",\"정창욱\",\"샘킴\"]"
   ]
  },
  {
   "cell_type": "code",
   "execution_count": 790,
   "metadata": {},
   "outputs": [
    {
     "name": "stdout",
     "output_type": "stream",
     "text": [
      "0\n",
      "1\n",
      "2\n",
      "3\n",
      "Chef:  이재훈\n",
      "Accuracy:  0.3333333333333333\n",
      "Chef:  이원일\n",
      "Accuracy:  0.45833333333333337\n",
      "Chef:  레이먼 킴\n",
      "Accuracy:  0.75\n",
      "Chef:  미카엘\n",
      "Accuracy:  0.45454545454545453\n",
      "Chef:  김풍\n",
      "Accuracy:  0.6071428571428571\n",
      "Chef:  정호영\n",
      "Accuracy:  0.45\n",
      "Chef:  이연복\n",
      "Accuracy:  0.5576923076923077\n",
      "Chef:  박준우\n",
      "Accuracy:  0.75\n",
      "Chef:  오세득\n",
      "Accuracy:  0.41666666666666663\n",
      "Chef:  홍석천\n",
      "Accuracy:  0.45\n",
      "Chef:  최현석\n",
      "Accuracy:  0.44999999999999996\n",
      "Chef:  유현수\n",
      "Accuracy:  0.44999999999999996\n",
      "Chef:  이찬오\n",
      "Accuracy:  0.45\n",
      "Chef:  정창욱\n",
      "Accuracy:  0.375\n",
      "Chef:  샘킴\n",
      "Accuracy:  0.3846153846153846\n"
     ]
    }
   ],
   "source": [
    "def ingredients_accuracy_itr(iter_num):\n",
    "    chef_accu_dict = {}\n",
    "    for q in range(iter_num):\n",
    "        print(q)\n",
    "        for chef in chef_for_model:\n",
    "            \n",
    "            accuracy, updated_matrix, matrixID_ing_dict = lucky_ingredients_model(chef, match_data)\n",
    "            \n",
    "            if chef not in chef_accu_dict.keys():\n",
    "                chef_accu_dict[chef] = accuracy\n",
    "            else:\n",
    "                chef_accu_dict[chef] += accuracy\n",
    "            \n",
    "    chef_list = [k for k, v in chef_accu_dict.items()]\n",
    "    accuracy_list = np.array([v for k, v in chef_accu_dict.items()])/iter_num\n",
    "    \n",
    "    for idx, chef in enumerate(chef_list):\n",
    "        print(\"Chef: \", chef_list[idx])\n",
    "        print(\"Accuracy: \", accuracy_list[idx])\n",
    "    return chef_list, accuracy_list\n",
    "\n",
    "chef_list, accuracy_list = ingredients_accuracy_itr(iter_num)"
   ]
  }
 ],
 "metadata": {
  "kernelspec": {
   "display_name": "Python 3",
   "language": "python",
   "name": "python3"
  },
  "language_info": {
   "codemirror_mode": {
    "name": "ipython",
    "version": 3
   },
   "file_extension": ".py",
   "mimetype": "text/x-python",
   "name": "python",
   "nbconvert_exporter": "python",
   "pygments_lexer": "ipython3",
   "version": "3.4.5"
  }
 },
 "nbformat": 4,
 "nbformat_minor": 2
}
