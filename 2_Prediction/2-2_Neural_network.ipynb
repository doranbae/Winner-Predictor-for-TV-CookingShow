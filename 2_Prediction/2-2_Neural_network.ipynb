{
 "cells": [
  {
   "cell_type": "markdown",
   "metadata": {},
   "source": [
    "# Features summary\n",
    "1. Elo rating of each chef at the time of the cook-off\n",
    "1. Demography difference between the chef and the guest they are cooking for\n",
    "1. Favorite ingrdients\n"
   ]
  },
  {
   "cell_type": "code",
   "execution_count": 661,
   "metadata": {},
   "outputs": [],
   "source": [
    "from keras.models import Sequential\n",
    "from keras.layers.core import Dense, Dropout, Activation\n",
    "from keras.utils import np_utils\n",
    "import pickle\n",
    "import numpy as np\n",
    "import pandas as pd\n",
    "import copy\n",
    "from collections import Counter"
   ]
  },
  {
   "cell_type": "markdown",
   "metadata": {},
   "source": [
    "# Step 1: Load dataset\n",
    "I imported pickle dataframe which I saved on my previous exercise using elo rating to predict the winner. "
   ]
  },
  {
   "cell_type": "code",
   "execution_count": 2,
   "metadata": {},
   "outputs": [],
   "source": [
    "with open(\"../data/game_episode_data.pkl\", 'rb') as fp:\n",
    "    game_data = pickle.load(fp)\n",
    "    \n",
    "with open(\"../data/elo_df.pkl\", 'rb') as fp:\n",
    "    elo_df = pickle.load(fp)\n",
    "    \n",
    "game_data = game_data.reset_index()\n",
    "elo_df = elo_df.reset_index()"
   ]
  },
  {
   "cell_type": "code",
   "execution_count": 3,
   "metadata": {},
   "outputs": [
    {
     "data": {
      "text/html": [
       "<div>\n",
       "<style>\n",
       "    .dataframe thead tr:only-child th {\n",
       "        text-align: right;\n",
       "    }\n",
       "\n",
       "    .dataframe thead th {\n",
       "        text-align: left;\n",
       "    }\n",
       "\n",
       "    .dataframe tbody tr th {\n",
       "        vertical-align: top;\n",
       "    }\n",
       "</style>\n",
       "<table border=\"1\" class=\"dataframe\">\n",
       "  <thead>\n",
       "    <tr style=\"text-align: right;\">\n",
       "      <th></th>\n",
       "      <th>date</th>\n",
       "      <th>win_name</th>\n",
       "      <th>lose_name</th>\n",
       "      <th>guest_name</th>\n",
       "      <th>w_elo_before_game</th>\n",
       "      <th>l_elo_before_game</th>\n",
       "      <th>win_epi_num</th>\n",
       "      <th>lose_epi_num</th>\n",
       "    </tr>\n",
       "  </thead>\n",
       "  <tbody>\n",
       "    <tr>\n",
       "      <th>0</th>\n",
       "      <td>1/19/2015</td>\n",
       "      <td>최현석</td>\n",
       "      <td>박준우</td>\n",
       "      <td>소유진</td>\n",
       "      <td>1500</td>\n",
       "      <td>1500</td>\n",
       "      <td>-1</td>\n",
       "      <td>-1</td>\n",
       "    </tr>\n",
       "    <tr>\n",
       "      <th>1</th>\n",
       "      <td>1/19/2015</td>\n",
       "      <td>홍석천</td>\n",
       "      <td>샘킴</td>\n",
       "      <td>소유진</td>\n",
       "      <td>1500</td>\n",
       "      <td>1500</td>\n",
       "      <td>-1</td>\n",
       "      <td>-1</td>\n",
       "    </tr>\n",
       "    <tr>\n",
       "      <th>2</th>\n",
       "      <td>1/26/2015</td>\n",
       "      <td>미카엘</td>\n",
       "      <td>김풍</td>\n",
       "      <td>가희</td>\n",
       "      <td>1500</td>\n",
       "      <td>1500</td>\n",
       "      <td>-1</td>\n",
       "      <td>-1</td>\n",
       "    </tr>\n",
       "  </tbody>\n",
       "</table>\n",
       "</div>"
      ],
      "text/plain": [
       "        date win_name lose_name guest_name  w_elo_before_game  \\\n",
       "0  1/19/2015      최현석       박준우        소유진               1500   \n",
       "1  1/19/2015      홍석천        샘킴        소유진               1500   \n",
       "2  1/26/2015      미카엘        김풍         가희               1500   \n",
       "\n",
       "   l_elo_before_game  win_epi_num  lose_epi_num  \n",
       "0               1500           -1            -1  \n",
       "1               1500           -1            -1  \n",
       "2               1500           -1            -1  "
      ]
     },
     "execution_count": 3,
     "metadata": {},
     "output_type": "execute_result"
    }
   ],
   "source": [
    "game_data = game_data.rename(columns = {\"win\": \"win_name\", \"lose\":\"lose_name\",\"date\":\"date_\", \"guest\":\"guest_name\"})\n",
    "game_df = game_data.merge(elo_df)\n",
    "game_df = game_df[[\"date\",\"win_name\",\"lose_name\",\"guest_name\",\"w_elo_before_game\",\"l_elo_before_game\", \"win_epi_num\", \"lose_epi_num\"]]\n",
    "game_df[:3]"
   ]
  },
  {
   "cell_type": "markdown",
   "metadata": {},
   "source": [
    "# Step 2: Add expected win"
   ]
  },
  {
   "cell_type": "code",
   "execution_count": 51,
   "metadata": {},
   "outputs": [],
   "source": [
    "def expected_result(elo_a, elo_b):\n",
    "    expect_a = 1.0/(1+10**((elo_b - elo_a)/elo_width))\n",
    "    return expect_a\n",
    "\n",
    "mean_elo = 1500\n",
    "elo_width = 400\n",
    "k_factor = 64\n",
    "\n",
    "def update_elo(winner_elo, loser_elo):\n",
    "    expected_win = expected_result(winner_elo, loser_elo)\n",
    "    change_in_elo = k_factor * (1-expected_win)\n",
    "    winner_elo += change_in_elo\n",
    "    loser_elo -= change_in_elo\n",
    "    return winner_elo, loser_elo\n"
   ]
  },
  {
   "cell_type": "code",
   "execution_count": 5,
   "metadata": {},
   "outputs": [],
   "source": [
    "elo_a = game_df[\"w_elo_before_game\"].tolist()\n",
    "elo_b = game_df[\"l_elo_before_game\"].tolist()\n",
    "\n",
    "expected_win = []\n",
    "for idx, a in enumerate(elo_a):\n",
    "    expected_a = expected_result(a, elo_b[idx])\n",
    "    expected_win.append(expected_a)"
   ]
  },
  {
   "cell_type": "code",
   "execution_count": 6,
   "metadata": {},
   "outputs": [],
   "source": [
    "game_df[\"w_win_prob\"] = pd.Series(expected_win).values\n",
    "game_df[\"l_win_prob\"] = 1 - game_df[\"w_win_prob\"]"
   ]
  },
  {
   "cell_type": "code",
   "execution_count": 7,
   "metadata": {},
   "outputs": [
    {
     "data": {
      "text/html": [
       "<div>\n",
       "<style>\n",
       "    .dataframe thead tr:only-child th {\n",
       "        text-align: right;\n",
       "    }\n",
       "\n",
       "    .dataframe thead th {\n",
       "        text-align: left;\n",
       "    }\n",
       "\n",
       "    .dataframe tbody tr th {\n",
       "        vertical-align: top;\n",
       "    }\n",
       "</style>\n",
       "<table border=\"1\" class=\"dataframe\">\n",
       "  <thead>\n",
       "    <tr style=\"text-align: right;\">\n",
       "      <th></th>\n",
       "      <th>date</th>\n",
       "      <th>win_name</th>\n",
       "      <th>lose_name</th>\n",
       "      <th>guest_name</th>\n",
       "      <th>w_elo_before_game</th>\n",
       "      <th>l_elo_before_game</th>\n",
       "      <th>win_epi_num</th>\n",
       "      <th>lose_epi_num</th>\n",
       "      <th>w_win_prob</th>\n",
       "      <th>l_win_prob</th>\n",
       "    </tr>\n",
       "  </thead>\n",
       "  <tbody>\n",
       "    <tr>\n",
       "      <th>303</th>\n",
       "      <td>1/8/2018</td>\n",
       "      <td>미카엘</td>\n",
       "      <td>레이먼 킴</td>\n",
       "      <td>장서희</td>\n",
       "      <td>1406</td>\n",
       "      <td>1645</td>\n",
       "      <td>6568</td>\n",
       "      <td>6567</td>\n",
       "      <td>0.201685</td>\n",
       "      <td>0.798315</td>\n",
       "    </tr>\n",
       "    <tr>\n",
       "      <th>304</th>\n",
       "      <td>1/8/2018</td>\n",
       "      <td>오세득</td>\n",
       "      <td>김풍</td>\n",
       "      <td>장서희</td>\n",
       "      <td>1559</td>\n",
       "      <td>1370</td>\n",
       "      <td>6566</td>\n",
       "      <td>6565</td>\n",
       "      <td>0.748000</td>\n",
       "      <td>0.252000</td>\n",
       "    </tr>\n",
       "    <tr>\n",
       "      <th>305</th>\n",
       "      <td>1/15/2018</td>\n",
       "      <td>오세득</td>\n",
       "      <td>유현수</td>\n",
       "      <td>데프콘_(가수)</td>\n",
       "      <td>1575</td>\n",
       "      <td>1485</td>\n",
       "      <td>6572</td>\n",
       "      <td>6571</td>\n",
       "      <td>0.626699</td>\n",
       "      <td>0.373301</td>\n",
       "    </tr>\n",
       "    <tr>\n",
       "      <th>306</th>\n",
       "      <td>1/15/2018</td>\n",
       "      <td>김풍</td>\n",
       "      <td>이연복</td>\n",
       "      <td>데프콘_(가수)</td>\n",
       "      <td>1354</td>\n",
       "      <td>1644</td>\n",
       "      <td>6569</td>\n",
       "      <td>6570</td>\n",
       "      <td>0.158508</td>\n",
       "      <td>0.841492</td>\n",
       "    </tr>\n",
       "    <tr>\n",
       "      <th>307</th>\n",
       "      <td>1/22/2018</td>\n",
       "      <td>샘킴</td>\n",
       "      <td>정호영</td>\n",
       "      <td>김동현_(격투기_선수)</td>\n",
       "      <td>1471</td>\n",
       "      <td>1503</td>\n",
       "      <td>6575</td>\n",
       "      <td>6576</td>\n",
       "      <td>0.454078</td>\n",
       "      <td>0.545922</td>\n",
       "    </tr>\n",
       "    <tr>\n",
       "      <th>308</th>\n",
       "      <td>1/22/2018</td>\n",
       "      <td>정지선</td>\n",
       "      <td>레이먼 킴</td>\n",
       "      <td>김동현_(격투기_선수)</td>\n",
       "      <td>1500</td>\n",
       "      <td>1594</td>\n",
       "      <td>6574</td>\n",
       "      <td>-1</td>\n",
       "      <td>0.367930</td>\n",
       "      <td>0.632070</td>\n",
       "    </tr>\n",
       "    <tr>\n",
       "      <th>309</th>\n",
       "      <td>1/29/2018</td>\n",
       "      <td>유현수</td>\n",
       "      <td>정지선</td>\n",
       "      <td>이계인</td>\n",
       "      <td>1461</td>\n",
       "      <td>1540</td>\n",
       "      <td>6579</td>\n",
       "      <td>6580</td>\n",
       "      <td>0.388229</td>\n",
       "      <td>0.611771</td>\n",
       "    </tr>\n",
       "    <tr>\n",
       "      <th>310</th>\n",
       "      <td>1/29/2018</td>\n",
       "      <td>김풍</td>\n",
       "      <td>정호영</td>\n",
       "      <td>이계인</td>\n",
       "      <td>1408</td>\n",
       "      <td>1468</td>\n",
       "      <td>6577</td>\n",
       "      <td>6578</td>\n",
       "      <td>0.414501</td>\n",
       "      <td>0.585499</td>\n",
       "    </tr>\n",
       "    <tr>\n",
       "      <th>311</th>\n",
       "      <td>2/5/2018</td>\n",
       "      <td>레이먼 킴</td>\n",
       "      <td>샘킴</td>\n",
       "      <td>김신영</td>\n",
       "      <td>1554</td>\n",
       "      <td>1506</td>\n",
       "      <td>6584</td>\n",
       "      <td>6583</td>\n",
       "      <td>0.568641</td>\n",
       "      <td>0.431359</td>\n",
       "    </tr>\n",
       "    <tr>\n",
       "      <th>312</th>\n",
       "      <td>2/5/2018</td>\n",
       "      <td>미카엘</td>\n",
       "      <td>이연복</td>\n",
       "      <td>김신영</td>\n",
       "      <td>1458</td>\n",
       "      <td>1590</td>\n",
       "      <td>6582</td>\n",
       "      <td>6581</td>\n",
       "      <td>0.318678</td>\n",
       "      <td>0.681322</td>\n",
       "    </tr>\n",
       "  </tbody>\n",
       "</table>\n",
       "</div>"
      ],
      "text/plain": [
       "          date win_name lose_name    guest_name  w_elo_before_game  \\\n",
       "303   1/8/2018      미카엘     레이먼 킴           장서희               1406   \n",
       "304   1/8/2018      오세득        김풍           장서희               1559   \n",
       "305  1/15/2018      오세득       유현수      데프콘_(가수)               1575   \n",
       "306  1/15/2018       김풍       이연복      데프콘_(가수)               1354   \n",
       "307  1/22/2018       샘킴       정호영  김동현_(격투기_선수)               1471   \n",
       "308  1/22/2018      정지선     레이먼 킴  김동현_(격투기_선수)               1500   \n",
       "309  1/29/2018      유현수       정지선           이계인               1461   \n",
       "310  1/29/2018       김풍       정호영           이계인               1408   \n",
       "311   2/5/2018    레이먼 킴        샘킴           김신영               1554   \n",
       "312   2/5/2018      미카엘       이연복           김신영               1458   \n",
       "\n",
       "     l_elo_before_game  win_epi_num  lose_epi_num  w_win_prob  l_win_prob  \n",
       "303               1645         6568          6567    0.201685    0.798315  \n",
       "304               1370         6566          6565    0.748000    0.252000  \n",
       "305               1485         6572          6571    0.626699    0.373301  \n",
       "306               1644         6569          6570    0.158508    0.841492  \n",
       "307               1503         6575          6576    0.454078    0.545922  \n",
       "308               1594         6574            -1    0.367930    0.632070  \n",
       "309               1540         6579          6580    0.388229    0.611771  \n",
       "310               1468         6577          6578    0.414501    0.585499  \n",
       "311               1506         6584          6583    0.568641    0.431359  \n",
       "312               1590         6582          6581    0.318678    0.681322  "
      ]
     },
     "execution_count": 7,
     "metadata": {},
     "output_type": "execute_result"
    }
   ],
   "source": [
    "game_df[-10:]"
   ]
  },
  {
   "cell_type": "markdown",
   "metadata": {},
   "source": [
    "# Step 4: Reshape dataframe"
   ]
  },
  {
   "cell_type": "code",
   "execution_count": 8,
   "metadata": {},
   "outputs": [
    {
     "data": {
      "text/html": [
       "<div>\n",
       "<style>\n",
       "    .dataframe thead tr:only-child th {\n",
       "        text-align: right;\n",
       "    }\n",
       "\n",
       "    .dataframe thead th {\n",
       "        text-align: left;\n",
       "    }\n",
       "\n",
       "    .dataframe tbody tr th {\n",
       "        vertical-align: top;\n",
       "    }\n",
       "</style>\n",
       "<table border=\"1\" class=\"dataframe\">\n",
       "  <thead>\n",
       "    <tr style=\"text-align: right;\">\n",
       "      <th></th>\n",
       "      <th>index</th>\n",
       "      <th>date</th>\n",
       "      <th>chef_name</th>\n",
       "      <th>against</th>\n",
       "      <th>guest_name</th>\n",
       "      <th>epi_num</th>\n",
       "      <th>win_prob</th>\n",
       "      <th>result</th>\n",
       "    </tr>\n",
       "  </thead>\n",
       "  <tbody>\n",
       "    <tr>\n",
       "      <th>0</th>\n",
       "      <td>0</td>\n",
       "      <td>1/19/2015</td>\n",
       "      <td>최현석</td>\n",
       "      <td>박준우</td>\n",
       "      <td>소유진</td>\n",
       "      <td>-1</td>\n",
       "      <td>0.5</td>\n",
       "      <td>1</td>\n",
       "    </tr>\n",
       "    <tr>\n",
       "      <th>1</th>\n",
       "      <td>1</td>\n",
       "      <td>1/19/2015</td>\n",
       "      <td>홍석천</td>\n",
       "      <td>샘킴</td>\n",
       "      <td>소유진</td>\n",
       "      <td>-1</td>\n",
       "      <td>0.5</td>\n",
       "      <td>1</td>\n",
       "    </tr>\n",
       "    <tr>\n",
       "      <th>2</th>\n",
       "      <td>2</td>\n",
       "      <td>1/26/2015</td>\n",
       "      <td>미카엘</td>\n",
       "      <td>김풍</td>\n",
       "      <td>가희</td>\n",
       "      <td>-1</td>\n",
       "      <td>0.5</td>\n",
       "      <td>1</td>\n",
       "    </tr>\n",
       "  </tbody>\n",
       "</table>\n",
       "</div>"
      ],
      "text/plain": [
       "   index       date chef_name against guest_name  epi_num  win_prob  result\n",
       "0      0  1/19/2015       최현석     박준우        소유진       -1       0.5       1\n",
       "1      1  1/19/2015       홍석천      샘킴        소유진       -1       0.5       1\n",
       "2      2  1/26/2015       미카엘      김풍         가희       -1       0.5       1"
      ]
     },
     "execution_count": 8,
     "metadata": {},
     "output_type": "execute_result"
    }
   ],
   "source": [
    "win_table = game_df[[\"date\",\"win_name\",\"lose_name\", \"guest_name\",\"win_epi_num\",\"w_win_prob\"]]\n",
    "win_table = win_table.rename(columns = {\"win_name\": \"chef_name\",\"lose_name\": \"against\",\"win_epi_num\":\"epi_num\",\"w_win_prob\":\"win_prob\"})\n",
    "win_table[\"result\"] = 1\n",
    "win_table = win_table.reset_index()\n",
    "win_table[:3]"
   ]
  },
  {
   "cell_type": "code",
   "execution_count": 9,
   "metadata": {},
   "outputs": [
    {
     "data": {
      "text/html": [
       "<div>\n",
       "<style>\n",
       "    .dataframe thead tr:only-child th {\n",
       "        text-align: right;\n",
       "    }\n",
       "\n",
       "    .dataframe thead th {\n",
       "        text-align: left;\n",
       "    }\n",
       "\n",
       "    .dataframe tbody tr th {\n",
       "        vertical-align: top;\n",
       "    }\n",
       "</style>\n",
       "<table border=\"1\" class=\"dataframe\">\n",
       "  <thead>\n",
       "    <tr style=\"text-align: right;\">\n",
       "      <th></th>\n",
       "      <th>index</th>\n",
       "      <th>date</th>\n",
       "      <th>chef_name</th>\n",
       "      <th>against</th>\n",
       "      <th>guest_name</th>\n",
       "      <th>epi_num</th>\n",
       "      <th>win_prob</th>\n",
       "      <th>result</th>\n",
       "    </tr>\n",
       "  </thead>\n",
       "  <tbody>\n",
       "    <tr>\n",
       "      <th>0</th>\n",
       "      <td>0</td>\n",
       "      <td>1/19/2015</td>\n",
       "      <td>박준우</td>\n",
       "      <td>최현석</td>\n",
       "      <td>소유진</td>\n",
       "      <td>-1</td>\n",
       "      <td>0.5</td>\n",
       "      <td>0</td>\n",
       "    </tr>\n",
       "    <tr>\n",
       "      <th>1</th>\n",
       "      <td>1</td>\n",
       "      <td>1/19/2015</td>\n",
       "      <td>샘킴</td>\n",
       "      <td>홍석천</td>\n",
       "      <td>소유진</td>\n",
       "      <td>-1</td>\n",
       "      <td>0.5</td>\n",
       "      <td>0</td>\n",
       "    </tr>\n",
       "    <tr>\n",
       "      <th>2</th>\n",
       "      <td>2</td>\n",
       "      <td>1/26/2015</td>\n",
       "      <td>김풍</td>\n",
       "      <td>미카엘</td>\n",
       "      <td>가희</td>\n",
       "      <td>-1</td>\n",
       "      <td>0.5</td>\n",
       "      <td>0</td>\n",
       "    </tr>\n",
       "  </tbody>\n",
       "</table>\n",
       "</div>"
      ],
      "text/plain": [
       "   index       date chef_name against guest_name  epi_num  win_prob  result\n",
       "0      0  1/19/2015       박준우     최현석        소유진       -1       0.5       0\n",
       "1      1  1/19/2015        샘킴     홍석천        소유진       -1       0.5       0\n",
       "2      2  1/26/2015        김풍     미카엘         가희       -1       0.5       0"
      ]
     },
     "execution_count": 9,
     "metadata": {},
     "output_type": "execute_result"
    }
   ],
   "source": [
    "lose_table = game_df[[\"date\",\"lose_name\",\"win_name\", \"guest_name\",\"lose_epi_num\",\"l_win_prob\"]]\n",
    "lose_table = lose_table.rename(columns = {\"lose_name\": \"chef_name\",\"win_name\": \"against\",\"lose_epi_num\":\"epi_num\",\"l_win_prob\":\"win_prob\"})\n",
    "lose_table[\"result\"] = 0\n",
    "lose_table = lose_table.reset_index()\n",
    "lose_table[:3]"
   ]
  },
  {
   "cell_type": "code",
   "execution_count": 196,
   "metadata": {},
   "outputs": [
    {
     "data": {
      "text/html": [
       "<div>\n",
       "<style>\n",
       "    .dataframe thead tr:only-child th {\n",
       "        text-align: right;\n",
       "    }\n",
       "\n",
       "    .dataframe thead th {\n",
       "        text-align: left;\n",
       "    }\n",
       "\n",
       "    .dataframe tbody tr th {\n",
       "        vertical-align: top;\n",
       "    }\n",
       "</style>\n",
       "<table border=\"1\" class=\"dataframe\">\n",
       "  <thead>\n",
       "    <tr style=\"text-align: right;\">\n",
       "      <th></th>\n",
       "      <th>index</th>\n",
       "      <th>date</th>\n",
       "      <th>chef_name</th>\n",
       "      <th>against</th>\n",
       "      <th>guest_name</th>\n",
       "      <th>epi_num</th>\n",
       "      <th>win_prob</th>\n",
       "      <th>result</th>\n",
       "    </tr>\n",
       "  </thead>\n",
       "  <tbody>\n",
       "    <tr>\n",
       "      <th>0</th>\n",
       "      <td>0</td>\n",
       "      <td>1/19/2015</td>\n",
       "      <td>최현석</td>\n",
       "      <td>박준우</td>\n",
       "      <td>소유진</td>\n",
       "      <td>-1</td>\n",
       "      <td>0.5</td>\n",
       "      <td>1</td>\n",
       "    </tr>\n",
       "    <tr>\n",
       "      <th>1</th>\n",
       "      <td>1</td>\n",
       "      <td>1/19/2015</td>\n",
       "      <td>홍석천</td>\n",
       "      <td>샘킴</td>\n",
       "      <td>소유진</td>\n",
       "      <td>-1</td>\n",
       "      <td>0.5</td>\n",
       "      <td>1</td>\n",
       "    </tr>\n",
       "    <tr>\n",
       "      <th>2</th>\n",
       "      <td>2</td>\n",
       "      <td>1/26/2015</td>\n",
       "      <td>미카엘</td>\n",
       "      <td>김풍</td>\n",
       "      <td>가희</td>\n",
       "      <td>-1</td>\n",
       "      <td>0.5</td>\n",
       "      <td>1</td>\n",
       "    </tr>\n",
       "  </tbody>\n",
       "</table>\n",
       "</div>"
      ],
      "text/plain": [
       "   index       date chef_name against guest_name  epi_num  win_prob  result\n",
       "0      0  1/19/2015       최현석     박준우        소유진       -1       0.5       1\n",
       "1      1  1/19/2015       홍석천      샘킴        소유진       -1       0.5       1\n",
       "2      2  1/26/2015       미카엘      김풍         가희       -1       0.5       1"
      ]
     },
     "execution_count": 196,
     "metadata": {},
     "output_type": "execute_result"
    }
   ],
   "source": [
    "match_data = win_table.append(lose_table)\n",
    "match_data[:3]"
   ]
  },
  {
   "cell_type": "code",
   "execution_count": 197,
   "metadata": {},
   "outputs": [
    {
     "name": "stdout",
     "output_type": "stream",
     "text": [
      "313\n",
      "313\n",
      "626\n"
     ]
    }
   ],
   "source": [
    "print(len(win_table))\n",
    "print(len(lose_table))\n",
    "print(len(match_data))"
   ]
  },
  {
   "cell_type": "code",
   "execution_count": 198,
   "metadata": {},
   "outputs": [
    {
     "data": {
      "text/html": [
       "<div>\n",
       "<style>\n",
       "    .dataframe thead tr:only-child th {\n",
       "        text-align: right;\n",
       "    }\n",
       "\n",
       "    .dataframe thead th {\n",
       "        text-align: left;\n",
       "    }\n",
       "\n",
       "    .dataframe tbody tr th {\n",
       "        vertical-align: top;\n",
       "    }\n",
       "</style>\n",
       "<table border=\"1\" class=\"dataframe\">\n",
       "  <thead>\n",
       "    <tr style=\"text-align: right;\">\n",
       "      <th></th>\n",
       "      <th>index</th>\n",
       "      <th>date</th>\n",
       "      <th>chef_name</th>\n",
       "      <th>against</th>\n",
       "      <th>guest_name</th>\n",
       "      <th>epi_num</th>\n",
       "      <th>win_prob</th>\n",
       "      <th>result</th>\n",
       "    </tr>\n",
       "  </thead>\n",
       "  <tbody>\n",
       "    <tr>\n",
       "      <th>0</th>\n",
       "      <td>0</td>\n",
       "      <td>1/19/2015</td>\n",
       "      <td>최현석</td>\n",
       "      <td>박준우</td>\n",
       "      <td>소유진</td>\n",
       "      <td>-1</td>\n",
       "      <td>0.5</td>\n",
       "      <td>1</td>\n",
       "    </tr>\n",
       "    <tr>\n",
       "      <th>0</th>\n",
       "      <td>0</td>\n",
       "      <td>1/19/2015</td>\n",
       "      <td>박준우</td>\n",
       "      <td>최현석</td>\n",
       "      <td>소유진</td>\n",
       "      <td>-1</td>\n",
       "      <td>0.5</td>\n",
       "      <td>0</td>\n",
       "    </tr>\n",
       "    <tr>\n",
       "      <th>1</th>\n",
       "      <td>1</td>\n",
       "      <td>1/19/2015</td>\n",
       "      <td>샘킴</td>\n",
       "      <td>홍석천</td>\n",
       "      <td>소유진</td>\n",
       "      <td>-1</td>\n",
       "      <td>0.5</td>\n",
       "      <td>0</td>\n",
       "    </tr>\n",
       "    <tr>\n",
       "      <th>1</th>\n",
       "      <td>1</td>\n",
       "      <td>1/19/2015</td>\n",
       "      <td>홍석천</td>\n",
       "      <td>샘킴</td>\n",
       "      <td>소유진</td>\n",
       "      <td>-1</td>\n",
       "      <td>0.5</td>\n",
       "      <td>1</td>\n",
       "    </tr>\n",
       "    <tr>\n",
       "      <th>2</th>\n",
       "      <td>2</td>\n",
       "      <td>1/26/2015</td>\n",
       "      <td>미카엘</td>\n",
       "      <td>김풍</td>\n",
       "      <td>가희</td>\n",
       "      <td>-1</td>\n",
       "      <td>0.5</td>\n",
       "      <td>1</td>\n",
       "    </tr>\n",
       "  </tbody>\n",
       "</table>\n",
       "</div>"
      ],
      "text/plain": [
       "   index       date chef_name against guest_name  epi_num  win_prob  result\n",
       "0      0  1/19/2015       최현석     박준우        소유진       -1       0.5       1\n",
       "0      0  1/19/2015       박준우     최현석        소유진       -1       0.5       0\n",
       "1      1  1/19/2015        샘킴     홍석천        소유진       -1       0.5       0\n",
       "1      1  1/19/2015       홍석천      샘킴        소유진       -1       0.5       1\n",
       "2      2  1/26/2015       미카엘      김풍         가희       -1       0.5       1"
      ]
     },
     "execution_count": 198,
     "metadata": {},
     "output_type": "execute_result"
    }
   ],
   "source": [
    "match_data = match_data.sort_values(by = \"index\", ascending = True)\n",
    "match_data[:5]"
   ]
  },
  {
   "cell_type": "markdown",
   "metadata": {},
   "source": [
    "# Step 3: Additional data (age, gender, etc)"
   ]
  },
  {
   "cell_type": "code",
   "execution_count": 199,
   "metadata": {},
   "outputs": [],
   "source": [
    "with open(\"../data/person_age_dict.pkl\", 'rb') as fp:\n",
    "    person_age_dict = pickle.load(fp)"
   ]
  },
  {
   "cell_type": "code",
   "execution_count": 200,
   "metadata": {},
   "outputs": [],
   "source": [
    "with open(\"../data/id_chef_dict.pkl\", 'rb') as fp:\n",
    "    id_chef_dict = pickle.load(fp)"
   ]
  },
  {
   "cell_type": "markdown",
   "metadata": {},
   "source": [
    "## Add chef age - guest age"
   ]
  },
  {
   "cell_type": "code",
   "execution_count": 203,
   "metadata": {},
   "outputs": [],
   "source": [
    "# with open(\"../data/chef_age_dict.pkl\", 'wb') as fp:\n",
    "#     pickle.dump(chef_age_dict, fp)\n",
    "    \n",
    "with open(\"../data/chef_age_dict.pkl\", 'rb') as fp:\n",
    "    chef_age_dict = pickle.load(fp)"
   ]
  },
  {
   "cell_type": "code",
   "execution_count": 204,
   "metadata": {},
   "outputs": [],
   "source": [
    "# with open(\"../data/chef_gender_dict.pkl\", 'wb') as fp:\n",
    "#     pickle.dump(chef_gender_dict, fp)\n",
    "    \n",
    "with open(\"../data/chef_gender_dict.pkl\", 'rb') as fp:\n",
    "    chef_gender_dict = pickle.load(fp)"
   ]
  },
  {
   "cell_type": "code",
   "execution_count": 205,
   "metadata": {},
   "outputs": [],
   "source": [
    "with open(\"../data/people_df.pkl\", 'rb') as fp:\n",
    "    people_df = pickle.load(fp)"
   ]
  },
  {
   "cell_type": "code",
   "execution_count": 206,
   "metadata": {},
   "outputs": [
    {
     "data": {
      "text/html": [
       "<div>\n",
       "<style>\n",
       "    .dataframe thead tr:only-child th {\n",
       "        text-align: right;\n",
       "    }\n",
       "\n",
       "    .dataframe thead th {\n",
       "        text-align: left;\n",
       "    }\n",
       "\n",
       "    .dataframe tbody tr th {\n",
       "        vertical-align: top;\n",
       "    }\n",
       "</style>\n",
       "<table border=\"1\" class=\"dataframe\">\n",
       "  <thead>\n",
       "    <tr style=\"text-align: right;\">\n",
       "      <th></th>\n",
       "      <th>names</th>\n",
       "      <th>gender</th>\n",
       "      <th>category</th>\n",
       "      <th>age</th>\n",
       "    </tr>\n",
       "  </thead>\n",
       "  <tbody>\n",
       "    <tr>\n",
       "      <th>0</th>\n",
       "      <td>이대호</td>\n",
       "      <td>1</td>\n",
       "      <td>guest</td>\n",
       "      <td>36</td>\n",
       "    </tr>\n",
       "    <tr>\n",
       "      <th>1</th>\n",
       "      <td>김성균_(배우)</td>\n",
       "      <td>1</td>\n",
       "      <td>guest</td>\n",
       "      <td>38</td>\n",
       "    </tr>\n",
       "    <tr>\n",
       "      <th>2</th>\n",
       "      <td>소미</td>\n",
       "      <td>0</td>\n",
       "      <td>guest</td>\n",
       "      <td>17</td>\n",
       "    </tr>\n",
       "  </tbody>\n",
       "</table>\n",
       "</div>"
      ],
      "text/plain": [
       "      names  gender category  age\n",
       "0       이대호       1    guest   36\n",
       "1  김성균_(배우)       1    guest   38\n",
       "2        소미       0    guest   17"
      ]
     },
     "execution_count": 206,
     "metadata": {},
     "output_type": "execute_result"
    }
   ],
   "source": [
    "people_df[:3]"
   ]
  },
  {
   "cell_type": "code",
   "execution_count": 207,
   "metadata": {},
   "outputs": [],
   "source": [
    "people_gender_dict = dict(zip(people_df.names, people_df.gender))"
   ]
  },
  {
   "cell_type": "code",
   "execution_count": 208,
   "metadata": {},
   "outputs": [],
   "source": [
    "# with open(\"../data/people_gender_dict.pkl\", 'wb') as fp:\n",
    "#     pickle.dump(people_gender_dict, fp)\n",
    "    \n",
    "with open(\"../data/people_gender_dict.pkl\", 'rb') as fp:\n",
    "    people_gender_dict = pickle.load(fp)"
   ]
  },
  {
   "cell_type": "code",
   "execution_count": 209,
   "metadata": {},
   "outputs": [],
   "source": [
    "match_data[\"c_age\"] = match_data[\"chef_name\"].apply(lambda x: chef_age_dict.get(x,-1))\n",
    "match_data[\"g_age\"] = match_data[\"guest_name\"].apply(lambda x: person_age_dict.get(x,-1))\n",
    "match_data[\"age_delta\"] = abs(match_data.c_age - match_data.g_age)"
   ]
  },
  {
   "cell_type": "code",
   "execution_count": 210,
   "metadata": {},
   "outputs": [
    {
     "data": {
      "text/html": [
       "<div>\n",
       "<style>\n",
       "    .dataframe thead tr:only-child th {\n",
       "        text-align: right;\n",
       "    }\n",
       "\n",
       "    .dataframe thead th {\n",
       "        text-align: left;\n",
       "    }\n",
       "\n",
       "    .dataframe tbody tr th {\n",
       "        vertical-align: top;\n",
       "    }\n",
       "</style>\n",
       "<table border=\"1\" class=\"dataframe\">\n",
       "  <thead>\n",
       "    <tr style=\"text-align: right;\">\n",
       "      <th></th>\n",
       "      <th>index</th>\n",
       "      <th>date</th>\n",
       "      <th>chef_name</th>\n",
       "      <th>against</th>\n",
       "      <th>guest_name</th>\n",
       "      <th>epi_num</th>\n",
       "      <th>win_prob</th>\n",
       "      <th>result</th>\n",
       "      <th>c_age</th>\n",
       "      <th>g_age</th>\n",
       "      <th>age_delta</th>\n",
       "    </tr>\n",
       "  </thead>\n",
       "  <tbody>\n",
       "    <tr>\n",
       "      <th>0</th>\n",
       "      <td>0</td>\n",
       "      <td>1/19/2015</td>\n",
       "      <td>최현석</td>\n",
       "      <td>박준우</td>\n",
       "      <td>소유진</td>\n",
       "      <td>-1</td>\n",
       "      <td>0.5</td>\n",
       "      <td>1</td>\n",
       "      <td>46</td>\n",
       "      <td>37</td>\n",
       "      <td>9</td>\n",
       "    </tr>\n",
       "    <tr>\n",
       "      <th>0</th>\n",
       "      <td>0</td>\n",
       "      <td>1/19/2015</td>\n",
       "      <td>박준우</td>\n",
       "      <td>최현석</td>\n",
       "      <td>소유진</td>\n",
       "      <td>-1</td>\n",
       "      <td>0.5</td>\n",
       "      <td>0</td>\n",
       "      <td>35</td>\n",
       "      <td>37</td>\n",
       "      <td>2</td>\n",
       "    </tr>\n",
       "    <tr>\n",
       "      <th>1</th>\n",
       "      <td>1</td>\n",
       "      <td>1/19/2015</td>\n",
       "      <td>샘킴</td>\n",
       "      <td>홍석천</td>\n",
       "      <td>소유진</td>\n",
       "      <td>-1</td>\n",
       "      <td>0.5</td>\n",
       "      <td>0</td>\n",
       "      <td>41</td>\n",
       "      <td>37</td>\n",
       "      <td>4</td>\n",
       "    </tr>\n",
       "  </tbody>\n",
       "</table>\n",
       "</div>"
      ],
      "text/plain": [
       "   index       date chef_name against guest_name  epi_num  win_prob  result  \\\n",
       "0      0  1/19/2015       최현석     박준우        소유진       -1       0.5       1   \n",
       "0      0  1/19/2015       박준우     최현석        소유진       -1       0.5       0   \n",
       "1      1  1/19/2015        샘킴     홍석천        소유진       -1       0.5       0   \n",
       "\n",
       "   c_age  g_age  age_delta  \n",
       "0     46     37          9  \n",
       "0     35     37          2  \n",
       "1     41     37          4  "
      ]
     },
     "execution_count": 210,
     "metadata": {},
     "output_type": "execute_result"
    }
   ],
   "source": [
    "match_data[:3]"
   ]
  },
  {
   "cell_type": "code",
   "execution_count": 211,
   "metadata": {},
   "outputs": [],
   "source": [
    "match_data[\"c_gender\"] = match_data[\"chef_name\"].apply(lambda x: chef_gender_dict.get(x,-1))\n",
    "match_data[\"g_gender\"] = match_data[\"guest_name\"].apply(lambda x: people_gender_dict.get(x,-1))\n",
    "match_data[\"gender_delta\"] = abs(match_data.c_gender - match_data.g_gender)"
   ]
  },
  {
   "cell_type": "code",
   "execution_count": 212,
   "metadata": {},
   "outputs": [
    {
     "data": {
      "text/html": [
       "<div>\n",
       "<style>\n",
       "    .dataframe thead tr:only-child th {\n",
       "        text-align: right;\n",
       "    }\n",
       "\n",
       "    .dataframe thead th {\n",
       "        text-align: left;\n",
       "    }\n",
       "\n",
       "    .dataframe tbody tr th {\n",
       "        vertical-align: top;\n",
       "    }\n",
       "</style>\n",
       "<table border=\"1\" class=\"dataframe\">\n",
       "  <thead>\n",
       "    <tr style=\"text-align: right;\">\n",
       "      <th></th>\n",
       "      <th>index</th>\n",
       "      <th>date</th>\n",
       "      <th>chef_name</th>\n",
       "      <th>against</th>\n",
       "      <th>guest_name</th>\n",
       "      <th>epi_num</th>\n",
       "      <th>win_prob</th>\n",
       "      <th>result</th>\n",
       "      <th>c_age</th>\n",
       "      <th>g_age</th>\n",
       "      <th>age_delta</th>\n",
       "      <th>c_gender</th>\n",
       "      <th>g_gender</th>\n",
       "      <th>gender_delta</th>\n",
       "    </tr>\n",
       "  </thead>\n",
       "  <tbody>\n",
       "    <tr>\n",
       "      <th>0</th>\n",
       "      <td>0</td>\n",
       "      <td>1/19/2015</td>\n",
       "      <td>최현석</td>\n",
       "      <td>박준우</td>\n",
       "      <td>소유진</td>\n",
       "      <td>-1</td>\n",
       "      <td>0.5</td>\n",
       "      <td>1</td>\n",
       "      <td>46</td>\n",
       "      <td>37</td>\n",
       "      <td>9</td>\n",
       "      <td>1</td>\n",
       "      <td>0</td>\n",
       "      <td>1</td>\n",
       "    </tr>\n",
       "    <tr>\n",
       "      <th>0</th>\n",
       "      <td>0</td>\n",
       "      <td>1/19/2015</td>\n",
       "      <td>박준우</td>\n",
       "      <td>최현석</td>\n",
       "      <td>소유진</td>\n",
       "      <td>-1</td>\n",
       "      <td>0.5</td>\n",
       "      <td>0</td>\n",
       "      <td>35</td>\n",
       "      <td>37</td>\n",
       "      <td>2</td>\n",
       "      <td>1</td>\n",
       "      <td>0</td>\n",
       "      <td>1</td>\n",
       "    </tr>\n",
       "    <tr>\n",
       "      <th>1</th>\n",
       "      <td>1</td>\n",
       "      <td>1/19/2015</td>\n",
       "      <td>샘킴</td>\n",
       "      <td>홍석천</td>\n",
       "      <td>소유진</td>\n",
       "      <td>-1</td>\n",
       "      <td>0.5</td>\n",
       "      <td>0</td>\n",
       "      <td>41</td>\n",
       "      <td>37</td>\n",
       "      <td>4</td>\n",
       "      <td>1</td>\n",
       "      <td>0</td>\n",
       "      <td>1</td>\n",
       "    </tr>\n",
       "  </tbody>\n",
       "</table>\n",
       "</div>"
      ],
      "text/plain": [
       "   index       date chef_name against guest_name  epi_num  win_prob  result  \\\n",
       "0      0  1/19/2015       최현석     박준우        소유진       -1       0.5       1   \n",
       "0      0  1/19/2015       박준우     최현석        소유진       -1       0.5       0   \n",
       "1      1  1/19/2015        샘킴     홍석천        소유진       -1       0.5       0   \n",
       "\n",
       "   c_age  g_age  age_delta  c_gender  g_gender  gender_delta  \n",
       "0     46     37          9         1         0             1  \n",
       "0     35     37          2         1         0             1  \n",
       "1     41     37          4         1         0             1  "
      ]
     },
     "execution_count": 212,
     "metadata": {},
     "output_type": "execute_result"
    }
   ],
   "source": [
    "match_data[:3]"
   ]
  },
  {
   "cell_type": "code",
   "execution_count": 213,
   "metadata": {},
   "outputs": [],
   "source": [
    "match_data = match_data.reset_index()"
   ]
  },
  {
   "cell_type": "code",
   "execution_count": 214,
   "metadata": {},
   "outputs": [
    {
     "data": {
      "text/html": [
       "<div>\n",
       "<style>\n",
       "    .dataframe thead tr:only-child th {\n",
       "        text-align: right;\n",
       "    }\n",
       "\n",
       "    .dataframe thead th {\n",
       "        text-align: left;\n",
       "    }\n",
       "\n",
       "    .dataframe tbody tr th {\n",
       "        vertical-align: top;\n",
       "    }\n",
       "</style>\n",
       "<table border=\"1\" class=\"dataframe\">\n",
       "  <thead>\n",
       "    <tr style=\"text-align: right;\">\n",
       "      <th></th>\n",
       "      <th>level_0</th>\n",
       "      <th>index</th>\n",
       "      <th>date</th>\n",
       "      <th>chef_name</th>\n",
       "      <th>against</th>\n",
       "      <th>guest_name</th>\n",
       "      <th>epi_num</th>\n",
       "      <th>win_prob</th>\n",
       "      <th>result</th>\n",
       "      <th>c_age</th>\n",
       "      <th>g_age</th>\n",
       "      <th>age_delta</th>\n",
       "      <th>c_gender</th>\n",
       "      <th>g_gender</th>\n",
       "      <th>gender_delta</th>\n",
       "    </tr>\n",
       "  </thead>\n",
       "  <tbody>\n",
       "    <tr>\n",
       "      <th>0</th>\n",
       "      <td>0</td>\n",
       "      <td>0</td>\n",
       "      <td>1/19/2015</td>\n",
       "      <td>최현석</td>\n",
       "      <td>박준우</td>\n",
       "      <td>소유진</td>\n",
       "      <td>-1</td>\n",
       "      <td>0.5</td>\n",
       "      <td>1</td>\n",
       "      <td>46</td>\n",
       "      <td>37</td>\n",
       "      <td>9</td>\n",
       "      <td>1</td>\n",
       "      <td>0</td>\n",
       "      <td>1</td>\n",
       "    </tr>\n",
       "    <tr>\n",
       "      <th>1</th>\n",
       "      <td>0</td>\n",
       "      <td>0</td>\n",
       "      <td>1/19/2015</td>\n",
       "      <td>박준우</td>\n",
       "      <td>최현석</td>\n",
       "      <td>소유진</td>\n",
       "      <td>-1</td>\n",
       "      <td>0.5</td>\n",
       "      <td>0</td>\n",
       "      <td>35</td>\n",
       "      <td>37</td>\n",
       "      <td>2</td>\n",
       "      <td>1</td>\n",
       "      <td>0</td>\n",
       "      <td>1</td>\n",
       "    </tr>\n",
       "    <tr>\n",
       "      <th>2</th>\n",
       "      <td>1</td>\n",
       "      <td>1</td>\n",
       "      <td>1/19/2015</td>\n",
       "      <td>샘킴</td>\n",
       "      <td>홍석천</td>\n",
       "      <td>소유진</td>\n",
       "      <td>-1</td>\n",
       "      <td>0.5</td>\n",
       "      <td>0</td>\n",
       "      <td>41</td>\n",
       "      <td>37</td>\n",
       "      <td>4</td>\n",
       "      <td>1</td>\n",
       "      <td>0</td>\n",
       "      <td>1</td>\n",
       "    </tr>\n",
       "  </tbody>\n",
       "</table>\n",
       "</div>"
      ],
      "text/plain": [
       "   level_0  index       date chef_name against guest_name  epi_num  win_prob  \\\n",
       "0        0      0  1/19/2015       최현석     박준우        소유진       -1       0.5   \n",
       "1        0      0  1/19/2015       박준우     최현석        소유진       -1       0.5   \n",
       "2        1      1  1/19/2015        샘킴     홍석천        소유진       -1       0.5   \n",
       "\n",
       "   result  c_age  g_age  age_delta  c_gender  g_gender  gender_delta  \n",
       "0       1     46     37          9         1         0             1  \n",
       "1       0     35     37          2         1         0             1  \n",
       "2       0     41     37          4         1         0             1  "
      ]
     },
     "execution_count": 214,
     "metadata": {},
     "output_type": "execute_result"
    }
   ],
   "source": [
    "match_data[:3]"
   ]
  },
  {
   "cell_type": "code",
   "execution_count": 168,
   "metadata": {},
   "outputs": [],
   "source": [
    "# Shuffle data frames\n",
    "# match_data_sh = match_data.sample(frac=1).reset_index(drop=True)\n",
    "# match_data_sh[:3]"
   ]
  },
  {
   "cell_type": "code",
   "execution_count": 219,
   "metadata": {},
   "outputs": [],
   "source": [
    "test_df = copy.deepcopy(match_data)"
   ]
  },
  {
   "cell_type": "code",
   "execution_count": 223,
   "metadata": {},
   "outputs": [
    {
     "data": {
      "text/html": [
       "<div>\n",
       "<style>\n",
       "    .dataframe thead tr:only-child th {\n",
       "        text-align: right;\n",
       "    }\n",
       "\n",
       "    .dataframe thead th {\n",
       "        text-align: left;\n",
       "    }\n",
       "\n",
       "    .dataframe tbody tr th {\n",
       "        vertical-align: top;\n",
       "    }\n",
       "</style>\n",
       "<table border=\"1\" class=\"dataframe\">\n",
       "  <thead>\n",
       "    <tr style=\"text-align: right;\">\n",
       "      <th></th>\n",
       "      <th>chef_name</th>\n",
       "      <th>against</th>\n",
       "      <th>result</th>\n",
       "    </tr>\n",
       "  </thead>\n",
       "  <tbody>\n",
       "    <tr>\n",
       "      <th>0</th>\n",
       "      <td>최현석</td>\n",
       "      <td>박준우</td>\n",
       "      <td>1</td>\n",
       "    </tr>\n",
       "    <tr>\n",
       "      <th>1</th>\n",
       "      <td>박준우</td>\n",
       "      <td>최현석</td>\n",
       "      <td>0</td>\n",
       "    </tr>\n",
       "    <tr>\n",
       "      <th>2</th>\n",
       "      <td>샘킴</td>\n",
       "      <td>홍석천</td>\n",
       "      <td>0</td>\n",
       "    </tr>\n",
       "  </tbody>\n",
       "</table>\n",
       "</div>"
      ],
      "text/plain": [
       "  chef_name against  result\n",
       "0       최현석     박준우       1\n",
       "1       박준우     최현석       0\n",
       "2        샘킴     홍석천       0"
      ]
     },
     "execution_count": 223,
     "metadata": {},
     "output_type": "execute_result"
    }
   ],
   "source": [
    "test_df = test_df[[\"chef_name\",\"against\",\"result\"]]\n",
    "test_df[:3]"
   ]
  },
  {
   "cell_type": "markdown",
   "metadata": {},
   "source": [
    "## Calculate individual elo pair score\n",
    "* Calcualte Poong's accumulative elo score against LYB"
   ]
  },
  {
   "cell_type": "code",
   "execution_count": 220,
   "metadata": {},
   "outputs": [],
   "source": [
    "# Make chef pairs\n",
    "chef_pair = test_df[[\"chef_name\",\"against\"]].values"
   ]
  },
  {
   "cell_type": "code",
   "execution_count": 222,
   "metadata": {},
   "outputs": [
    {
     "data": {
      "text/plain": [
       "626"
      ]
     },
     "execution_count": 222,
     "metadata": {},
     "output_type": "execute_result"
    }
   ],
   "source": [
    "len(chef_pair)"
   ]
  },
  {
   "cell_type": "code",
   "execution_count": 323,
   "metadata": {},
   "outputs": [],
   "source": [
    "def select_rows(chef_pair):\n",
    "    a_chef, b_chef = p[0], p[1]\n",
    "    mask = match_data[\"chef_name\"] == a_chef\n",
    "    a_df = match_data.loc[mask]\n",
    "    mask = a_df[\"against\"] == b_chef\n",
    "    ab_df = a_df.loc[mask]\n",
    "    \n",
    "    return ab_df     "
   ]
  },
  {
   "cell_type": "code",
   "execution_count": 324,
   "metadata": {},
   "outputs": [],
   "source": [
    "def calculate_elo(df):\n",
    "    n_teams = 2\n",
    "    current_elos = np.ones(shape=(n_teams)) * mean_elo\n",
    "    for row in df.itertuples():\n",
    "        idx = row.Index\n",
    "        w_yn = row.result\n",
    "        if w_yn == 0:\n",
    "            w_id = 1\n",
    "            l_id = 0\n",
    "        else:\n",
    "            w_id = 0\n",
    "            l_id = 1\n",
    "\n",
    "        # Get current elos\n",
    "        w_elo_before = current_elos[w_id]\n",
    "        l_elo_before = current_elos[l_id]\n",
    "        w_elo_after, l_elo_after = update_elo(w_elo_before, l_elo_before)\n",
    "\n",
    "        # Save updated elos\n",
    "        if w_yn == 0:\n",
    "            df.at[idx, '0_elo_before_game'] = l_elo_before\n",
    "            df.at[idx, '1_elo_before_game'] = w_elo_before\n",
    "            df.at[idx, '0_elo_after_game'] = l_elo_after\n",
    "            df.at[idx, '1_elo_after_game'] = w_elo_after\n",
    "            current_elos[w_id] = w_elo_after\n",
    "            current_elos[l_id] = l_elo_after\n",
    "        else:\n",
    "            df.at[idx, '0_elo_before_game'] = w_elo_before\n",
    "            df.at[idx, '1_elo_before_game'] = l_elo_before\n",
    "            df.at[idx, '0_elo_after_game'] = w_elo_after\n",
    "            df.at[idx, '1_elo_after_game'] = l_elo_after\n",
    "            current_elos[w_id] = w_elo_after\n",
    "            current_elos[l_id] = l_elo_after       \n",
    "    return df"
   ]
  },
  {
   "cell_type": "code",
   "execution_count": 325,
   "metadata": {},
   "outputs": [],
   "source": [
    "def calculate_expected_rate(df):\n",
    "    before_elo_p = df[\"0_elo_before_game\"].tolist()\n",
    "    before_elo_y = df[\"1_elo_before_game\"].tolist()\n",
    "    expected_win = []\n",
    "    for idx, a in enumerate(before_elo_p):\n",
    "        expected_a = expected_result(a, before_elo_y[idx])\n",
    "        expected_win.append(expected_a)\n",
    "        \n",
    "    df[\"expected_win_a\"] = pd.Series(expected_win).values\n",
    "    return df"
   ]
  },
  {
   "cell_type": "code",
   "execution_count": 326,
   "metadata": {},
   "outputs": [],
   "source": [
    "def update_to_real_db(df, total_df):\n",
    "    df = df[[\"chef_name\",\"against\",\"expected_win_a\"]]\n",
    "    p_idx_list = df.index\n",
    "    p_idx = 0\n",
    "    for row in total_df.itertuples():\n",
    "        idx = row.Index\n",
    "        if idx not in p_idx_list:\n",
    "            pass\n",
    "        else:\n",
    "            win_pro = df.iloc[p_idx]\n",
    "            win_pro_list = list(win_pro.items())\n",
    "            total_df.at[idx,'against_specific_win_p'] = win_pro_list[2][1]\n",
    "            p_idx += 1"
   ]
  },
  {
   "cell_type": "code",
   "execution_count": 327,
   "metadata": {},
   "outputs": [],
   "source": [
    "match_data[\"against_specific_win_p\"] = ''\n",
    "for p in chef_pair:\n",
    "    selected_row_df = select_rows(p)\n",
    "    after_elo = calculate_elo(selected_row_df)\n",
    "    after_expected_win = calculate_expected_rate(after_elo)\n",
    "    update_to_real_db(after_expected_win,match_data)"
   ]
  },
  {
   "cell_type": "code",
   "execution_count": null,
   "metadata": {},
   "outputs": [],
   "source": []
  },
  {
   "cell_type": "code",
   "execution_count": 331,
   "metadata": {},
   "outputs": [],
   "source": [
    "mask = match_data[\"chef_name\"] == '이연복'\n",
    "d = match_data.loc[mask]"
   ]
  },
  {
   "cell_type": "code",
   "execution_count": 332,
   "metadata": {},
   "outputs": [],
   "source": [
    "mask = d[\"against\"] == '김풍'\n",
    "b = d.loc[mask]"
   ]
  },
  {
   "cell_type": "code",
   "execution_count": 333,
   "metadata": {},
   "outputs": [
    {
     "data": {
      "text/html": [
       "<div>\n",
       "<style>\n",
       "    .dataframe thead tr:only-child th {\n",
       "        text-align: right;\n",
       "    }\n",
       "\n",
       "    .dataframe thead th {\n",
       "        text-align: left;\n",
       "    }\n",
       "\n",
       "    .dataframe tbody tr th {\n",
       "        vertical-align: top;\n",
       "    }\n",
       "</style>\n",
       "<table border=\"1\" class=\"dataframe\">\n",
       "  <thead>\n",
       "    <tr style=\"text-align: right;\">\n",
       "      <th></th>\n",
       "      <th>level_0</th>\n",
       "      <th>index</th>\n",
       "      <th>date</th>\n",
       "      <th>chef_name</th>\n",
       "      <th>against</th>\n",
       "      <th>guest_name</th>\n",
       "      <th>epi_num</th>\n",
       "      <th>win_prob</th>\n",
       "      <th>result</th>\n",
       "      <th>c_age</th>\n",
       "      <th>g_age</th>\n",
       "      <th>age_delta</th>\n",
       "      <th>c_gender</th>\n",
       "      <th>g_gender</th>\n",
       "      <th>gender_delta</th>\n",
       "      <th>against_specific_win_p</th>\n",
       "    </tr>\n",
       "  </thead>\n",
       "  <tbody>\n",
       "    <tr>\n",
       "      <th>75</th>\n",
       "      <td>37</td>\n",
       "      <td>37</td>\n",
       "      <td>5/25/2015</td>\n",
       "      <td>이연복</td>\n",
       "      <td>김풍</td>\n",
       "      <td>지누_(가수)</td>\n",
       "      <td>6020</td>\n",
       "      <td>0.668695</td>\n",
       "      <td>1</td>\n",
       "      <td>59</td>\n",
       "      <td>47</td>\n",
       "      <td>12</td>\n",
       "      <td>1</td>\n",
       "      <td>1</td>\n",
       "      <td>0</td>\n",
       "      <td>0.5</td>\n",
       "    </tr>\n",
       "    <tr>\n",
       "      <th>119</th>\n",
       "      <td>59</td>\n",
       "      <td>59</td>\n",
       "      <td>8/10/2015</td>\n",
       "      <td>이연복</td>\n",
       "      <td>김풍</td>\n",
       "      <td>최화정</td>\n",
       "      <td>6063</td>\n",
       "      <td>0.726830</td>\n",
       "      <td>1</td>\n",
       "      <td>59</td>\n",
       "      <td>57</td>\n",
       "      <td>2</td>\n",
       "      <td>1</td>\n",
       "      <td>0</td>\n",
       "      <td>1</td>\n",
       "      <td>0.591076</td>\n",
       "    </tr>\n",
       "    <tr>\n",
       "      <th>167</th>\n",
       "      <td>83</td>\n",
       "      <td>83</td>\n",
       "      <td>11/2/2015</td>\n",
       "      <td>이연복</td>\n",
       "      <td>김풍</td>\n",
       "      <td>서장훈</td>\n",
       "      <td>6111</td>\n",
       "      <td>0.854829</td>\n",
       "      <td>0</td>\n",
       "      <td>59</td>\n",
       "      <td>44</td>\n",
       "      <td>15</td>\n",
       "      <td>1</td>\n",
       "      <td>1</td>\n",
       "      <td>0</td>\n",
       "      <td>0.661441</td>\n",
       "    </tr>\n",
       "    <tr>\n",
       "      <th>220</th>\n",
       "      <td>110</td>\n",
       "      <td>110</td>\n",
       "      <td>2/1/2016</td>\n",
       "      <td>이연복</td>\n",
       "      <td>김풍</td>\n",
       "      <td>타블로</td>\n",
       "      <td>6169</td>\n",
       "      <td>0.698559</td>\n",
       "      <td>1</td>\n",
       "      <td>59</td>\n",
       "      <td>38</td>\n",
       "      <td>21</td>\n",
       "      <td>1</td>\n",
       "      <td>1</td>\n",
       "      <td>0</td>\n",
       "      <td>0.545462</td>\n",
       "    </tr>\n",
       "    <tr>\n",
       "      <th>294</th>\n",
       "      <td>147</td>\n",
       "      <td>147</td>\n",
       "      <td>6/6/2016</td>\n",
       "      <td>이연복</td>\n",
       "      <td>김풍</td>\n",
       "      <td>김종민</td>\n",
       "      <td>6239</td>\n",
       "      <td>0.797386</td>\n",
       "      <td>1</td>\n",
       "      <td>59</td>\n",
       "      <td>39</td>\n",
       "      <td>20</td>\n",
       "      <td>1</td>\n",
       "      <td>1</td>\n",
       "      <td>0</td>\n",
       "      <td>0.626509</td>\n",
       "    </tr>\n",
       "    <tr>\n",
       "      <th>317</th>\n",
       "      <td>158</td>\n",
       "      <td>158</td>\n",
       "      <td>7/18/2016</td>\n",
       "      <td>이연복</td>\n",
       "      <td>김풍</td>\n",
       "      <td>존_박</td>\n",
       "      <td>6265</td>\n",
       "      <td>0.777153</td>\n",
       "      <td>1</td>\n",
       "      <td>59</td>\n",
       "      <td>30</td>\n",
       "      <td>29</td>\n",
       "      <td>1</td>\n",
       "      <td>1</td>\n",
       "      <td>0</td>\n",
       "      <td>0.688361</td>\n",
       "    </tr>\n",
       "    <tr>\n",
       "      <th>394</th>\n",
       "      <td>197</td>\n",
       "      <td>197</td>\n",
       "      <td>11/28/2016</td>\n",
       "      <td>이연복</td>\n",
       "      <td>김풍</td>\n",
       "      <td>정준하</td>\n",
       "      <td>6339</td>\n",
       "      <td>0.555891</td>\n",
       "      <td>1</td>\n",
       "      <td>59</td>\n",
       "      <td>47</td>\n",
       "      <td>12</td>\n",
       "      <td>1</td>\n",
       "      <td>1</td>\n",
       "      <td>0</td>\n",
       "      <td>0.73538</td>\n",
       "    </tr>\n",
       "    <tr>\n",
       "      <th>435</th>\n",
       "      <td>217</td>\n",
       "      <td>217</td>\n",
       "      <td>2/6/2017</td>\n",
       "      <td>이연복</td>\n",
       "      <td>김풍</td>\n",
       "      <td>김윤아</td>\n",
       "      <td>6380</td>\n",
       "      <td>0.751241</td>\n",
       "      <td>0</td>\n",
       "      <td>59</td>\n",
       "      <td>44</td>\n",
       "      <td>15</td>\n",
       "      <td>1</td>\n",
       "      <td>0</td>\n",
       "      <td>1</td>\n",
       "      <td>0.771548</td>\n",
       "    </tr>\n",
       "    <tr>\n",
       "      <th>463</th>\n",
       "      <td>231</td>\n",
       "      <td>231</td>\n",
       "      <td>4/3/2017</td>\n",
       "      <td>이연복</td>\n",
       "      <td>김풍</td>\n",
       "      <td>정용화</td>\n",
       "      <td>-1</td>\n",
       "      <td>0.611771</td>\n",
       "      <td>0</td>\n",
       "      <td>59</td>\n",
       "      <td>29</td>\n",
       "      <td>30</td>\n",
       "      <td>1</td>\n",
       "      <td>1</td>\n",
       "      <td>0</td>\n",
       "      <td>0.656689</td>\n",
       "    </tr>\n",
       "    <tr>\n",
       "      <th>501</th>\n",
       "      <td>250</td>\n",
       "      <td>250</td>\n",
       "      <td>6/12/2017</td>\n",
       "      <td>이연복</td>\n",
       "      <td>김풍</td>\n",
       "      <td>송은이</td>\n",
       "      <td>-1</td>\n",
       "      <td>0.568641</td>\n",
       "      <td>1</td>\n",
       "      <td>59</td>\n",
       "      <td>45</td>\n",
       "      <td>14</td>\n",
       "      <td>1</td>\n",
       "      <td>0</td>\n",
       "      <td>1</td>\n",
       "      <td>0.541084</td>\n",
       "    </tr>\n",
       "    <tr>\n",
       "      <th>561</th>\n",
       "      <td>280</td>\n",
       "      <td>280</td>\n",
       "      <td>9/25/2017</td>\n",
       "      <td>이연복</td>\n",
       "      <td>김풍</td>\n",
       "      <td>김완선</td>\n",
       "      <td>6509</td>\n",
       "      <td>0.731378</td>\n",
       "      <td>1</td>\n",
       "      <td>59</td>\n",
       "      <td>49</td>\n",
       "      <td>10</td>\n",
       "      <td>1</td>\n",
       "      <td>1</td>\n",
       "      <td>0</td>\n",
       "      <td>0.623129</td>\n",
       "    </tr>\n",
       "    <tr>\n",
       "      <th>612</th>\n",
       "      <td>306</td>\n",
       "      <td>306</td>\n",
       "      <td>1/15/2018</td>\n",
       "      <td>이연복</td>\n",
       "      <td>김풍</td>\n",
       "      <td>데프콘_(가수)</td>\n",
       "      <td>6570</td>\n",
       "      <td>0.841492</td>\n",
       "      <td>0</td>\n",
       "      <td>59</td>\n",
       "      <td>41</td>\n",
       "      <td>18</td>\n",
       "      <td>1</td>\n",
       "      <td>1</td>\n",
       "      <td>0</td>\n",
       "      <td>0.685796</td>\n",
       "    </tr>\n",
       "  </tbody>\n",
       "</table>\n",
       "</div>"
      ],
      "text/plain": [
       "     level_0  index        date chef_name against guest_name  epi_num  \\\n",
       "75        37     37   5/25/2015       이연복      김풍    지누_(가수)     6020   \n",
       "119       59     59   8/10/2015       이연복      김풍        최화정     6063   \n",
       "167       83     83   11/2/2015       이연복      김풍        서장훈     6111   \n",
       "220      110    110    2/1/2016       이연복      김풍        타블로     6169   \n",
       "294      147    147    6/6/2016       이연복      김풍        김종민     6239   \n",
       "317      158    158   7/18/2016       이연복      김풍        존_박     6265   \n",
       "394      197    197  11/28/2016       이연복      김풍        정준하     6339   \n",
       "435      217    217    2/6/2017       이연복      김풍        김윤아     6380   \n",
       "463      231    231    4/3/2017       이연복      김풍        정용화       -1   \n",
       "501      250    250   6/12/2017       이연복      김풍        송은이       -1   \n",
       "561      280    280   9/25/2017       이연복      김풍        김완선     6509   \n",
       "612      306    306   1/15/2018       이연복      김풍   데프콘_(가수)     6570   \n",
       "\n",
       "     win_prob  result  c_age  g_age  age_delta  c_gender  g_gender  \\\n",
       "75   0.668695       1     59     47         12         1         1   \n",
       "119  0.726830       1     59     57          2         1         0   \n",
       "167  0.854829       0     59     44         15         1         1   \n",
       "220  0.698559       1     59     38         21         1         1   \n",
       "294  0.797386       1     59     39         20         1         1   \n",
       "317  0.777153       1     59     30         29         1         1   \n",
       "394  0.555891       1     59     47         12         1         1   \n",
       "435  0.751241       0     59     44         15         1         0   \n",
       "463  0.611771       0     59     29         30         1         1   \n",
       "501  0.568641       1     59     45         14         1         0   \n",
       "561  0.731378       1     59     49         10         1         1   \n",
       "612  0.841492       0     59     41         18         1         1   \n",
       "\n",
       "     gender_delta against_specific_win_p  \n",
       "75              0                    0.5  \n",
       "119             1               0.591076  \n",
       "167             0               0.661441  \n",
       "220             0               0.545462  \n",
       "294             0               0.626509  \n",
       "317             0               0.688361  \n",
       "394             0                0.73538  \n",
       "435             1               0.771548  \n",
       "463             0               0.656689  \n",
       "501             1               0.541084  \n",
       "561             0               0.623129  \n",
       "612             0               0.685796  "
      ]
     },
     "execution_count": 333,
     "metadata": {},
     "output_type": "execute_result"
    }
   ],
   "source": [
    "b"
   ]
  },
  {
   "cell_type": "code",
   "execution_count": 334,
   "metadata": {},
   "outputs": [],
   "source": [
    "mask = match_data[\"chef_name\"] == '김풍'\n",
    "d = match_data.loc[mask]"
   ]
  },
  {
   "cell_type": "code",
   "execution_count": 335,
   "metadata": {},
   "outputs": [],
   "source": [
    "mask = d[\"against\"] == '이연복'\n",
    "b = d.loc[mask]"
   ]
  },
  {
   "cell_type": "code",
   "execution_count": 336,
   "metadata": {},
   "outputs": [
    {
     "data": {
      "text/html": [
       "<div>\n",
       "<style>\n",
       "    .dataframe thead tr:only-child th {\n",
       "        text-align: right;\n",
       "    }\n",
       "\n",
       "    .dataframe thead th {\n",
       "        text-align: left;\n",
       "    }\n",
       "\n",
       "    .dataframe tbody tr th {\n",
       "        vertical-align: top;\n",
       "    }\n",
       "</style>\n",
       "<table border=\"1\" class=\"dataframe\">\n",
       "  <thead>\n",
       "    <tr style=\"text-align: right;\">\n",
       "      <th></th>\n",
       "      <th>level_0</th>\n",
       "      <th>index</th>\n",
       "      <th>date</th>\n",
       "      <th>chef_name</th>\n",
       "      <th>against</th>\n",
       "      <th>guest_name</th>\n",
       "      <th>epi_num</th>\n",
       "      <th>win_prob</th>\n",
       "      <th>result</th>\n",
       "      <th>c_age</th>\n",
       "      <th>g_age</th>\n",
       "      <th>age_delta</th>\n",
       "      <th>c_gender</th>\n",
       "      <th>g_gender</th>\n",
       "      <th>gender_delta</th>\n",
       "      <th>against_specific_win_p</th>\n",
       "    </tr>\n",
       "  </thead>\n",
       "  <tbody>\n",
       "    <tr>\n",
       "      <th>74</th>\n",
       "      <td>37</td>\n",
       "      <td>37</td>\n",
       "      <td>5/25/2015</td>\n",
       "      <td>김풍</td>\n",
       "      <td>이연복</td>\n",
       "      <td>지누_(가수)</td>\n",
       "      <td>6019</td>\n",
       "      <td>0.331305</td>\n",
       "      <td>0</td>\n",
       "      <td>40</td>\n",
       "      <td>47</td>\n",
       "      <td>7</td>\n",
       "      <td>1</td>\n",
       "      <td>1</td>\n",
       "      <td>0</td>\n",
       "      <td>0.5</td>\n",
       "    </tr>\n",
       "    <tr>\n",
       "      <th>118</th>\n",
       "      <td>59</td>\n",
       "      <td>59</td>\n",
       "      <td>8/10/2015</td>\n",
       "      <td>김풍</td>\n",
       "      <td>이연복</td>\n",
       "      <td>최화정</td>\n",
       "      <td>6064</td>\n",
       "      <td>0.273170</td>\n",
       "      <td>0</td>\n",
       "      <td>40</td>\n",
       "      <td>57</td>\n",
       "      <td>17</td>\n",
       "      <td>1</td>\n",
       "      <td>0</td>\n",
       "      <td>1</td>\n",
       "      <td>0.408924</td>\n",
       "    </tr>\n",
       "    <tr>\n",
       "      <th>166</th>\n",
       "      <td>83</td>\n",
       "      <td>83</td>\n",
       "      <td>11/2/2015</td>\n",
       "      <td>김풍</td>\n",
       "      <td>이연복</td>\n",
       "      <td>서장훈</td>\n",
       "      <td>6112</td>\n",
       "      <td>0.145171</td>\n",
       "      <td>1</td>\n",
       "      <td>40</td>\n",
       "      <td>44</td>\n",
       "      <td>4</td>\n",
       "      <td>1</td>\n",
       "      <td>1</td>\n",
       "      <td>0</td>\n",
       "      <td>0.338559</td>\n",
       "    </tr>\n",
       "    <tr>\n",
       "      <th>221</th>\n",
       "      <td>110</td>\n",
       "      <td>110</td>\n",
       "      <td>2/1/2016</td>\n",
       "      <td>김풍</td>\n",
       "      <td>이연복</td>\n",
       "      <td>타블로</td>\n",
       "      <td>-1</td>\n",
       "      <td>0.301441</td>\n",
       "      <td>0</td>\n",
       "      <td>40</td>\n",
       "      <td>38</td>\n",
       "      <td>2</td>\n",
       "      <td>1</td>\n",
       "      <td>1</td>\n",
       "      <td>0</td>\n",
       "      <td>0.454538</td>\n",
       "    </tr>\n",
       "    <tr>\n",
       "      <th>295</th>\n",
       "      <td>147</td>\n",
       "      <td>147</td>\n",
       "      <td>6/6/2016</td>\n",
       "      <td>김풍</td>\n",
       "      <td>이연복</td>\n",
       "      <td>김종민</td>\n",
       "      <td>6240</td>\n",
       "      <td>0.202614</td>\n",
       "      <td>0</td>\n",
       "      <td>40</td>\n",
       "      <td>39</td>\n",
       "      <td>1</td>\n",
       "      <td>1</td>\n",
       "      <td>1</td>\n",
       "      <td>0</td>\n",
       "      <td>0.373491</td>\n",
       "    </tr>\n",
       "    <tr>\n",
       "      <th>316</th>\n",
       "      <td>158</td>\n",
       "      <td>158</td>\n",
       "      <td>7/18/2016</td>\n",
       "      <td>김풍</td>\n",
       "      <td>이연복</td>\n",
       "      <td>존_박</td>\n",
       "      <td>6266</td>\n",
       "      <td>0.222847</td>\n",
       "      <td>0</td>\n",
       "      <td>40</td>\n",
       "      <td>30</td>\n",
       "      <td>10</td>\n",
       "      <td>1</td>\n",
       "      <td>1</td>\n",
       "      <td>0</td>\n",
       "      <td>0.311639</td>\n",
       "    </tr>\n",
       "    <tr>\n",
       "      <th>395</th>\n",
       "      <td>197</td>\n",
       "      <td>197</td>\n",
       "      <td>11/28/2016</td>\n",
       "      <td>김풍</td>\n",
       "      <td>이연복</td>\n",
       "      <td>정준하</td>\n",
       "      <td>6340</td>\n",
       "      <td>0.444109</td>\n",
       "      <td>0</td>\n",
       "      <td>40</td>\n",
       "      <td>47</td>\n",
       "      <td>7</td>\n",
       "      <td>1</td>\n",
       "      <td>1</td>\n",
       "      <td>0</td>\n",
       "      <td>0.26462</td>\n",
       "    </tr>\n",
       "    <tr>\n",
       "      <th>434</th>\n",
       "      <td>217</td>\n",
       "      <td>217</td>\n",
       "      <td>2/6/2017</td>\n",
       "      <td>김풍</td>\n",
       "      <td>이연복</td>\n",
       "      <td>김윤아</td>\n",
       "      <td>6379</td>\n",
       "      <td>0.248759</td>\n",
       "      <td>1</td>\n",
       "      <td>40</td>\n",
       "      <td>44</td>\n",
       "      <td>4</td>\n",
       "      <td>1</td>\n",
       "      <td>0</td>\n",
       "      <td>1</td>\n",
       "      <td>0.228452</td>\n",
       "    </tr>\n",
       "    <tr>\n",
       "      <th>462</th>\n",
       "      <td>231</td>\n",
       "      <td>231</td>\n",
       "      <td>4/3/2017</td>\n",
       "      <td>김풍</td>\n",
       "      <td>이연복</td>\n",
       "      <td>정용화</td>\n",
       "      <td>6408</td>\n",
       "      <td>0.388229</td>\n",
       "      <td>1</td>\n",
       "      <td>40</td>\n",
       "      <td>29</td>\n",
       "      <td>11</td>\n",
       "      <td>1</td>\n",
       "      <td>1</td>\n",
       "      <td>0</td>\n",
       "      <td>0.343311</td>\n",
       "    </tr>\n",
       "    <tr>\n",
       "      <th>500</th>\n",
       "      <td>250</td>\n",
       "      <td>250</td>\n",
       "      <td>6/12/2017</td>\n",
       "      <td>김풍</td>\n",
       "      <td>이연복</td>\n",
       "      <td>송은이</td>\n",
       "      <td>6450</td>\n",
       "      <td>0.431359</td>\n",
       "      <td>0</td>\n",
       "      <td>40</td>\n",
       "      <td>45</td>\n",
       "      <td>5</td>\n",
       "      <td>1</td>\n",
       "      <td>0</td>\n",
       "      <td>1</td>\n",
       "      <td>0.458916</td>\n",
       "    </tr>\n",
       "    <tr>\n",
       "      <th>560</th>\n",
       "      <td>280</td>\n",
       "      <td>280</td>\n",
       "      <td>9/25/2017</td>\n",
       "      <td>김풍</td>\n",
       "      <td>이연복</td>\n",
       "      <td>김완선</td>\n",
       "      <td>6510</td>\n",
       "      <td>0.268622</td>\n",
       "      <td>0</td>\n",
       "      <td>40</td>\n",
       "      <td>49</td>\n",
       "      <td>9</td>\n",
       "      <td>1</td>\n",
       "      <td>1</td>\n",
       "      <td>0</td>\n",
       "      <td>0.376871</td>\n",
       "    </tr>\n",
       "    <tr>\n",
       "      <th>613</th>\n",
       "      <td>306</td>\n",
       "      <td>306</td>\n",
       "      <td>1/15/2018</td>\n",
       "      <td>김풍</td>\n",
       "      <td>이연복</td>\n",
       "      <td>데프콘_(가수)</td>\n",
       "      <td>6569</td>\n",
       "      <td>0.158508</td>\n",
       "      <td>1</td>\n",
       "      <td>40</td>\n",
       "      <td>41</td>\n",
       "      <td>1</td>\n",
       "      <td>1</td>\n",
       "      <td>1</td>\n",
       "      <td>0</td>\n",
       "      <td>0.314204</td>\n",
       "    </tr>\n",
       "  </tbody>\n",
       "</table>\n",
       "</div>"
      ],
      "text/plain": [
       "     level_0  index        date chef_name against guest_name  epi_num  \\\n",
       "74        37     37   5/25/2015        김풍     이연복    지누_(가수)     6019   \n",
       "118       59     59   8/10/2015        김풍     이연복        최화정     6064   \n",
       "166       83     83   11/2/2015        김풍     이연복        서장훈     6112   \n",
       "221      110    110    2/1/2016        김풍     이연복        타블로       -1   \n",
       "295      147    147    6/6/2016        김풍     이연복        김종민     6240   \n",
       "316      158    158   7/18/2016        김풍     이연복        존_박     6266   \n",
       "395      197    197  11/28/2016        김풍     이연복        정준하     6340   \n",
       "434      217    217    2/6/2017        김풍     이연복        김윤아     6379   \n",
       "462      231    231    4/3/2017        김풍     이연복        정용화     6408   \n",
       "500      250    250   6/12/2017        김풍     이연복        송은이     6450   \n",
       "560      280    280   9/25/2017        김풍     이연복        김완선     6510   \n",
       "613      306    306   1/15/2018        김풍     이연복   데프콘_(가수)     6569   \n",
       "\n",
       "     win_prob  result  c_age  g_age  age_delta  c_gender  g_gender  \\\n",
       "74   0.331305       0     40     47          7         1         1   \n",
       "118  0.273170       0     40     57         17         1         0   \n",
       "166  0.145171       1     40     44          4         1         1   \n",
       "221  0.301441       0     40     38          2         1         1   \n",
       "295  0.202614       0     40     39          1         1         1   \n",
       "316  0.222847       0     40     30         10         1         1   \n",
       "395  0.444109       0     40     47          7         1         1   \n",
       "434  0.248759       1     40     44          4         1         0   \n",
       "462  0.388229       1     40     29         11         1         1   \n",
       "500  0.431359       0     40     45          5         1         0   \n",
       "560  0.268622       0     40     49          9         1         1   \n",
       "613  0.158508       1     40     41          1         1         1   \n",
       "\n",
       "     gender_delta against_specific_win_p  \n",
       "74              0                    0.5  \n",
       "118             1               0.408924  \n",
       "166             0               0.338559  \n",
       "221             0               0.454538  \n",
       "295             0               0.373491  \n",
       "316             0               0.311639  \n",
       "395             0                0.26462  \n",
       "434             1               0.228452  \n",
       "462             0               0.343311  \n",
       "500             1               0.458916  \n",
       "560             0               0.376871  \n",
       "613             0               0.314204  "
      ]
     },
     "execution_count": 336,
     "metadata": {},
     "output_type": "execute_result"
    }
   ],
   "source": [
    "b"
   ]
  },
  {
   "cell_type": "code",
   "execution_count": null,
   "metadata": {},
   "outputs": [],
   "source": []
  },
  {
   "cell_type": "code",
   "execution_count": 338,
   "metadata": {},
   "outputs": [],
   "source": [
    "with open(\"../data/id_chef_dict.pkl\", 'rb') as fp:\n",
    "    id_chef_dict = pickle.load(fp)"
   ]
  },
  {
   "cell_type": "code",
   "execution_count": 339,
   "metadata": {},
   "outputs": [
    {
     "data": {
      "text/plain": [
       "'김풍'"
      ]
     },
     "execution_count": 339,
     "metadata": {},
     "output_type": "execute_result"
    }
   ],
   "source": [
    "id_chef_dict[0]"
   ]
  },
  {
   "cell_type": "code",
   "execution_count": 340,
   "metadata": {},
   "outputs": [],
   "source": [
    "chef_id_dict = {id_chef_dict[k] : k for k in id_chef_dict}"
   ]
  },
  {
   "cell_type": "code",
   "execution_count": 341,
   "metadata": {},
   "outputs": [
    {
     "data": {
      "text/plain": [
       "0"
      ]
     },
     "execution_count": 341,
     "metadata": {},
     "output_type": "execute_result"
    }
   ],
   "source": [
    "chef_id_dict[\"김풍\"]"
   ]
  },
  {
   "cell_type": "code",
   "execution_count": 343,
   "metadata": {},
   "outputs": [],
   "source": [
    "match_data[\"chef_id\"] = match_data[\"chef_name\"].apply(lambda x: chef_id_dict.get(x))\n",
    "match_data[\"against_id\"] = match_data[\"against\"].apply(lambda x: chef_id_dict.get(x))"
   ]
  },
  {
   "cell_type": "code",
   "execution_count": 349,
   "metadata": {},
   "outputs": [],
   "source": [
    "# with open(\"../data/ultimate_df.pkl\", \"wb\") as fp:\n",
    "#     pickle.dump(match_data, fp)"
   ]
  },
  {
   "cell_type": "code",
   "execution_count": 348,
   "metadata": {},
   "outputs": [],
   "source": [
    "with open(\"../data/ultimate_df.pkl\", \"rb\") as fp:\n",
    "    match_data = pickle.load(fp)"
   ]
  },
  {
   "cell_type": "code",
   "execution_count": null,
   "metadata": {},
   "outputs": [],
   "source": []
  },
  {
   "cell_type": "markdown",
   "metadata": {},
   "source": [
    "# Step 4: Input ingredients"
   ]
  },
  {
   "cell_type": "code",
   "execution_count": 490,
   "metadata": {},
   "outputs": [],
   "source": [
    "with open(\"../data/epi_ingredients_dict.pkl\", \"rb\") as fp:\n",
    "    epi_ingredients_dict = pickle.load(fp)"
   ]
  },
  {
   "cell_type": "code",
   "execution_count": 491,
   "metadata": {},
   "outputs": [
    {
     "data": {
      "text/plain": [
       "['베이컨',\n",
       " '소면',\n",
       " '햄 통조림',\n",
       " '청경채',\n",
       " '양파',\n",
       " '대파',\n",
       " '다진 마늘',\n",
       " '고추장',\n",
       " '고춧가루',\n",
       " '간장',\n",
       " '물엿',\n",
       " '설탕',\n",
       " '전분']"
      ]
     },
     "execution_count": 491,
     "metadata": {},
     "output_type": "execute_result"
    }
   ],
   "source": [
    "epi_ingredients_dict[6240]"
   ]
  },
  {
   "cell_type": "code",
   "execution_count": 511,
   "metadata": {},
   "outputs": [],
   "source": [
    "ingredients = []\n",
    "for k in list(epi_ingredients_dict.keys()):\n",
    "    ing = epi_ingredients_dict.get(k)\n",
    "    for i in ing:\n",
    "        ingredients.append(i)\n",
    "\n",
    "ing_freq = Counter(ingredients)"
   ]
  },
  {
   "cell_type": "code",
   "execution_count": 512,
   "metadata": {},
   "outputs": [
    {
     "data": {
      "text/html": [
       "<div>\n",
       "<style>\n",
       "    .dataframe thead tr:only-child th {\n",
       "        text-align: right;\n",
       "    }\n",
       "\n",
       "    .dataframe thead th {\n",
       "        text-align: left;\n",
       "    }\n",
       "\n",
       "    .dataframe tbody tr th {\n",
       "        vertical-align: top;\n",
       "    }\n",
       "</style>\n",
       "<table border=\"1\" class=\"dataframe\">\n",
       "  <thead>\n",
       "    <tr style=\"text-align: right;\">\n",
       "      <th></th>\n",
       "      <th>ing</th>\n",
       "      <th>cnt</th>\n",
       "    </tr>\n",
       "  </thead>\n",
       "  <tbody>\n",
       "    <tr>\n",
       "      <th>0</th>\n",
       "      <td></td>\n",
       "      <td>9</td>\n",
       "    </tr>\n",
       "    <tr>\n",
       "      <th>1</th>\n",
       "      <td>손질가자미</td>\n",
       "      <td>1</td>\n",
       "    </tr>\n",
       "    <tr>\n",
       "      <th>2</th>\n",
       "      <td>카놀라유</td>\n",
       "      <td>1</td>\n",
       "    </tr>\n",
       "  </tbody>\n",
       "</table>\n",
       "</div>"
      ],
      "text/plain": [
       "     ing  cnt\n",
       "0           9\n",
       "1  손질가자미    1\n",
       "2   카놀라유    1"
      ]
     },
     "execution_count": 512,
     "metadata": {},
     "output_type": "execute_result"
    }
   ],
   "source": [
    "ing_df = pd.DataFrame.from_dict(ing_freq, orient = 'index').reset_index()\n",
    "ing_df = ing_df.rename(columns = {'index': 'ing', 0:'cnt'})\n",
    "ing_df[:3]"
   ]
  },
  {
   "cell_type": "code",
   "execution_count": 513,
   "metadata": {},
   "outputs": [],
   "source": [
    "ing_df = ing_df.sort_values(by=\"cnt\", ascending = False).reset_index()"
   ]
  },
  {
   "cell_type": "code",
   "execution_count": 514,
   "metadata": {},
   "outputs": [],
   "source": [
    "# ing_df.to_csv(\"../data/ing_df.csv\", encoding = 'utf-8')"
   ]
  },
  {
   "cell_type": "code",
   "execution_count": 538,
   "metadata": {},
   "outputs": [],
   "source": [
    "ing_df[\"lemm\"] = ing_df[\"ing\"]"
   ]
  },
  {
   "cell_type": "code",
   "execution_count": 539,
   "metadata": {},
   "outputs": [
    {
     "data": {
      "text/html": [
       "<div>\n",
       "<style>\n",
       "    .dataframe thead tr:only-child th {\n",
       "        text-align: right;\n",
       "    }\n",
       "\n",
       "    .dataframe thead th {\n",
       "        text-align: left;\n",
       "    }\n",
       "\n",
       "    .dataframe tbody tr th {\n",
       "        vertical-align: top;\n",
       "    }\n",
       "</style>\n",
       "<table border=\"1\" class=\"dataframe\">\n",
       "  <thead>\n",
       "    <tr style=\"text-align: right;\">\n",
       "      <th></th>\n",
       "      <th>index</th>\n",
       "      <th>ing</th>\n",
       "      <th>cnt</th>\n",
       "      <th>lemm</th>\n",
       "    </tr>\n",
       "  </thead>\n",
       "  <tbody>\n",
       "    <tr>\n",
       "      <th>0</th>\n",
       "      <td>124.0</td>\n",
       "      <td>소금</td>\n",
       "      <td>415.0</td>\n",
       "      <td>소금</td>\n",
       "    </tr>\n",
       "    <tr>\n",
       "      <th>1</th>\n",
       "      <td>365.0</td>\n",
       "      <td>양파</td>\n",
       "      <td>343.0</td>\n",
       "      <td>양파</td>\n",
       "    </tr>\n",
       "    <tr>\n",
       "      <th>2</th>\n",
       "      <td>425.0</td>\n",
       "      <td>후추</td>\n",
       "      <td>335.0</td>\n",
       "      <td>후추</td>\n",
       "    </tr>\n",
       "  </tbody>\n",
       "</table>\n",
       "</div>"
      ],
      "text/plain": [
       "   index ing    cnt lemm\n",
       "0  124.0  소금  415.0   소금\n",
       "1  365.0  양파  343.0   양파\n",
       "2  425.0  후추  335.0   후추"
      ]
     },
     "execution_count": 539,
     "metadata": {},
     "output_type": "execute_result"
    }
   ],
   "source": [
    "ing_df[:3]"
   ]
  },
  {
   "cell_type": "code",
   "execution_count": 540,
   "metadata": {},
   "outputs": [],
   "source": [
    "# ing_df.at[0,\"lemm\"] = '소금'"
   ]
  },
  {
   "cell_type": "code",
   "execution_count": 524,
   "metadata": {},
   "outputs": [],
   "source": [
    "# for row in ing_df.itertuples():\n",
    "#     print(row.Index)\n",
    "#     print(row.ing)"
   ]
  },
  {
   "cell_type": "code",
   "execution_count": 532,
   "metadata": {},
   "outputs": [],
   "source": [
    "#ing_freq.most_common(100)"
   ]
  },
  {
   "cell_type": "code",
   "execution_count": 535,
   "metadata": {},
   "outputs": [],
   "source": [
    "lemm = pd.read_csv(\"../data/ing.txt\", encoding = 'utf-8', sep = ',')"
   ]
  },
  {
   "cell_type": "code",
   "execution_count": 541,
   "metadata": {},
   "outputs": [
    {
     "data": {
      "text/html": [
       "<div>\n",
       "<style>\n",
       "    .dataframe thead tr:only-child th {\n",
       "        text-align: right;\n",
       "    }\n",
       "\n",
       "    .dataframe thead th {\n",
       "        text-align: left;\n",
       "    }\n",
       "\n",
       "    .dataframe tbody tr th {\n",
       "        vertical-align: top;\n",
       "    }\n",
       "</style>\n",
       "<table border=\"1\" class=\"dataframe\">\n",
       "  <thead>\n",
       "    <tr style=\"text-align: right;\">\n",
       "      <th></th>\n",
       "      <th>row_idx</th>\n",
       "      <th>inga</th>\n",
       "      <th>ingb</th>\n",
       "    </tr>\n",
       "  </thead>\n",
       "  <tbody>\n",
       "    <tr>\n",
       "      <th>108</th>\n",
       "      <td>76</td>\n",
       "      <td>NaN</td>\n",
       "      <td>참기름</td>\n",
       "    </tr>\n",
       "    <tr>\n",
       "      <th>109</th>\n",
       "      <td>45</td>\n",
       "      <td>NaN</td>\n",
       "      <td>빵</td>\n",
       "    </tr>\n",
       "    <tr>\n",
       "      <th>110</th>\n",
       "      <td>34</td>\n",
       "      <td>NaN</td>\n",
       "      <td>돼지고기</td>\n",
       "    </tr>\n",
       "  </tbody>\n",
       "</table>\n",
       "</div>"
      ],
      "text/plain": [
       "     row_idx inga  ingb\n",
       "108       76  NaN   참기름\n",
       "109       45  NaN     빵\n",
       "110       34  NaN  돼지고기"
      ]
     },
     "execution_count": 541,
     "metadata": {},
     "output_type": "execute_result"
    }
   ],
   "source": [
    "lemm[-3:]"
   ]
  },
  {
   "cell_type": "code",
   "execution_count": 542,
   "metadata": {},
   "outputs": [],
   "source": [
    "for row in lemm.itertuples():\n",
    "    row_idx = row.row_idx\n",
    "    new_name = row.ingb\n",
    "    ing_df.at[row_idx,\"lemm\"] = new_name\n",
    "    "
   ]
  },
  {
   "cell_type": "code",
   "execution_count": 543,
   "metadata": {},
   "outputs": [
    {
     "data": {
      "text/html": [
       "<div>\n",
       "<style>\n",
       "    .dataframe thead tr:only-child th {\n",
       "        text-align: right;\n",
       "    }\n",
       "\n",
       "    .dataframe thead th {\n",
       "        text-align: left;\n",
       "    }\n",
       "\n",
       "    .dataframe tbody tr th {\n",
       "        vertical-align: top;\n",
       "    }\n",
       "</style>\n",
       "<table border=\"1\" class=\"dataframe\">\n",
       "  <thead>\n",
       "    <tr style=\"text-align: right;\">\n",
       "      <th></th>\n",
       "      <th>index</th>\n",
       "      <th>ing</th>\n",
       "      <th>cnt</th>\n",
       "      <th>lemm</th>\n",
       "    </tr>\n",
       "  </thead>\n",
       "  <tbody>\n",
       "    <tr>\n",
       "      <th>0</th>\n",
       "      <td>124.0</td>\n",
       "      <td>소금</td>\n",
       "      <td>415.0</td>\n",
       "      <td>깨소금후추</td>\n",
       "    </tr>\n",
       "    <tr>\n",
       "      <th>1</th>\n",
       "      <td>365.0</td>\n",
       "      <td>양파</td>\n",
       "      <td>343.0</td>\n",
       "      <td>양파</td>\n",
       "    </tr>\n",
       "    <tr>\n",
       "      <th>2</th>\n",
       "      <td>425.0</td>\n",
       "      <td>후추</td>\n",
       "      <td>335.0</td>\n",
       "      <td>깨소금후추</td>\n",
       "    </tr>\n",
       "    <tr>\n",
       "      <th>3</th>\n",
       "      <td>284.0</td>\n",
       "      <td>대파</td>\n",
       "      <td>276.0</td>\n",
       "      <td>파</td>\n",
       "    </tr>\n",
       "    <tr>\n",
       "      <th>4</th>\n",
       "      <td>279.0</td>\n",
       "      <td>달걀</td>\n",
       "      <td>261.0</td>\n",
       "      <td>달걀</td>\n",
       "    </tr>\n",
       "    <tr>\n",
       "      <th>5</th>\n",
       "      <td>125.0</td>\n",
       "      <td>마늘</td>\n",
       "      <td>246.0</td>\n",
       "      <td>마늘</td>\n",
       "    </tr>\n",
       "    <tr>\n",
       "      <th>6</th>\n",
       "      <td>174.0</td>\n",
       "      <td>설탕</td>\n",
       "      <td>237.0</td>\n",
       "      <td>설탕</td>\n",
       "    </tr>\n",
       "    <tr>\n",
       "      <th>7</th>\n",
       "      <td>298.0</td>\n",
       "      <td>밀가루</td>\n",
       "      <td>217.0</td>\n",
       "      <td>밀가루</td>\n",
       "    </tr>\n",
       "    <tr>\n",
       "      <th>8</th>\n",
       "      <td>21.0</td>\n",
       "      <td>간장</td>\n",
       "      <td>213.0</td>\n",
       "      <td>간장</td>\n",
       "    </tr>\n",
       "    <tr>\n",
       "      <th>9</th>\n",
       "      <td>800.0</td>\n",
       "      <td>버터</td>\n",
       "      <td>197.0</td>\n",
       "      <td>버터</td>\n",
       "    </tr>\n",
       "  </tbody>\n",
       "</table>\n",
       "</div>"
      ],
      "text/plain": [
       "   index  ing    cnt   lemm\n",
       "0  124.0   소금  415.0  깨소금후추\n",
       "1  365.0   양파  343.0     양파\n",
       "2  425.0   후추  335.0  깨소금후추\n",
       "3  284.0   대파  276.0      파\n",
       "4  279.0   달걀  261.0     달걀\n",
       "5  125.0   마늘  246.0     마늘\n",
       "6  174.0   설탕  237.0     설탕\n",
       "7  298.0  밀가루  217.0    밀가루\n",
       "8   21.0   간장  213.0     간장\n",
       "9  800.0   버터  197.0     버터"
      ]
     },
     "execution_count": 543,
     "metadata": {},
     "output_type": "execute_result"
    }
   ],
   "source": [
    "ing_df[:10]"
   ]
  },
  {
   "cell_type": "code",
   "execution_count": 544,
   "metadata": {},
   "outputs": [],
   "source": [
    "ing_df[\"index\"] = pd.Series(list(range(0,len(ing_df)))).values "
   ]
  },
  {
   "cell_type": "code",
   "execution_count": 545,
   "metadata": {},
   "outputs": [],
   "source": [
    "ing_lemm_dict = dict(zip(ing_df.ing, ing_df.lemm))\n",
    "ing_index_dict = dict(zip(ing_df.ing, ing_df.index))\n",
    "index_ing_dict = dict(zip(ing_df.index, ing_df.ing))\n",
    "ing_count_dict = dict(zip(ing_df.ing, ing_df.cnt))"
   ]
  },
  {
   "cell_type": "code",
   "execution_count": 555,
   "metadata": {},
   "outputs": [],
   "source": [
    "lemm_ing_df = ing_df[[\"lemm\", \"cnt\"]]"
   ]
  },
  {
   "cell_type": "code",
   "execution_count": 556,
   "metadata": {},
   "outputs": [],
   "source": [
    "lemm_ing_df = lemm_ing_df.groupby(\"lemm\")[\"cnt\"].apply(sum).reset_index()"
   ]
  },
  {
   "cell_type": "code",
   "execution_count": 557,
   "metadata": {},
   "outputs": [],
   "source": [
    "lemm_ing_df = lemm_ing_df.sort_values(by=\"cnt\", ascending = False)"
   ]
  },
  {
   "cell_type": "code",
   "execution_count": 558,
   "metadata": {},
   "outputs": [],
   "source": [
    "lemm_ing_df[\"lem_ing_id\"] = pd.Series(list(range(0,len(lemm_ing_df)))).values"
   ]
  },
  {
   "cell_type": "code",
   "execution_count": 561,
   "metadata": {},
   "outputs": [
    {
     "data": {
      "text/html": [
       "<div>\n",
       "<style>\n",
       "    .dataframe thead tr:only-child th {\n",
       "        text-align: right;\n",
       "    }\n",
       "\n",
       "    .dataframe thead th {\n",
       "        text-align: left;\n",
       "    }\n",
       "\n",
       "    .dataframe tbody tr th {\n",
       "        vertical-align: top;\n",
       "    }\n",
       "</style>\n",
       "<table border=\"1\" class=\"dataframe\">\n",
       "  <thead>\n",
       "    <tr style=\"text-align: right;\">\n",
       "      <th></th>\n",
       "      <th>lemm</th>\n",
       "      <th>cnt</th>\n",
       "      <th>lem_ing_id</th>\n",
       "    </tr>\n",
       "  </thead>\n",
       "  <tbody>\n",
       "    <tr>\n",
       "      <th>144</th>\n",
       "      <td>깨소금후추</td>\n",
       "      <td>808.0</td>\n",
       "      <td>0</td>\n",
       "    </tr>\n",
       "    <tr>\n",
       "      <th>352</th>\n",
       "      <td>마늘</td>\n",
       "      <td>429.0</td>\n",
       "      <td>1</td>\n",
       "    </tr>\n",
       "    <tr>\n",
       "      <th>793</th>\n",
       "      <td>양파</td>\n",
       "      <td>344.0</td>\n",
       "      <td>2</td>\n",
       "    </tr>\n",
       "    <tr>\n",
       "      <th>1176</th>\n",
       "      <td>파</td>\n",
       "      <td>310.0</td>\n",
       "      <td>3</td>\n",
       "    </tr>\n",
       "    <tr>\n",
       "      <th>203</th>\n",
       "      <td>달걀</td>\n",
       "      <td>261.0</td>\n",
       "      <td>4</td>\n",
       "    </tr>\n",
       "    <tr>\n",
       "      <th>642</th>\n",
       "      <td>설탕</td>\n",
       "      <td>237.0</td>\n",
       "      <td>5</td>\n",
       "    </tr>\n",
       "    <tr>\n",
       "      <th>81</th>\n",
       "      <td>고추</td>\n",
       "      <td>220.0</td>\n",
       "      <td>6</td>\n",
       "    </tr>\n",
       "    <tr>\n",
       "      <th>467</th>\n",
       "      <td>밀가루</td>\n",
       "      <td>217.0</td>\n",
       "      <td>7</td>\n",
       "    </tr>\n",
       "    <tr>\n",
       "      <th>13</th>\n",
       "      <td>간장</td>\n",
       "      <td>215.0</td>\n",
       "      <td>8</td>\n",
       "    </tr>\n",
       "    <tr>\n",
       "      <th>842</th>\n",
       "      <td>오일</td>\n",
       "      <td>202.0</td>\n",
       "      <td>9</td>\n",
       "    </tr>\n",
       "    <tr>\n",
       "      <th>510</th>\n",
       "      <td>버터</td>\n",
       "      <td>197.0</td>\n",
       "      <td>10</td>\n",
       "    </tr>\n",
       "    <tr>\n",
       "      <th>338</th>\n",
       "      <td>레몬</td>\n",
       "      <td>195.0</td>\n",
       "      <td>11</td>\n",
       "    </tr>\n",
       "    <tr>\n",
       "      <th>386</th>\n",
       "      <td>맛술</td>\n",
       "      <td>179.0</td>\n",
       "      <td>12</td>\n",
       "    </tr>\n",
       "    <tr>\n",
       "      <th>968</th>\n",
       "      <td>전분</td>\n",
       "      <td>160.0</td>\n",
       "      <td>13</td>\n",
       "    </tr>\n",
       "    <tr>\n",
       "      <th>91</th>\n",
       "      <td>고춧가루</td>\n",
       "      <td>143.0</td>\n",
       "      <td>14</td>\n",
       "    </tr>\n",
       "    <tr>\n",
       "      <th>727</th>\n",
       "      <td>식초</td>\n",
       "      <td>131.0</td>\n",
       "      <td>15</td>\n",
       "    </tr>\n",
       "    <tr>\n",
       "      <th>1006</th>\n",
       "      <td>참기름</td>\n",
       "      <td>130.0</td>\n",
       "      <td>16</td>\n",
       "    </tr>\n",
       "    <tr>\n",
       "      <th>221</th>\n",
       "      <td>당근</td>\n",
       "      <td>110.0</td>\n",
       "      <td>17</td>\n",
       "    </tr>\n",
       "    <tr>\n",
       "      <th>731</th>\n",
       "      <td>쌀</td>\n",
       "      <td>96.0</td>\n",
       "      <td>18</td>\n",
       "    </tr>\n",
       "    <tr>\n",
       "      <th>1057</th>\n",
       "      <td>치즈</td>\n",
       "      <td>95.0</td>\n",
       "      <td>19</td>\n",
       "    </tr>\n",
       "  </tbody>\n",
       "</table>\n",
       "</div>"
      ],
      "text/plain": [
       "       lemm    cnt  lem_ing_id\n",
       "144   깨소금후추  808.0           0\n",
       "352      마늘  429.0           1\n",
       "793      양파  344.0           2\n",
       "1176      파  310.0           3\n",
       "203      달걀  261.0           4\n",
       "642      설탕  237.0           5\n",
       "81       고추  220.0           6\n",
       "467     밀가루  217.0           7\n",
       "13       간장  215.0           8\n",
       "842      오일  202.0           9\n",
       "510      버터  197.0          10\n",
       "338      레몬  195.0          11\n",
       "386      맛술  179.0          12\n",
       "968      전분  160.0          13\n",
       "91     고춧가루  143.0          14\n",
       "727      식초  131.0          15\n",
       "1006    참기름  130.0          16\n",
       "221      당근  110.0          17\n",
       "731       쌀   96.0          18\n",
       "1057     치즈   95.0          19"
      ]
     },
     "execution_count": 561,
     "metadata": {},
     "output_type": "execute_result"
    }
   ],
   "source": [
    "lemm_ing_df[:20]"
   ]
  },
  {
   "cell_type": "code",
   "execution_count": 564,
   "metadata": {},
   "outputs": [],
   "source": [
    "#100번 이상 나온 건 버리기\n",
    "mask = lemm_ing_df[\"cnt\"] <= 100\n",
    "key_ing_df = lemm_ing_df.loc[mask]\n",
    "\n",
    "key_leming_lemid_dict = dict(zip(key_ing_df.lemm, key_ing_df.lem_ing_id))"
   ]
  },
  {
   "cell_type": "code",
   "execution_count": 565,
   "metadata": {},
   "outputs": [],
   "source": [
    "from collections import defaultdict\n",
    "\n",
    "epi_ingredients_new_dict = defaultdict(list)\n",
    "\n",
    "for k in list(epi_ingredients_dict.keys()):\n",
    "    ing = epi_ingredients_dict.get(k)\n",
    "    for i in ing:\n",
    "        lem_ing = ing_lemm_dict.get(i, -1)\n",
    "        if lem_ing == -1:\n",
    "            pass\n",
    "        else:\n",
    "            if lem_ing in key_leming_lemid_dict.keys():\n",
    "                epi_ingredients_new_dict[k].append(lem_ing)\n",
    "            else:\n",
    "                pass"
   ]
  },
  {
   "cell_type": "code",
   "execution_count": 567,
   "metadata": {},
   "outputs": [
    {
     "data": {
      "text/plain": [
       "['베이컨', '소면', '햄 통조림', '청경채', '고추가루', '물엿']"
      ]
     },
     "execution_count": 567,
     "metadata": {},
     "output_type": "execute_result"
    }
   ],
   "source": [
    "epi_ingredients_new_dict[6240]"
   ]
  },
  {
   "cell_type": "code",
   "execution_count": 566,
   "metadata": {},
   "outputs": [
    {
     "data": {
      "text/plain": [
       "['베이컨',\n",
       " '소면',\n",
       " '햄 통조림',\n",
       " '청경채',\n",
       " '양파',\n",
       " '대파',\n",
       " '다진 마늘',\n",
       " '고추장',\n",
       " '고춧가루',\n",
       " '간장',\n",
       " '물엿',\n",
       " '설탕',\n",
       " '전분']"
      ]
     },
     "execution_count": 566,
     "metadata": {},
     "output_type": "execute_result"
    }
   ],
   "source": [
    "epi_ingredients_dict[6240]"
   ]
  },
  {
   "cell_type": "code",
   "execution_count": 913,
   "metadata": {},
   "outputs": [],
   "source": [
    "def chef_ingredients(chef_name):\n",
    "    mask = match_data[\"chef_name\"] == chef_name\n",
    "    poong = match_data.loc[mask]\n",
    "    if len(poong) <= 5:\n",
    "        pass\n",
    "    else:\n",
    "        poong = poong[[\"chef_name\",\"against\",\"epi_num\",\"result\"]].reset_index()\n",
    "        poong[\"ingredients\"] = poong[\"epi_num\"].apply(lambda x: epi_ingredients_new_dict.get(x, [-1]))\n",
    "        total_poong_ing = poong[\"ingredients\"].tolist()\n",
    "        poong_ing = [x for y in total_poong_ing for x in y ]\n",
    "\n",
    "        poong_ing = list(set(poong_ing))\n",
    "        poong_ing = [x for x in poong_ing if x != -1]\n",
    "        poong_ing_id_dict = dict(zip(poong_ing, list(range(0,len(poong_ing)))))\n",
    "\n",
    "        X, Y = generate_X_Y(poong, poong_ing,poong_ing_id_dict)\n",
    "        y_categorical = np_utils.to_categorical(Y, 2)\n",
    "\n",
    "        model = create_model(X)\n",
    "\n",
    "        ratio = 0.80\n",
    "        x_train = np.array(X[:int((len(X)*ratio))])\n",
    "        x_test = np.array(X[len(x_train):])\n",
    "        y_train = np.array(y_categorical[:int((len(y_categorical)*ratio))])\n",
    "        y_test = np.array(y_categorical[len(y_train):])\n",
    "\n",
    "\n",
    "        model.fit(x_train, y_train,batch_size=32, epochs=4,verbose=0,validation_data=(x_test, y_test))\n",
    "\n",
    "        prediction = model.predict(x_test)\n",
    "        predicted_classes = model.predict_classes(x_test)\n",
    "        accuracy_ = categorical_accuracy(y_test,predicted_classes)\n",
    "\n",
    "    #return accuracy"
   ]
  },
  {
   "cell_type": "code",
   "execution_count": 914,
   "metadata": {},
   "outputs": [
    {
     "name": "stdout",
     "output_type": "stream",
     "text": [
      "백승욱\n",
      "-------------\n",
      "이찬오\n",
      "Accuracy:  0.2\n",
      "-------------\n",
      "유현수\n",
      "Accuracy:  0.6\n",
      "-------------\n",
      "정형돈\n",
      "-------------\n",
      "박건영\n",
      "-------------\n",
      "홍석천\n",
      "Accuracy:  0.4\n",
      "-------------\n",
      "이상민\n",
      "-------------\n",
      "미카엘\n",
      "Accuracy:  0.38461538461538464\n",
      "-------------\n",
      "여경래\n",
      "-------------\n",
      "김풍\n",
      "Accuracy:  0.6875\n",
      "-------------\n",
      "모토카와 아쓰시\n",
      "-------------\n",
      "이재훈\n",
      "Accuracy:  0.3333333333333333\n",
      "-------------\n",
      "이연복\n",
      "Accuracy:  0.5714285714285714\n",
      "-------------\n",
      "오세득\n",
      "Accuracy:  0.4444444444444444\n",
      "-------------\n",
      "최형진\n",
      "-------------\n",
      "최현석\n",
      "Accuracy:  0.6363636363636364\n",
      "-------------\n",
      "유창준\n",
      "-------------\n",
      "박리혜\n",
      "-------------\n",
      "정호영\n",
      "Accuracy:  0.4\n",
      "-------------\n",
      "김민준\n",
      "-------------\n",
      "맹기용\n",
      "-------------\n",
      "정창욱\n",
      "Accuracy:  0.3333333333333333\n",
      "-------------\n",
      "이원일\n",
      "Accuracy:  0.42857142857142855\n",
      "-------------\n",
      "박준우\n",
      "Accuracy:  0.6666666666666666\n",
      "-------------\n",
      "정지선\n",
      "-------------\n",
      "김성주\n",
      "-------------\n",
      "샘킴\n",
      "Accuracy:  0.3125\n",
      "-------------\n",
      "주배안\n",
      "-------------\n",
      "고든 램지\n",
      "-------------\n",
      "레이먼 킴\n",
      "Accuracy:  0.2\n",
      "-------------\n",
      "한상훈\n",
      "-------------\n"
     ]
    }
   ],
   "source": [
    "for chef in list(chef_age_dict.keys()):\n",
    "    print(chef)\n",
    "    accuracy = chef_ingredients(chef)\n",
    "    print(\"-------------\")"
   ]
  },
  {
   "cell_type": "code",
   "execution_count": null,
   "metadata": {},
   "outputs": [],
   "source": []
  },
  {
   "cell_type": "code",
   "execution_count": null,
   "metadata": {},
   "outputs": [],
   "source": []
  },
  {
   "cell_type": "code",
   "execution_count": 846,
   "metadata": {},
   "outputs": [],
   "source": [
    "# Test with Poong, test with LYB\n",
    "mask = match_data[\"chef_name\"] == '최현석'\n",
    "poong = match_data.loc[mask]"
   ]
  },
  {
   "cell_type": "code",
   "execution_count": 847,
   "metadata": {},
   "outputs": [
    {
     "data": {
      "text/plain": [
       "55"
      ]
     },
     "execution_count": 847,
     "metadata": {},
     "output_type": "execute_result"
    }
   ],
   "source": [
    "len(poong)"
   ]
  },
  {
   "cell_type": "code",
   "execution_count": 848,
   "metadata": {},
   "outputs": [
    {
     "data": {
      "text/html": [
       "<div>\n",
       "<style>\n",
       "    .dataframe thead tr:only-child th {\n",
       "        text-align: right;\n",
       "    }\n",
       "\n",
       "    .dataframe thead th {\n",
       "        text-align: left;\n",
       "    }\n",
       "\n",
       "    .dataframe tbody tr th {\n",
       "        vertical-align: top;\n",
       "    }\n",
       "</style>\n",
       "<table border=\"1\" class=\"dataframe\">\n",
       "  <thead>\n",
       "    <tr style=\"text-align: right;\">\n",
       "      <th></th>\n",
       "      <th>level_0</th>\n",
       "      <th>index</th>\n",
       "      <th>date</th>\n",
       "      <th>chef_name</th>\n",
       "      <th>against</th>\n",
       "      <th>guest_name</th>\n",
       "      <th>epi_num</th>\n",
       "      <th>win_prob</th>\n",
       "      <th>result</th>\n",
       "      <th>c_age</th>\n",
       "      <th>g_age</th>\n",
       "      <th>age_delta</th>\n",
       "      <th>c_gender</th>\n",
       "      <th>g_gender</th>\n",
       "      <th>gender_delta</th>\n",
       "      <th>against_specific_win_p</th>\n",
       "      <th>chef_id</th>\n",
       "      <th>against_id</th>\n",
       "    </tr>\n",
       "  </thead>\n",
       "  <tbody>\n",
       "    <tr>\n",
       "      <th>0</th>\n",
       "      <td>0</td>\n",
       "      <td>0</td>\n",
       "      <td>1/19/2015</td>\n",
       "      <td>최현석</td>\n",
       "      <td>박준우</td>\n",
       "      <td>소유진</td>\n",
       "      <td>-1</td>\n",
       "      <td>0.500000</td>\n",
       "      <td>1</td>\n",
       "      <td>46</td>\n",
       "      <td>37</td>\n",
       "      <td>9</td>\n",
       "      <td>1</td>\n",
       "      <td>0</td>\n",
       "      <td>1</td>\n",
       "      <td>0.5</td>\n",
       "      <td>4</td>\n",
       "      <td>12</td>\n",
       "    </tr>\n",
       "    <tr>\n",
       "      <th>13</th>\n",
       "      <td>6</td>\n",
       "      <td>6</td>\n",
       "      <td>2/9/2015</td>\n",
       "      <td>최현석</td>\n",
       "      <td>정창욱</td>\n",
       "      <td>허경환</td>\n",
       "      <td>-1</td>\n",
       "      <td>0.500000</td>\n",
       "      <td>1</td>\n",
       "      <td>46</td>\n",
       "      <td>37</td>\n",
       "      <td>9</td>\n",
       "      <td>1</td>\n",
       "      <td>1</td>\n",
       "      <td>0</td>\n",
       "      <td>0.5</td>\n",
       "      <td>4</td>\n",
       "      <td>14</td>\n",
       "    </tr>\n",
       "    <tr>\n",
       "      <th>23</th>\n",
       "      <td>11</td>\n",
       "      <td>11</td>\n",
       "      <td>2/23/2015</td>\n",
       "      <td>최현석</td>\n",
       "      <td>김풍</td>\n",
       "      <td>문희준</td>\n",
       "      <td>-1</td>\n",
       "      <td>0.676302</td>\n",
       "      <td>1</td>\n",
       "      <td>46</td>\n",
       "      <td>40</td>\n",
       "      <td>6</td>\n",
       "      <td>1</td>\n",
       "      <td>1</td>\n",
       "      <td>0</td>\n",
       "      <td>0.5</td>\n",
       "      <td>4</td>\n",
       "      <td>0</td>\n",
       "    </tr>\n",
       "  </tbody>\n",
       "</table>\n",
       "</div>"
      ],
      "text/plain": [
       "    level_0  index       date chef_name against guest_name  epi_num  win_prob  \\\n",
       "0         0      0  1/19/2015       최현석     박준우        소유진       -1  0.500000   \n",
       "13        6      6   2/9/2015       최현석     정창욱        허경환       -1  0.500000   \n",
       "23       11     11  2/23/2015       최현석      김풍        문희준       -1  0.676302   \n",
       "\n",
       "    result  c_age  g_age  age_delta  c_gender  g_gender  gender_delta  \\\n",
       "0        1     46     37          9         1         0             1   \n",
       "13       1     46     37          9         1         1             0   \n",
       "23       1     46     40          6         1         1             0   \n",
       "\n",
       "   against_specific_win_p  chef_id  against_id  \n",
       "0                     0.5        4          12  \n",
       "13                    0.5        4          14  \n",
       "23                    0.5        4           0  "
      ]
     },
     "execution_count": 848,
     "metadata": {},
     "output_type": "execute_result"
    }
   ],
   "source": [
    "poong[:3]"
   ]
  },
  {
   "cell_type": "code",
   "execution_count": 849,
   "metadata": {},
   "outputs": [],
   "source": [
    "poong = poong[[\"chef_name\",\"against\",\"epi_num\",\"result\"]].reset_index()"
   ]
  },
  {
   "cell_type": "code",
   "execution_count": 850,
   "metadata": {},
   "outputs": [],
   "source": [
    "poong[\"ingredients\"] = poong[\"epi_num\"].apply(lambda x: epi_ingredients_new_dict.get(x, [-1]))"
   ]
  },
  {
   "cell_type": "code",
   "execution_count": 851,
   "metadata": {},
   "outputs": [
    {
     "data": {
      "text/html": [
       "<div>\n",
       "<style>\n",
       "    .dataframe thead tr:only-child th {\n",
       "        text-align: right;\n",
       "    }\n",
       "\n",
       "    .dataframe thead th {\n",
       "        text-align: left;\n",
       "    }\n",
       "\n",
       "    .dataframe tbody tr th {\n",
       "        vertical-align: top;\n",
       "    }\n",
       "</style>\n",
       "<table border=\"1\" class=\"dataframe\">\n",
       "  <thead>\n",
       "    <tr style=\"text-align: right;\">\n",
       "      <th></th>\n",
       "      <th>index</th>\n",
       "      <th>chef_name</th>\n",
       "      <th>against</th>\n",
       "      <th>epi_num</th>\n",
       "      <th>result</th>\n",
       "      <th>ingredients</th>\n",
       "    </tr>\n",
       "  </thead>\n",
       "  <tbody>\n",
       "    <tr>\n",
       "      <th>45</th>\n",
       "      <td>391</td>\n",
       "      <td>최현석</td>\n",
       "      <td>샘킴</td>\n",
       "      <td>6336</td>\n",
       "      <td>0</td>\n",
       "      <td>[조개, 시금치, 관자, 전복, 새우, 와인]</td>\n",
       "    </tr>\n",
       "    <tr>\n",
       "      <th>46</th>\n",
       "      <td>398</td>\n",
       "      <td>최현석</td>\n",
       "      <td>백승욱</td>\n",
       "      <td>6343</td>\n",
       "      <td>0</td>\n",
       "      <td>[갈치, 명란젓, 자숙새우, 시금치, 아보카도, 브로콜리, 시금치딥, 황도, 블랙올...</td>\n",
       "    </tr>\n",
       "    <tr>\n",
       "      <th>47</th>\n",
       "      <td>404</td>\n",
       "      <td>최현석</td>\n",
       "      <td>미카엘</td>\n",
       "      <td>6354</td>\n",
       "      <td>1</td>\n",
       "      <td>[서대, 새우, 돼지고기 목심, 두릅, 삶은 죽순, 오렌지주스, 아로니아즙]</td>\n",
       "    </tr>\n",
       "    <tr>\n",
       "      <th>48</th>\n",
       "      <td>416</td>\n",
       "      <td>최현석</td>\n",
       "      <td>김풍</td>\n",
       "      <td>6366</td>\n",
       "      <td>1</td>\n",
       "      <td>[해물볶음고추장, 굴소스, 양념게장, 새우젓, 깻잎, 상추]</td>\n",
       "    </tr>\n",
       "    <tr>\n",
       "      <th>49</th>\n",
       "      <td>424</td>\n",
       "      <td>최현석</td>\n",
       "      <td>레이먼 킴</td>\n",
       "      <td>6373</td>\n",
       "      <td>0</td>\n",
       "      <td>[파스타면, 아스파라거스, 토마토, 양상추, 관자, 베이컨, 오레가노, 액상조미료]</td>\n",
       "    </tr>\n",
       "    <tr>\n",
       "      <th>50</th>\n",
       "      <td>431</td>\n",
       "      <td>최현석</td>\n",
       "      <td>유현수</td>\n",
       "      <td>6375</td>\n",
       "      <td>1</td>\n",
       "      <td>[새우살, 대게살, 날치알, 딸기주스, 우유]</td>\n",
       "    </tr>\n",
       "    <tr>\n",
       "      <th>51</th>\n",
       "      <td>438</td>\n",
       "      <td>최현석</td>\n",
       "      <td>이재훈</td>\n",
       "      <td>6383</td>\n",
       "      <td>1</td>\n",
       "      <td>[소고기등심, 치킨스톡, 멸치액젓, 게맛살, 사과, 치즈, 쌀]</td>\n",
       "    </tr>\n",
       "    <tr>\n",
       "      <th>52</th>\n",
       "      <td>448</td>\n",
       "      <td>최현석</td>\n",
       "      <td>샘킴</td>\n",
       "      <td>6397</td>\n",
       "      <td>0</td>\n",
       "      <td>[소갈빗살, 두부, 칼국수면, 인스턴트 꼬리곰탕, 조미료, 고추가루]</td>\n",
       "    </tr>\n",
       "    <tr>\n",
       "      <th>53</th>\n",
       "      <td>456</td>\n",
       "      <td>최현석</td>\n",
       "      <td>오세득</td>\n",
       "      <td>6405</td>\n",
       "      <td>0</td>\n",
       "      <td>[빵, 새우젓, 멸치액젓, 알배추, 굴, 베이컨, 허니머스터드, 파르메산 치즈가루,...</td>\n",
       "    </tr>\n",
       "    <tr>\n",
       "      <th>54</th>\n",
       "      <td>467</td>\n",
       "      <td>최현석</td>\n",
       "      <td>미카엘</td>\n",
       "      <td>6411</td>\n",
       "      <td>0</td>\n",
       "      <td>[전복, 새우, 우유, 카망베르치즈, 치즈, 취장아찌, 양념명란젓, 톳가루]</td>\n",
       "    </tr>\n",
       "  </tbody>\n",
       "</table>\n",
       "</div>"
      ],
      "text/plain": [
       "    index chef_name against  epi_num  result  \\\n",
       "45    391       최현석      샘킴     6336       0   \n",
       "46    398       최현석     백승욱     6343       0   \n",
       "47    404       최현석     미카엘     6354       1   \n",
       "48    416       최현석      김풍     6366       1   \n",
       "49    424       최현석   레이먼 킴     6373       0   \n",
       "50    431       최현석     유현수     6375       1   \n",
       "51    438       최현석     이재훈     6383       1   \n",
       "52    448       최현석      샘킴     6397       0   \n",
       "53    456       최현석     오세득     6405       0   \n",
       "54    467       최현석     미카엘     6411       0   \n",
       "\n",
       "                                          ingredients  \n",
       "45                          [조개, 시금치, 관자, 전복, 새우, 와인]  \n",
       "46  [갈치, 명란젓, 자숙새우, 시금치, 아보카도, 브로콜리, 시금치딥, 황도, 블랙올...  \n",
       "47         [서대, 새우, 돼지고기 목심, 두릅, 삶은 죽순, 오렌지주스, 아로니아즙]  \n",
       "48                  [해물볶음고추장, 굴소스, 양념게장, 새우젓, 깻잎, 상추]  \n",
       "49     [파스타면, 아스파라거스, 토마토, 양상추, 관자, 베이컨, 오레가노, 액상조미료]  \n",
       "50                          [새우살, 대게살, 날치알, 딸기주스, 우유]  \n",
       "51                [소고기등심, 치킨스톡, 멸치액젓, 게맛살, 사과, 치즈, 쌀]  \n",
       "52             [소갈빗살, 두부, 칼국수면, 인스턴트 꼬리곰탕, 조미료, 고추가루]  \n",
       "53  [빵, 새우젓, 멸치액젓, 알배추, 굴, 베이컨, 허니머스터드, 파르메산 치즈가루,...  \n",
       "54         [전복, 새우, 우유, 카망베르치즈, 치즈, 취장아찌, 양념명란젓, 톳가루]  "
      ]
     },
     "execution_count": 851,
     "metadata": {},
     "output_type": "execute_result"
    }
   ],
   "source": [
    "poong[-10:]"
   ]
  },
  {
   "cell_type": "code",
   "execution_count": 852,
   "metadata": {},
   "outputs": [],
   "source": [
    "total_poong_ing = poong[\"ingredients\"].tolist()"
   ]
  },
  {
   "cell_type": "code",
   "execution_count": 853,
   "metadata": {},
   "outputs": [],
   "source": [
    "poong_ing = [x for y in total_poong_ing for x in y ]"
   ]
  },
  {
   "cell_type": "code",
   "execution_count": 854,
   "metadata": {},
   "outputs": [],
   "source": [
    "poong_ing = list(set(poong_ing))"
   ]
  },
  {
   "cell_type": "code",
   "execution_count": 855,
   "metadata": {},
   "outputs": [],
   "source": [
    "poong_ing = list(set(poong_ing))\n",
    "poong_ing = [x for x in poong_ing if x != -1]"
   ]
  },
  {
   "cell_type": "code",
   "execution_count": 856,
   "metadata": {},
   "outputs": [],
   "source": [
    "poong_ing = list(set(poong_ing))\n",
    "poong_ing = [x for x in poong_ing if x != -1]\n",
    "poong_ing_id_dict = dict(zip(poong_ing, list(range(0,len(poong_ing)))))"
   ]
  },
  {
   "cell_type": "code",
   "execution_count": 857,
   "metadata": {},
   "outputs": [],
   "source": [
    "#poong_ing_id_dict[\"인절미\"]"
   ]
  },
  {
   "cell_type": "code",
   "execution_count": 858,
   "metadata": {},
   "outputs": [
    {
     "data": {
      "text/plain": [
       "246"
      ]
     },
     "execution_count": 858,
     "metadata": {},
     "output_type": "execute_result"
    }
   ],
   "source": [
    "len(poong_ing)"
   ]
  },
  {
   "cell_type": "code",
   "execution_count": 893,
   "metadata": {},
   "outputs": [],
   "source": [
    "def generate_X_Y(poong, poong_ing,poong_ing_id_dict):\n",
    "    poong_mat = np.zeros([len(poong),len(poong_ing)+1])\n",
    "    for row in poong.itertuples():\n",
    "        idx = row.Index\n",
    "        #print(\"idx:\",idx)\n",
    "        ingre = row.ingredients\n",
    "        result = row.result\n",
    "        #print(\"result:\",result)\n",
    "        if ingre == [-1]:\n",
    "            poong_mat[idx,len(poong_ing)] = result\n",
    "            #print(poong_mat[idx])\n",
    "        else:\n",
    "            for i in ingre:\n",
    "                #print(\"ingre:\", i)\n",
    "                poong_mat[idx,poong_ing_id_dict.get(i)] += 1\n",
    "            poong_mat[idx,len(poong_ing)] = result\n",
    "    X = poong_mat[:, 0:poong_mat.shape[1]-1]\n",
    "    Y = poong_mat[:,poong_mat.shape[1]-1]\n",
    "    \n",
    "    return X, Y"
   ]
  },
  {
   "cell_type": "code",
   "execution_count": 859,
   "metadata": {},
   "outputs": [],
   "source": [
    "poong_mat = np.zeros([len(poong),len(poong_ing)+1])"
   ]
  },
  {
   "cell_type": "code",
   "execution_count": 860,
   "metadata": {},
   "outputs": [
    {
     "data": {
      "text/plain": [
       "(55, 247)"
      ]
     },
     "execution_count": 860,
     "metadata": {},
     "output_type": "execute_result"
    }
   ],
   "source": [
    "poong_mat.shape"
   ]
  },
  {
   "cell_type": "code",
   "execution_count": 861,
   "metadata": {},
   "outputs": [],
   "source": [
    "for row in poong.itertuples():\n",
    "    idx = row.Index\n",
    "    #print(\"idx:\",idx)\n",
    "    ingre = row.ingredients\n",
    "    result = row.result\n",
    "    #print(\"result:\",result)\n",
    "    if ingre == [-1]:\n",
    "        poong_mat[idx,len(poong_ing)] = result\n",
    "        #print(poong_mat[idx])\n",
    "    else:\n",
    "        for i in ingre:\n",
    "            poong_mat[idx,poong_ing_id_dict.get(i)] += 1\n",
    "        poong_mat[idx,len(poong_ing)] = result\n",
    "        #print(poong_mat[idx])\n",
    "    #print(\"---------------------\")"
   ]
  },
  {
   "cell_type": "code",
   "execution_count": 862,
   "metadata": {},
   "outputs": [],
   "source": [
    "# Split into input(X) and output(Y) variables\n",
    "X = poong_mat[:, 0:poong_mat.shape[1]-1]\n",
    "Y = poong_mat[:,poong_mat.shape[1]-1]"
   ]
  },
  {
   "cell_type": "code",
   "execution_count": 863,
   "metadata": {},
   "outputs": [
    {
     "name": "stdout",
     "output_type": "stream",
     "text": [
      "(55, 2)\n",
      "(2,)\n",
      "[[ 0.  1.]\n",
      " [ 0.  1.]\n",
      " [ 0.  1.]]\n"
     ]
    }
   ],
   "source": [
    "y_categorical = np_utils.to_categorical(Y, 2)\n",
    "print(y_categorical.shape)\n",
    "print(y_categorical[0].shape)\n",
    "print(y_categorical[:3])"
   ]
  },
  {
   "cell_type": "code",
   "execution_count": 864,
   "metadata": {},
   "outputs": [
    {
     "data": {
      "text/plain": [
       "(55, 246)"
      ]
     },
     "execution_count": 864,
     "metadata": {},
     "output_type": "execute_result"
    }
   ],
   "source": [
    "X.shape"
   ]
  },
  {
   "cell_type": "code",
   "execution_count": 865,
   "metadata": {},
   "outputs": [
    {
     "data": {
      "text/plain": [
       "(246,)"
      ]
     },
     "execution_count": 865,
     "metadata": {},
     "output_type": "execute_result"
    }
   ],
   "source": [
    "X[0].shape"
   ]
  },
  {
   "cell_type": "code",
   "execution_count": 866,
   "metadata": {},
   "outputs": [],
   "source": [
    "from sklearn.preprocessing import LabelEncoder\n",
    "# Encode class variables as integers\n",
    "encoder = LabelEncoder()\n",
    "encoder.fit(Y)\n",
    "encoded_Y = encoder.transform(Y)"
   ]
  },
  {
   "cell_type": "code",
   "execution_count": 867,
   "metadata": {},
   "outputs": [
    {
     "name": "stdout",
     "output_type": "stream",
     "text": [
      "[ 1.  1.  1.  1.  1.  0.  0.  0.  0.  1.  1.  0.  0.  0.  1.  1.  1.  0.\n",
      "  1.  1.  0.  1.  0.  1.  0.  0.  0.  1.  0.  0.  1.  1.  1.  0.  1.  0.\n",
      "  0.  1.  0.  0.  1.  0.  1.  1.  0.  0.  0.  1.  1.  0.  1.  1.  0.  0.\n",
      "  0.]\n",
      "[1 1 1 1 1 0 0 0 0 1 1 0 0 0 1 1 1 0 1 1 0 1 0 1 0 0 0 1 0 0 1 1 1 0 1 0 0\n",
      " 1 0 0 1 0 1 1 0 0 0 1 1 0 1 1 0 0 0]\n"
     ]
    }
   ],
   "source": [
    "print(Y)\n",
    "print(encoded_Y)"
   ]
  },
  {
   "cell_type": "code",
   "execution_count": 868,
   "metadata": {},
   "outputs": [],
   "source": [
    "from keras.models import Sequential\n",
    "from keras.layers import Dense\n",
    "from keras.wrappers.scikit_learn import KerasClassifier\n",
    "from sklearn.model_selection import cross_val_score\n",
    "from sklearn.preprocessing import LabelEncoder\n",
    "from sklearn.model_selection import StratifiedKFold\n",
    "from sklearn.preprocessing import StandardScaler\n",
    "from sklearn.pipeline import Pipeline"
   ]
  },
  {
   "cell_type": "code",
   "execution_count": 869,
   "metadata": {},
   "outputs": [],
   "source": [
    "import tensorflow as tf"
   ]
  },
  {
   "cell_type": "code",
   "execution_count": 870,
   "metadata": {},
   "outputs": [],
   "source": [
    "# fix random seed for reproducibility\n",
    "seed = 7\n",
    "np.random.seed(seed)"
   ]
  },
  {
   "cell_type": "code",
   "execution_count": 884,
   "metadata": {},
   "outputs": [],
   "source": [
    "def create_model(X):\n",
    "    model = Sequential()\n",
    "    model.add(Dense(60, input_dim = X[0].shape[0], kernel_initializer = 'normal', activation = 'relu'))\n",
    "    model.add(Dense(2, kernel_initializer='normal', activation='sigmoid'))\n",
    "    \n",
    "    model.compile(loss='categorical_crossentropy', optimizer='adam')\n",
    "    \n",
    "    return model\n",
    "    \n"
   ]
  },
  {
   "cell_type": "code",
   "execution_count": null,
   "metadata": {},
   "outputs": [],
   "source": []
  },
  {
   "cell_type": "code",
   "execution_count": 871,
   "metadata": {},
   "outputs": [],
   "source": [
    "# Create model\n",
    "model = Sequential()\n",
    "model.add(Dense(60, input_dim = X[0].shape[0], kernel_initializer = 'normal', activation = 'relu'))\n",
    "model.add(Dense(2, kernel_initializer='normal', activation='sigmoid'))"
   ]
  },
  {
   "cell_type": "code",
   "execution_count": 872,
   "metadata": {},
   "outputs": [],
   "source": [
    "# Compile\n",
    "#model.compile(loss='binary_crossentropy', optimizer='adam', metrics=['accuracy'])\n",
    "#model.compile(loss='binary_crossentropy', optimizer='adam')\n",
    "model.compile(loss='categorical_crossentropy', optimizer='adam')\n",
    "#model.compile(loss='categorical_crossentropy', optimizer='adam')"
   ]
  },
  {
   "cell_type": "code",
   "execution_count": 873,
   "metadata": {},
   "outputs": [],
   "source": [
    "# evaluate model with standardized dataset\n",
    "estimator = KerasClassifier(build_fn=model, epochs=100, batch_size=5, verbose=0)"
   ]
  },
  {
   "cell_type": "code",
   "execution_count": 874,
   "metadata": {},
   "outputs": [],
   "source": [
    "#kfold = StratifiedKFold(n_splits=10, shuffle=True, random_state=seed)"
   ]
  },
  {
   "cell_type": "code",
   "execution_count": 875,
   "metadata": {},
   "outputs": [],
   "source": [
    "#results = cross_val_score(estimator, X, encoded_Y, cv=kfold)"
   ]
  },
  {
   "cell_type": "code",
   "execution_count": 876,
   "metadata": {},
   "outputs": [],
   "source": [
    "#print(\"Results: %.2f%% (%.2f%%)\" % (results.mean()*100, results.std()*100))"
   ]
  },
  {
   "cell_type": "code",
   "execution_count": 877,
   "metadata": {},
   "outputs": [],
   "source": [
    "ratio = 0.80\n",
    "x_train = np.array(X[:int((len(X)*ratio))])\n",
    "x_test = np.array(X[len(x_train):])\n",
    "y_train = np.array(y_categorical[:int((len(y_categorical)*ratio))])\n",
    "y_test = np.array(y_categorical[len(y_train):])"
   ]
  },
  {
   "cell_type": "code",
   "execution_count": 878,
   "metadata": {},
   "outputs": [
    {
     "name": "stdout",
     "output_type": "stream",
     "text": [
      "Train on 44 samples, validate on 11 samples\n",
      "Epoch 1/4\n",
      "\r",
      "32/44 [====================>.........] - ETA: 0s - loss: 0.6913\b\b\b\b\b\b\b\b\b\b\b\b\b\b\b\b\b\b\b\b\b\b\b\b\b\b\b\b\b\b\b\b\b\b\b\b\b\b\b\b\b\b\b\b\b\b\b\b\b\b\b\b\b\b\b\b\b\b\b\b\b\b\b\r",
      "44/44 [==============================] - 1s 13ms/step - loss: 0.6929 - val_loss: 0.6915\n",
      "Epoch 2/4\n",
      "\r",
      "32/44 [====================>.........] - ETA: 0s - loss: 0.6886\b\b\b\b\b\b\b\b\b\b\b\b\b\b\b\b\b\b\b\b\b\b\b\b\b\b\b\b\b\b\b\b\b\b\b\b\b\b\b\b\b\b\b\b\b\b\b\b\b\b\b\b\b\b\b\b\b\b\b\b\b\b\b\r",
      "44/44 [==============================] - 0s 189us/step - loss: 0.6884 - val_loss: 0.6915\n",
      "Epoch 3/4\n",
      "\r",
      "32/44 [====================>.........] - ETA: 0s - loss: 0.6845\b\b\b\b\b\b\b\b\b\b\b\b\b\b\b\b\b\b\b\b\b\b\b\b\b\b\b\b\b\b\b\b\b\b\b\b\b\b\b\b\b\b\b\b\b\b\b\b\b\b\b\b\b\b\b\b\b\b\b\b\b\b\b\r",
      "44/44 [==============================] - 0s 216us/step - loss: 0.6845 - val_loss: 0.6913\n",
      "Epoch 4/4\n",
      "\r",
      "32/44 [====================>.........] - ETA: 0s - loss: 0.6795\b\b\b\b\b\b\b\b\b\b\b\b\b\b\b\b\b\b\b\b\b\b\b\b\b\b\b\b\b\b\b\b\b\b\b\b\b\b\b\b\b\b\b\b\b\b\b\b\b\b\b\b\b\b\b\b\b\b\b\b\b\b\b\r",
      "44/44 [==============================] - 0s 218us/step - loss: 0.6807 - val_loss: 0.6909\n"
     ]
    },
    {
     "data": {
      "text/plain": [
       "<keras.callbacks.History at 0x12a027630>"
      ]
     },
     "execution_count": 878,
     "metadata": {},
     "output_type": "execute_result"
    }
   ],
   "source": [
    "model.fit(x_train, y_train,\n",
    "          batch_size=32, epochs=4,\n",
    "          verbose=1,\n",
    "          validation_data=(x_test, y_test))"
   ]
  },
  {
   "cell_type": "code",
   "execution_count": 879,
   "metadata": {},
   "outputs": [
    {
     "name": "stdout",
     "output_type": "stream",
     "text": [
      "\r",
      "11/11 [==============================] - 0s 144us/step\n"
     ]
    },
    {
     "data": {
      "text/plain": [
       "0.69094091653823853"
      ]
     },
     "execution_count": 879,
     "metadata": {},
     "output_type": "execute_result"
    }
   ],
   "source": [
    "score = model.evaluate(x_test, y_test, verbose = 1)\n",
    "score"
   ]
  },
  {
   "cell_type": "code",
   "execution_count": 880,
   "metadata": {},
   "outputs": [
    {
     "name": "stdout",
     "output_type": "stream",
     "text": [
      "Accuracy:  0.5454545454545454\n"
     ]
    }
   ],
   "source": [
    "prediction = model.predict(x_test)\n",
    "predicted_classes = model.predict_classes(x_test)\n",
    "\n",
    "def categorical_accuracy(y_true, y_pred):\n",
    "    accu = 0\n",
    "    for idx, y in enumerate(y_true):\n",
    "        y_t = 0\n",
    "        if y[0] == 1:\n",
    "            pass\n",
    "        else:\n",
    "            y_t += 1\n",
    "            \n",
    "        if y_t == y_pred[idx]:\n",
    "            accu += 1\n",
    "    accuracy = accu / len(y_true)\n",
    "    print(\"Accuracy: \", accuracy)\n",
    "    return accuracy\n",
    "\n",
    "accuracy = categorical_accuracy(y_test,predicted_classes)"
   ]
  },
  {
   "cell_type": "code",
   "execution_count": 881,
   "metadata": {},
   "outputs": [
    {
     "data": {
      "text/plain": [
       "array([[ 0.51931721,  0.49867606],\n",
       "       [ 0.51641452,  0.49760753],\n",
       "       [ 0.50958711,  0.50734764],\n",
       "       [ 0.50554132,  0.50316572],\n",
       "       [ 0.49938005,  0.50849146],\n",
       "       [ 0.50265163,  0.51532006],\n",
       "       [ 0.50429767,  0.50575972],\n",
       "       [ 0.51081771,  0.5071609 ],\n",
       "       [ 0.49922368,  0.49977478],\n",
       "       [ 0.50551641,  0.52333009],\n",
       "       [ 0.51534575,  0.50542682]], dtype=float32)"
      ]
     },
     "execution_count": 881,
     "metadata": {},
     "output_type": "execute_result"
    }
   ],
   "source": [
    "prediction"
   ]
  },
  {
   "cell_type": "code",
   "execution_count": 882,
   "metadata": {},
   "outputs": [
    {
     "data": {
      "text/plain": [
       "array([[ 1.,  0.],\n",
       "       [ 1.,  0.],\n",
       "       [ 1.,  0.],\n",
       "       [ 0.,  1.],\n",
       "       [ 0.,  1.],\n",
       "       [ 1.,  0.],\n",
       "       [ 0.,  1.],\n",
       "       [ 0.,  1.],\n",
       "       [ 1.,  0.],\n",
       "       [ 1.,  0.],\n",
       "       [ 1.,  0.]])"
      ]
     },
     "execution_count": 882,
     "metadata": {},
     "output_type": "execute_result"
    }
   ],
   "source": [
    "y_test"
   ]
  },
  {
   "cell_type": "code",
   "execution_count": null,
   "metadata": {},
   "outputs": [],
   "source": []
  },
  {
   "cell_type": "code",
   "execution_count": null,
   "metadata": {},
   "outputs": [],
   "source": []
  },
  {
   "cell_type": "code",
   "execution_count": null,
   "metadata": {},
   "outputs": [],
   "source": []
  },
  {
   "cell_type": "code",
   "execution_count": null,
   "metadata": {},
   "outputs": [],
   "source": []
  },
  {
   "cell_type": "markdown",
   "metadata": {},
   "source": [
    "# Step 5: Prepare x(input) and y(output)"
   ]
  },
  {
   "cell_type": "markdown",
   "metadata": {},
   "source": [
    "## Y"
   ]
  },
  {
   "cell_type": "code",
   "execution_count": 469,
   "metadata": {},
   "outputs": [],
   "source": [
    "y_ = match_data[\"result\"].tolist()"
   ]
  },
  {
   "cell_type": "code",
   "execution_count": 470,
   "metadata": {},
   "outputs": [
    {
     "name": "stdout",
     "output_type": "stream",
     "text": [
      "(626, 2)\n",
      "(2,)\n",
      "[[ 0.  1.]\n",
      " [ 1.  0.]\n",
      " [ 1.  0.]]\n"
     ]
    }
   ],
   "source": [
    "y_categorical = np_utils.to_categorical(y_, 2)\n",
    "print(y_categorical.shape)\n",
    "print(y_categorical[0].shape)\n",
    "print(y_categorical[:3])"
   ]
  },
  {
   "cell_type": "markdown",
   "metadata": {},
   "source": [
    "## X"
   ]
  },
  {
   "cell_type": "code",
   "execution_count": 471,
   "metadata": {},
   "outputs": [
    {
     "data": {
      "text/html": [
       "<div>\n",
       "<style>\n",
       "    .dataframe thead tr:only-child th {\n",
       "        text-align: right;\n",
       "    }\n",
       "\n",
       "    .dataframe thead th {\n",
       "        text-align: left;\n",
       "    }\n",
       "\n",
       "    .dataframe tbody tr th {\n",
       "        vertical-align: top;\n",
       "    }\n",
       "</style>\n",
       "<table border=\"1\" class=\"dataframe\">\n",
       "  <thead>\n",
       "    <tr style=\"text-align: right;\">\n",
       "      <th></th>\n",
       "      <th>chef_id</th>\n",
       "      <th>against_id</th>\n",
       "      <th>win_prob</th>\n",
       "      <th>age_delta</th>\n",
       "      <th>gender_delta</th>\n",
       "      <th>against_specific_win_p</th>\n",
       "    </tr>\n",
       "  </thead>\n",
       "  <tbody>\n",
       "    <tr>\n",
       "      <th>0</th>\n",
       "      <td>4</td>\n",
       "      <td>12</td>\n",
       "      <td>0.5</td>\n",
       "      <td>9</td>\n",
       "      <td>1</td>\n",
       "      <td>0.5</td>\n",
       "    </tr>\n",
       "    <tr>\n",
       "      <th>1</th>\n",
       "      <td>12</td>\n",
       "      <td>4</td>\n",
       "      <td>0.5</td>\n",
       "      <td>2</td>\n",
       "      <td>1</td>\n",
       "      <td>0.5</td>\n",
       "    </tr>\n",
       "    <tr>\n",
       "      <th>2</th>\n",
       "      <td>1</td>\n",
       "      <td>8</td>\n",
       "      <td>0.5</td>\n",
       "      <td>4</td>\n",
       "      <td>1</td>\n",
       "      <td>0.5</td>\n",
       "    </tr>\n",
       "  </tbody>\n",
       "</table>\n",
       "</div>"
      ],
      "text/plain": [
       "   chef_id  against_id  win_prob  age_delta  gender_delta  \\\n",
       "0        4          12       0.5          9             1   \n",
       "1       12           4       0.5          2             1   \n",
       "2        1           8       0.5          4             1   \n",
       "\n",
       "  against_specific_win_p  \n",
       "0                    0.5  \n",
       "1                    0.5  \n",
       "2                    0.5  "
      ]
     },
     "execution_count": 471,
     "metadata": {},
     "output_type": "execute_result"
    }
   ],
   "source": [
    "#x_df = match_data[[\"chef_id\",\"against_id\",\"win_prob\",\"age_delta\",\"gender_delta\",\"against_specific_win_p\"]]\n",
    "x_df = match_data[[\"chef_id\",\"against_id\",\"win_prob\",\"age_delta\",\"gender_delta\",\"against_specific_win_p\"]]\n",
    "x_df[:3]"
   ]
  },
  {
   "cell_type": "code",
   "execution_count": 472,
   "metadata": {},
   "outputs": [
    {
     "data": {
      "text/plain": [
       "array([[4, 12, 0.5, 9, 1, 0.5],\n",
       "       [12, 4, 0.5, 2, 1, 0.5],\n",
       "       [1, 8, 0.5, 4, 1, 0.5]], dtype=object)"
      ]
     },
     "execution_count": 472,
     "metadata": {},
     "output_type": "execute_result"
    }
   ],
   "source": [
    "x_ = x_df.as_matrix()\n",
    "x_[:3]"
   ]
  },
  {
   "cell_type": "code",
   "execution_count": 473,
   "metadata": {},
   "outputs": [
    {
     "name": "stdout",
     "output_type": "stream",
     "text": [
      "(626, 6)\n",
      "(6,)\n"
     ]
    }
   ],
   "source": [
    "print(x_.shape)\n",
    "print(x_[0].shape)"
   ]
  },
  {
   "cell_type": "code",
   "execution_count": 474,
   "metadata": {},
   "outputs": [],
   "source": [
    "shp = x_[0].shape[0]"
   ]
  },
  {
   "cell_type": "markdown",
   "metadata": {},
   "source": [
    "#### Divide the dataset into trian & test dataset"
   ]
  },
  {
   "cell_type": "code",
   "execution_count": 475,
   "metadata": {},
   "outputs": [],
   "source": [
    "ratio = 0.80\n",
    "x_train = np.array(x_[:int((len(x_)*ratio))])\n",
    "x_test = np.array(x_[len(x_train):])\n",
    "y_train = np.array(y_categorical[:int((len(y_categorical)*ratio))])\n",
    "y_test = np.array(y_categorical[len(y_train):])"
   ]
  },
  {
   "cell_type": "code",
   "execution_count": 476,
   "metadata": {},
   "outputs": [
    {
     "name": "stdout",
     "output_type": "stream",
     "text": [
      "500\n",
      "126\n"
     ]
    }
   ],
   "source": [
    "print(len(x_train))\n",
    "print(len(x_test))"
   ]
  },
  {
   "cell_type": "code",
   "execution_count": 477,
   "metadata": {},
   "outputs": [
    {
     "data": {
      "text/plain": [
       "(126, 2)"
      ]
     },
     "execution_count": 477,
     "metadata": {},
     "output_type": "execute_result"
    }
   ],
   "source": [
    "y_test.shape"
   ]
  },
  {
   "cell_type": "code",
   "execution_count": 478,
   "metadata": {},
   "outputs": [
    {
     "data": {
      "text/plain": [
       "(2,)"
      ]
     },
     "execution_count": 478,
     "metadata": {},
     "output_type": "execute_result"
    }
   ],
   "source": [
    "y_test[0].shape"
   ]
  },
  {
   "cell_type": "markdown",
   "metadata": {},
   "source": [
    "# Step 6: Define model architecture\n",
    "The simplest model is defined in the Sequential class which is a linear stack of Layers."
   ]
  },
  {
   "cell_type": "code",
   "execution_count": 479,
   "metadata": {},
   "outputs": [],
   "source": [
    "# Declare Sequential model\n",
    "model = Sequential()"
   ]
  },
  {
   "cell_type": "code",
   "execution_count": 480,
   "metadata": {},
   "outputs": [
    {
     "name": "stdout",
     "output_type": "stream",
     "text": [
      "(None, 500)\n"
     ]
    }
   ],
   "source": [
    "# Next, declare input layer. Input shape parameter is the shape of 1 sample.\n",
    "model.add(Dense(500, input_shape=(shp,)))\n",
    "model.add(Activation('relu')) \n",
    "# An \"activation\" is just a non-linear function applied to the output of the layer above.\n",
    "\n",
    "# If I print, the current shape of the model output, it will return me this.\n",
    "print(model.output_shape)"
   ]
  },
  {
   "cell_type": "code",
   "execution_count": 481,
   "metadata": {},
   "outputs": [],
   "source": [
    "# Now add more layers.\n",
    "# We want to add Dropout layer to regularize the model in order to prevent overfitting.\n",
    "model.add(Dropout(0.2))\n",
    "model.add(Dense(500))\n",
    "model.add(Activation('relu'))\n",
    "model.add(Dropout(0.2))\n",
    "model.add(Dense(2)) # Corresponds to the final output size of 2.\n",
    "model.add(Activation('softmax'))"
   ]
  },
  {
   "cell_type": "markdown",
   "metadata": {},
   "source": [
    "This special \"softmax\" activation among other things, ensures the output is a valid probaility distribution, that its values are all non-negative and sum to 1."
   ]
  },
  {
   "cell_type": "markdown",
   "metadata": {},
   "source": [
    "# Step 7: Compile model\n",
    "Cannot believe it is almost done already. The hard part is already over and I will just compile the model."
   ]
  },
  {
   "cell_type": "code",
   "execution_count": 482,
   "metadata": {},
   "outputs": [],
   "source": [
    "model.compile(loss='categorical_crossentropy', optimizer='adam')"
   ]
  },
  {
   "cell_type": "markdown",
   "metadata": {},
   "source": [
    "# Step 8: Fit model on training data"
   ]
  },
  {
   "cell_type": "code",
   "execution_count": 483,
   "metadata": {},
   "outputs": [
    {
     "name": "stdout",
     "output_type": "stream",
     "text": [
      "Train on 500 samples, validate on 126 samples\n",
      "Epoch 1/4\n",
      "\r",
      " 32/500 [>.............................] - ETA: 6s - loss: 1.2945\b\b\b\b\b\b\b\b\b\b\b\b\b\b\b\b\b\b\b\b\b\b\b\b\b\b\b\b\b\b\b\b\b\b\b\b\b\b\b\b\b\b\b\b\b\b\b\b\b\b\b\b\b\b\b\b\b\b\b\b\b\b\b\b\b\r",
      "256/500 [==============>...............] - ETA: 0s - loss: 1.1061\b\b\b\b\b\b\b\b\b\b\b\b\b\b\b\b\b\b\b\b\b\b\b\b\b\b\b\b\b\b\b\b\b\b\b\b\b\b\b\b\b\b\b\b\b\b\b\b\b\b\b\b\b\b\b\b\b\b\b\b\b\b\b\b\b\r",
      "480/500 [===========================>..] - ETA: 0s - loss: 1.0172\b\b\b\b\b\b\b\b\b\b\b\b\b\b\b\b\b\b\b\b\b\b\b\b\b\b\b\b\b\b\b\b\b\b\b\b\b\b\b\b\b\b\b\b\b\b\b\b\b\b\b\b\b\b\b\b\b\b\b\b\b\b\b\b\b\r",
      "500/500 [==============================] - 1s 1ms/step - loss: 1.0055 - val_loss: 0.7132\n",
      "Epoch 2/4\n",
      "\r",
      " 32/500 [>.............................] - ETA: 0s - loss: 0.6753\b\b\b\b\b\b\b\b\b\b\b\b\b\b\b\b\b\b\b\b\b\b\b\b\b\b\b\b\b\b\b\b\b\b\b\b\b\b\b\b\b\b\b\b\b\b\b\b\b\b\b\b\b\b\b\b\b\b\b\b\b\b\b\b\b\r",
      "288/500 [================>.............] - ETA: 0s - loss: 0.7631\b\b\b\b\b\b\b\b\b\b\b\b\b\b\b\b\b\b\b\b\b\b\b\b\b\b\b\b\b\b\b\b\b\b\b\b\b\b\b\b\b\b\b\b\b\b\b\b\b\b\b\b\b\b\b\b\b\b\b\b\b\b\b\b\b\r",
      "500/500 [==============================] - 0s 220us/step - loss: 0.7675 - val_loss: 0.7132\n",
      "Epoch 3/4\n",
      "\r",
      " 32/500 [>.............................] - ETA: 0s - loss: 0.6790\b\b\b\b\b\b\b\b\b\b\b\b\b\b\b\b\b\b\b\b\b\b\b\b\b\b\b\b\b\b\b\b\b\b\b\b\b\b\b\b\b\b\b\b\b\b\b\b\b\b\b\b\b\b\b\b\b\b\b\b\b\b\b\b\b\r",
      "320/500 [==================>...........] - ETA: 0s - loss: 0.7541\b\b\b\b\b\b\b\b\b\b\b\b\b\b\b\b\b\b\b\b\b\b\b\b\b\b\b\b\b\b\b\b\b\b\b\b\b\b\b\b\b\b\b\b\b\b\b\b\b\b\b\b\b\b\b\b\b\b\b\b\b\b\b\b\b\r",
      "500/500 [==============================] - 0s 185us/step - loss: 0.7632 - val_loss: 0.7381\n",
      "Epoch 4/4\n",
      "\r",
      " 32/500 [>.............................] - ETA: 0s - loss: 0.6803\b\b\b\b\b\b\b\b\b\b\b\b\b\b\b\b\b\b\b\b\b\b\b\b\b\b\b\b\b\b\b\b\b\b\b\b\b\b\b\b\b\b\b\b\b\b\b\b\b\b\b\b\b\b\b\b\b\b\b\b\b\b\b\b\b\r",
      "320/500 [==================>...........] - ETA: 0s - loss: 0.7455\b\b\b\b\b\b\b\b\b\b\b\b\b\b\b\b\b\b\b\b\b\b\b\b\b\b\b\b\b\b\b\b\b\b\b\b\b\b\b\b\b\b\b\b\b\b\b\b\b\b\b\b\b\b\b\b\b\b\b\b\b\b\b\b\b\r",
      "500/500 [==============================] - 0s 203us/step - loss: 0.7601 - val_loss: 0.8101\n"
     ]
    },
    {
     "data": {
      "text/plain": [
       "<keras.callbacks.History at 0x1247438d0>"
      ]
     },
     "execution_count": 483,
     "metadata": {},
     "output_type": "execute_result"
    }
   ],
   "source": [
    "model.fit(x_train, y_train,\n",
    "          batch_size=32, epochs=4,\n",
    "          verbose=1,\n",
    "          validation_data=(x_test, y_test))"
   ]
  },
  {
   "cell_type": "markdown",
   "metadata": {},
   "source": [
    "### That was easy. huh?"
   ]
  },
  {
   "cell_type": "markdown",
   "metadata": {},
   "source": [
    "## Step 6: Evaluate model on test data"
   ]
  },
  {
   "cell_type": "code",
   "execution_count": 484,
   "metadata": {},
   "outputs": [
    {
     "name": "stdout",
     "output_type": "stream",
     "text": [
      "\r",
      " 32/126 [======>.......................] - ETA: 0s\b\b\b\b\b\b\b\b\b\b\b\b\b\b\b\b\b\b\b\b\b\b\b\b\b\b\b\b\b\b\b\b\b\b\b\b\b\b\b\b\b\b\b\b\b\b\b\b\b\b\r",
      "126/126 [==============================] - 0s 98us/step\n"
     ]
    },
    {
     "data": {
      "text/plain": [
       "0.81008685297436189"
      ]
     },
     "execution_count": 484,
     "metadata": {},
     "output_type": "execute_result"
    }
   ],
   "source": [
    "score = model.evaluate(x_test, y_test, verbose = 1)\n",
    "score"
   ]
  },
  {
   "cell_type": "markdown",
   "metadata": {},
   "source": [
    "Score is the mean of the loss for each test sample. "
   ]
  },
  {
   "cell_type": "markdown",
   "metadata": {},
   "source": [
    "### Accuracy\n",
    "The predict_classes function outputs the highest probability class according to the trained classifier for each input example."
   ]
  },
  {
   "cell_type": "code",
   "execution_count": 485,
   "metadata": {},
   "outputs": [],
   "source": [
    "prediction = model.predict(x_test)\n",
    "predicted_classes = model.predict_classes(x_test)"
   ]
  },
  {
   "cell_type": "code",
   "execution_count": 486,
   "metadata": {},
   "outputs": [],
   "source": [
    "prediction = model.predict(x_test)\n",
    "predicted_classes = model.predict_classes(x_test)\n",
    "\n",
    "def categorical_accuracy(y_true, y_pred):\n",
    "    accu = 0\n",
    "    for idx, y in enumerate(y_true):\n",
    "        y_t = 0\n",
    "        if y[0] == 1:\n",
    "            pass\n",
    "        else:\n",
    "            y_t += 1\n",
    "            \n",
    "        if y_t == y_pred[idx]:\n",
    "            accu += 1\n",
    "    accuracy = accu / len(y_true)\n",
    "    print(\"Accuracy: \", accuracy)\n",
    "    return accuracy\n",
    "\n",
    "accuracy = categorical_accuracy(y_test,predicted_classes)"
   ]
  },
  {
   "cell_type": "code",
   "execution_count": 487,
   "metadata": {},
   "outputs": [
    {
     "name": "stdout",
     "output_type": "stream",
     "text": [
      "Accuracy:  0.47619047619047616\n"
     ]
    }
   ],
   "source": [
    "accuracy = categorical_accuracy(y_test,predicted_classes)"
   ]
  },
  {
   "cell_type": "code",
   "execution_count": 488,
   "metadata": {},
   "outputs": [
    {
     "data": {
      "text/plain": [
       "array([[ 0.,  1.],\n",
       "       [ 1.,  0.],\n",
       "       [ 1.,  0.],\n",
       "       [ 0.,  1.],\n",
       "       [ 0.,  1.],\n",
       "       [ 1.,  0.],\n",
       "       [ 0.,  1.],\n",
       "       [ 1.,  0.],\n",
       "       [ 0.,  1.],\n",
       "       [ 1.,  0.]])"
      ]
     },
     "execution_count": 488,
     "metadata": {},
     "output_type": "execute_result"
    }
   ],
   "source": [
    "y_categorical[:10]"
   ]
  },
  {
   "cell_type": "code",
   "execution_count": 489,
   "metadata": {},
   "outputs": [
    {
     "data": {
      "text/plain": [
       "array([[ 0.59442014,  0.40557989],\n",
       "       [ 0.64226657,  0.3577334 ],\n",
       "       [ 0.65541857,  0.34458145],\n",
       "       [ 0.59892881,  0.40107116],\n",
       "       [ 0.54136086,  0.45863917],\n",
       "       [ 0.65934926,  0.34065074],\n",
       "       [ 0.60531616,  0.39468381],\n",
       "       [ 0.57603872,  0.42396122],\n",
       "       [ 0.8457908 ,  0.15420923],\n",
       "       [ 0.63563502,  0.36436501]], dtype=float32)"
      ]
     },
     "execution_count": 489,
     "metadata": {},
     "output_type": "execute_result"
    }
   ],
   "source": [
    "prediction[:10]"
   ]
  },
  {
   "cell_type": "code",
   "execution_count": null,
   "metadata": {},
   "outputs": [],
   "source": []
  },
  {
   "cell_type": "code",
   "execution_count": null,
   "metadata": {},
   "outputs": [],
   "source": []
  }
 ],
 "metadata": {
  "kernelspec": {
   "display_name": "Python 3",
   "language": "python",
   "name": "python3"
  },
  "language_info": {
   "codemirror_mode": {
    "name": "ipython",
    "version": 3
   },
   "file_extension": ".py",
   "mimetype": "text/x-python",
   "name": "python",
   "nbconvert_exporter": "python",
   "pygments_lexer": "ipython3",
   "version": "3.4.5"
  }
 },
 "nbformat": 4,
 "nbformat_minor": 2
}
