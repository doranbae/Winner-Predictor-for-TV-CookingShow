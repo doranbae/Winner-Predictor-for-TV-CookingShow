{
 "cells": [
  {
   "cell_type": "markdown",
   "metadata": {},
   "source": [
    "# Using Keras to Predict the Next Winner\n",
    "### Model summary\n",
    "1. Use Keras categorical neural network using sequential class\n",
    "\n",
    "### Features summary\n",
    "1. Chef's elo rating in the group\n",
    "2. Chef's elo rating against the competition\n",
    "3. Demographic difference between the chef and the guest the chef is cooking for"
   ]
  },
  {
   "cell_type": "code",
   "execution_count": 2,
   "metadata": {},
   "outputs": [],
   "source": [
    "from keras.models import Sequential\n",
    "from keras.layers.core import Dense, Dropout, Activation\n",
    "from keras.utils import np_utils\n",
    "import pickle\n",
    "import numpy as np\n",
    "import pandas as pd\n",
    "import copy\n",
    "from collections import Counter\n",
    "from helper import *\n",
    "from keras.models import Sequential\n",
    "from keras.layers import Dense\n",
    "from keras.wrappers.scikit_learn import KerasClassifier\n",
    "from sklearn.model_selection import cross_val_score\n",
    "from sklearn.preprocessing import LabelEncoder\n",
    "from sklearn.model_selection import StratifiedKFold\n",
    "from sklearn.preprocessing import StandardScaler\n",
    "from sklearn.pipeline import Pipeline\n",
    "from collections import defaultdict"
   ]
  },
  {
   "cell_type": "markdown",
   "metadata": {},
   "source": [
    "# Step 1: Load dataset\n",
    "The features are already engineered and I am now uploading the pickle file "
   ]
  },
  {
   "cell_type": "code",
   "execution_count": 3,
   "metadata": {},
   "outputs": [],
   "source": [
    "with open(\"data/_feature_match_data.pkl\", \"rb\") as fp:\n",
    "    match_data = pickle.load(fp)"
   ]
  },
  {
   "cell_type": "code",
   "execution_count": 4,
   "metadata": {},
   "outputs": [
    {
     "data": {
      "text/html": [
       "<div>\n",
       "<style>\n",
       "    .dataframe thead tr:only-child th {\n",
       "        text-align: right;\n",
       "    }\n",
       "\n",
       "    .dataframe thead th {\n",
       "        text-align: left;\n",
       "    }\n",
       "\n",
       "    .dataframe tbody tr th {\n",
       "        vertical-align: top;\n",
       "    }\n",
       "</style>\n",
       "<table border=\"1\" class=\"dataframe\">\n",
       "  <thead>\n",
       "    <tr style=\"text-align: right;\">\n",
       "      <th></th>\n",
       "      <th>date_</th>\n",
       "      <th>chef_name</th>\n",
       "      <th>against</th>\n",
       "      <th>guest_name</th>\n",
       "      <th>nID</th>\n",
       "      <th>win_prob</th>\n",
       "      <th>result</th>\n",
       "      <th>c_age</th>\n",
       "      <th>g_age</th>\n",
       "      <th>age_delta</th>\n",
       "      <th>c_gender</th>\n",
       "      <th>g_gender</th>\n",
       "      <th>gender_delta</th>\n",
       "      <th>against_specific_win_p</th>\n",
       "      <th>chef_id</th>\n",
       "      <th>against_id</th>\n",
       "    </tr>\n",
       "  </thead>\n",
       "  <tbody>\n",
       "    <tr>\n",
       "      <th>0</th>\n",
       "      <td>1/19/2015</td>\n",
       "      <td>최현석</td>\n",
       "      <td>박준우</td>\n",
       "      <td>소유진</td>\n",
       "      <td>-1.0</td>\n",
       "      <td>0.5</td>\n",
       "      <td>1</td>\n",
       "      <td>46</td>\n",
       "      <td>37</td>\n",
       "      <td>9</td>\n",
       "      <td>1</td>\n",
       "      <td>0</td>\n",
       "      <td>1</td>\n",
       "      <td>0.5</td>\n",
       "      <td>4</td>\n",
       "      <td>12</td>\n",
       "    </tr>\n",
       "    <tr>\n",
       "      <th>1</th>\n",
       "      <td>1/19/2015</td>\n",
       "      <td>홍석천</td>\n",
       "      <td>샘킴</td>\n",
       "      <td>소유진</td>\n",
       "      <td>-1.0</td>\n",
       "      <td>0.5</td>\n",
       "      <td>1</td>\n",
       "      <td>40</td>\n",
       "      <td>37</td>\n",
       "      <td>3</td>\n",
       "      <td>1</td>\n",
       "      <td>0</td>\n",
       "      <td>1</td>\n",
       "      <td>0.5</td>\n",
       "      <td>8</td>\n",
       "      <td>1</td>\n",
       "    </tr>\n",
       "    <tr>\n",
       "      <th>2</th>\n",
       "      <td>1/26/2015</td>\n",
       "      <td>미카엘</td>\n",
       "      <td>김풍</td>\n",
       "      <td>가희</td>\n",
       "      <td>-1.0</td>\n",
       "      <td>0.5</td>\n",
       "      <td>1</td>\n",
       "      <td>36</td>\n",
       "      <td>38</td>\n",
       "      <td>2</td>\n",
       "      <td>1</td>\n",
       "      <td>0</td>\n",
       "      <td>1</td>\n",
       "      <td>0.5</td>\n",
       "      <td>3</td>\n",
       "      <td>0</td>\n",
       "    </tr>\n",
       "  </tbody>\n",
       "</table>\n",
       "</div>"
      ],
      "text/plain": [
       "       date_ chef_name against guest_name  nID  win_prob  result  c_age  \\\n",
       "0  1/19/2015       최현석     박준우        소유진 -1.0       0.5       1     46   \n",
       "1  1/19/2015       홍석천      샘킴        소유진 -1.0       0.5       1     40   \n",
       "2  1/26/2015       미카엘      김풍         가희 -1.0       0.5       1     36   \n",
       "\n",
       "   g_age  age_delta  c_gender  g_gender  gender_delta against_specific_win_p  \\\n",
       "0     37          9         1         0             1                    0.5   \n",
       "1     37          3         1         0             1                    0.5   \n",
       "2     38          2         1         0             1                    0.5   \n",
       "\n",
       "   chef_id  against_id  \n",
       "0        4          12  \n",
       "1        8           1  \n",
       "2        3           0  "
      ]
     },
     "execution_count": 4,
     "metadata": {},
     "output_type": "execute_result"
    }
   ],
   "source": [
    "match_data[:3]"
   ]
  },
  {
   "cell_type": "markdown",
   "metadata": {},
   "source": [
    "### About this table\n",
    "* nID: A unique ID related to each recipe (or cook-off) where there is a recipe.\n",
    "* result: 0 - lose, 1 - win\n",
    "* c_age: chef age (as of 2018 Mar)\n",
    "* g_age: guest age (as of 2018 Mar)\n",
    "* age_delta: difference in years between the chef and the guest in age\n",
    "* c_gender: gender of the chef\n",
    "* g_gender: gender of the guest\n",
    "* genrder_delta: difference between the chef and the guest (0 - female, 1 - male)"
   ]
  },
  {
   "cell_type": "code",
   "execution_count": 5,
   "metadata": {},
   "outputs": [
    {
     "data": {
      "text/html": [
       "<div>\n",
       "<style>\n",
       "    .dataframe thead tr:only-child th {\n",
       "        text-align: right;\n",
       "    }\n",
       "\n",
       "    .dataframe thead th {\n",
       "        text-align: left;\n",
       "    }\n",
       "\n",
       "    .dataframe tbody tr th {\n",
       "        vertical-align: top;\n",
       "    }\n",
       "</style>\n",
       "<table border=\"1\" class=\"dataframe\">\n",
       "  <thead>\n",
       "    <tr style=\"text-align: right;\">\n",
       "      <th></th>\n",
       "      <th>date_</th>\n",
       "      <th>chef_name</th>\n",
       "      <th>against</th>\n",
       "      <th>guest_name</th>\n",
       "      <th>nID</th>\n",
       "      <th>win_prob</th>\n",
       "      <th>result</th>\n",
       "      <th>c_age</th>\n",
       "      <th>g_age</th>\n",
       "      <th>age_delta</th>\n",
       "      <th>c_gender</th>\n",
       "      <th>g_gender</th>\n",
       "      <th>gender_delta</th>\n",
       "      <th>against_specific_win_p</th>\n",
       "      <th>chef_id</th>\n",
       "      <th>against_id</th>\n",
       "    </tr>\n",
       "  </thead>\n",
       "  <tbody>\n",
       "    <tr>\n",
       "      <th>0</th>\n",
       "      <td>10/30/2017</td>\n",
       "      <td>이재훈</td>\n",
       "      <td>샘킴</td>\n",
       "      <td>진_(가수)</td>\n",
       "      <td>6524.0</td>\n",
       "      <td>0.545922</td>\n",
       "      <td>1</td>\n",
       "      <td>38</td>\n",
       "      <td>26</td>\n",
       "      <td>12</td>\n",
       "      <td>1</td>\n",
       "      <td>1</td>\n",
       "      <td>0</td>\n",
       "      <td>0.661441</td>\n",
       "      <td>13</td>\n",
       "      <td>1</td>\n",
       "    </tr>\n",
       "    <tr>\n",
       "      <th>1</th>\n",
       "      <td>10/17/2016</td>\n",
       "      <td>김민준</td>\n",
       "      <td>김풍</td>\n",
       "      <td>김흥국</td>\n",
       "      <td>6318.0</td>\n",
       "      <td>0.479863</td>\n",
       "      <td>0</td>\n",
       "      <td>42</td>\n",
       "      <td>59</td>\n",
       "      <td>17</td>\n",
       "      <td>1</td>\n",
       "      <td>1</td>\n",
       "      <td>0</td>\n",
       "      <td>0.5</td>\n",
       "      <td>17</td>\n",
       "      <td>0</td>\n",
       "    </tr>\n",
       "    <tr>\n",
       "      <th>2</th>\n",
       "      <td>12/19/2016</td>\n",
       "      <td>미카엘</td>\n",
       "      <td>최현석</td>\n",
       "      <td>거미_(가수)</td>\n",
       "      <td>6353.0</td>\n",
       "      <td>0.724538</td>\n",
       "      <td>0</td>\n",
       "      <td>36</td>\n",
       "      <td>37</td>\n",
       "      <td>1</td>\n",
       "      <td>1</td>\n",
       "      <td>0</td>\n",
       "      <td>1</td>\n",
       "      <td>0.488165</td>\n",
       "      <td>3</td>\n",
       "      <td>4</td>\n",
       "    </tr>\n",
       "  </tbody>\n",
       "</table>\n",
       "</div>"
      ],
      "text/plain": [
       "        date_ chef_name against guest_name     nID  win_prob  result  c_age  \\\n",
       "0  10/30/2017       이재훈      샘킴     진_(가수)  6524.0  0.545922       1     38   \n",
       "1  10/17/2016       김민준      김풍        김흥국  6318.0  0.479863       0     42   \n",
       "2  12/19/2016       미카엘     최현석    거미_(가수)  6353.0  0.724538       0     36   \n",
       "\n",
       "   g_age  age_delta  c_gender  g_gender  gender_delta against_specific_win_p  \\\n",
       "0     26         12         1         1             0               0.661441   \n",
       "1     59         17         1         1             0                    0.5   \n",
       "2     37          1         1         0             1               0.488165   \n",
       "\n",
       "   chef_id  against_id  \n",
       "0       13           1  \n",
       "1       17           0  \n",
       "2        3           4  "
      ]
     },
     "execution_count": 5,
     "metadata": {},
     "output_type": "execute_result"
    }
   ],
   "source": [
    "match_data = match_data.sample(frac=1).reset_index(drop=True)\n",
    "match_data[:3]"
   ]
  },
  {
   "cell_type": "markdown",
   "metadata": {},
   "source": [
    "# Step 2: Prepare x (input) and y (output)"
   ]
  },
  {
   "cell_type": "markdown",
   "metadata": {},
   "source": [
    "## Y"
   ]
  },
  {
   "cell_type": "code",
   "execution_count": 6,
   "metadata": {},
   "outputs": [
    {
     "name": "stdout",
     "output_type": "stream",
     "text": [
      "(630, 2)\n",
      "(2,)\n",
      "[[0. 1.]\n",
      " [1. 0.]\n",
      " [1. 0.]]\n"
     ]
    }
   ],
   "source": [
    "y_ = match_data[\"result\"].tolist()\n",
    "y_categorical = np_utils.to_categorical(y_, 2)\n",
    "print(y_categorical.shape)\n",
    "print(y_categorical[0].shape)\n",
    "print(y_categorical[:3])"
   ]
  },
  {
   "cell_type": "markdown",
   "metadata": {},
   "source": [
    "## X"
   ]
  },
  {
   "cell_type": "code",
   "execution_count": 7,
   "metadata": {},
   "outputs": [
    {
     "name": "stdout",
     "output_type": "stream",
     "text": [
      "(630, 6)\n",
      "(6,)\n"
     ]
    }
   ],
   "source": [
    "x_df = match_data[[\"chef_id\",\"against_id\",\"win_prob\",\"age_delta\",\"gender_delta\",\"against_specific_win_p\"]]\n",
    "x_ = x_df.as_matrix()\n",
    "shp = x_[0].shape[0]\n",
    "print(x_.shape)\n",
    "print(x_[0].shape)"
   ]
  },
  {
   "cell_type": "markdown",
   "metadata": {},
   "source": [
    "### Devide into train & test group"
   ]
  },
  {
   "cell_type": "code",
   "execution_count": 8,
   "metadata": {},
   "outputs": [],
   "source": [
    "ratio = 0.80\n",
    "x_train = np.array(x_[:int((len(x_)*ratio))])\n",
    "x_test = np.array(x_[len(x_train):])\n",
    "y_train = np.array(y_categorical[:int((len(y_categorical)*ratio))])\n",
    "y_test = np.array(y_categorical[len(y_train):])"
   ]
  },
  {
   "cell_type": "markdown",
   "metadata": {},
   "source": [
    "# Step 3: Define model architecture\n",
    "Use Keras Sequential class which is a linear stack of layers"
   ]
  },
  {
   "cell_type": "code",
   "execution_count": 9,
   "metadata": {},
   "outputs": [],
   "source": [
    "# Declare Sequential model\n",
    "model = Sequential()"
   ]
  },
  {
   "cell_type": "code",
   "execution_count": 10,
   "metadata": {},
   "outputs": [
    {
     "name": "stdout",
     "output_type": "stream",
     "text": [
      "(None, 500)\n"
     ]
    }
   ],
   "source": [
    "# Next, declare input layer\n",
    "model.add(Dense(500, input_shape=(shp,)))\n",
    "model.add(Activation('relu')) \n",
    "\n",
    "# If I print, the current shape of the model output, it will return me this.\n",
    "print(model.output_shape)"
   ]
  },
  {
   "cell_type": "code",
   "execution_count": 11,
   "metadata": {},
   "outputs": [],
   "source": [
    "# Now add more layers.\n",
    "# We want to add Dropout layer to regularize the model in order to prevent overfitting.\n",
    "model.add(Dropout(0.2))\n",
    "model.add(Dense(500))\n",
    "model.add(Activation('relu'))\n",
    "model.add(Dropout(0.2))\n",
    "model.add(Dense(2)) # Corresponds to the final output size of 2.\n",
    "model.add(Activation('softmax'))"
   ]
  },
  {
   "cell_type": "markdown",
   "metadata": {},
   "source": [
    "# Step 4: Compile model and fit model on training data"
   ]
  },
  {
   "cell_type": "code",
   "execution_count": 18,
   "metadata": {},
   "outputs": [],
   "source": [
    "model.compile(loss='categorical_crossentropy', optimizer='adam')"
   ]
  },
  {
   "cell_type": "code",
   "execution_count": 19,
   "metadata": {},
   "outputs": [
    {
     "name": "stdout",
     "output_type": "stream",
     "text": [
      "Train on 504 samples, validate on 126 samples\n",
      "Epoch 1/4\n",
      "\r",
      " 32/504 [>.............................] - ETA: 4s - loss: 0.7770\b\b\b\b\b\b\b\b\b\b\b\b\b\b\b\b\b\b\b\b\b\b\b\b\b\b\b\b\b\b\b\b\b\b\b\b\b\b\b\b\b\b\b\b\b\b\b\b\b\b\b\b\b\b\b\b\b\b\b\b\b\b\b\b\b\r",
      "256/504 [==============>...............] - ETA: 0s - loss: 0.7799\b\b\b\b\b\b\b\b\b\b\b\b\b\b\b\b\b\b\b\b\b\b\b\b\b\b\b\b\b\b\b\b\b\b\b\b\b\b\b\b\b\b\b\b\b\b\b\b\b\b\b\b\b\b\b\b\b\b\b\b\b\b\b\b\b\r",
      "448/504 [=========================>....] - ETA: 0s - loss: 0.7541\b\b\b\b\b\b\b\b\b\b\b\b\b\b\b\b\b\b\b\b\b\b\b\b\b\b\b\b\b\b\b\b\b\b\b\b\b\b\b\b\b\b\b\b\b\b\b\b\b\b\b\b\b\b\b\b\b\b\b\b\b\b\b\b\b\r",
      "504/504 [==============================] - 0s 859us/step - loss: 0.7533 - val_loss: 0.7210\n",
      "Epoch 2/4\n",
      "\r",
      " 32/504 [>.............................] - ETA: 0s - loss: 0.7619\b\b\b\b\b\b\b\b\b\b\b\b\b\b\b\b\b\b\b\b\b\b\b\b\b\b\b\b\b\b\b\b\b\b\b\b\b\b\b\b\b\b\b\b\b\b\b\b\b\b\b\b\b\b\b\b\b\b\b\b\b\b\b\b\b\r",
      "256/504 [==============>...............] - ETA: 0s - loss: 0.7442\b\b\b\b\b\b\b\b\b\b\b\b\b\b\b\b\b\b\b\b\b\b\b\b\b\b\b\b\b\b\b\b\b\b\b\b\b\b\b\b\b\b\b\b\b\b\b\b\b\b\b\b\b\b\b\b\b\b\b\b\b\b\b\b\b\r",
      "480/504 [===========================>..] - ETA: 0s - loss: 0.7422\b\b\b\b\b\b\b\b\b\b\b\b\b\b\b\b\b\b\b\b\b\b\b\b\b\b\b\b\b\b\b\b\b\b\b\b\b\b\b\b\b\b\b\b\b\b\b\b\b\b\b\b\b\b\b\b\b\b\b\b\b\b\b\b\b\r",
      "504/504 [==============================] - 0s 257us/step - loss: 0.7396 - val_loss: 0.6994\n",
      "Epoch 3/4\n",
      "\r",
      " 32/504 [>.............................] - ETA: 0s - loss: 0.7205\b\b\b\b\b\b\b\b\b\b\b\b\b\b\b\b\b\b\b\b\b\b\b\b\b\b\b\b\b\b\b\b\b\b\b\b\b\b\b\b\b\b\b\b\b\b\b\b\b\b\b\b\b\b\b\b\b\b\b\b\b\b\b\b\b\r",
      "288/504 [================>.............] - ETA: 0s - loss: 0.6749\b\b\b\b\b\b\b\b\b\b\b\b\b\b\b\b\b\b\b\b\b\b\b\b\b\b\b\b\b\b\b\b\b\b\b\b\b\b\b\b\b\b\b\b\b\b\b\b\b\b\b\b\b\b\b\b\b\b\b\b\b\b\b\b\b\r",
      "504/504 [==============================] - 0s 228us/step - loss: 0.6977 - val_loss: 0.8017\n",
      "Epoch 4/4\n",
      "\r",
      " 32/504 [>.............................] - ETA: 0s - loss: 0.8433\b\b\b\b\b\b\b\b\b\b\b\b\b\b\b\b\b\b\b\b\b\b\b\b\b\b\b\b\b\b\b\b\b\b\b\b\b\b\b\b\b\b\b\b\b\b\b\b\b\b\b\b\b\b\b\b\b\b\b\b\b\b\b\b\b\r",
      "256/504 [==============>...............] - ETA: 0s - loss: 0.7856\b\b\b\b\b\b\b\b\b\b\b\b\b\b\b\b\b\b\b\b\b\b\b\b\b\b\b\b\b\b\b\b\b\b\b\b\b\b\b\b\b\b\b\b\b\b\b\b\b\b\b\b\b\b\b\b\b\b\b\b\b\b\b\b\b\r",
      "504/504 [==============================] - 0s 238us/step - loss: 0.7590 - val_loss: 0.7836\n"
     ]
    },
    {
     "data": {
      "text/plain": [
       "<keras.callbacks.History at 0x1204c5cf8>"
      ]
     },
     "execution_count": 19,
     "metadata": {},
     "output_type": "execute_result"
    }
   ],
   "source": [
    "model.fit(x_train, y_train,\n",
    "          batch_size=32, epochs=4,\n",
    "          verbose=1,\n",
    "          validation_data=(x_test, y_test))"
   ]
  },
  {
   "cell_type": "markdown",
   "metadata": {},
   "source": [
    "### Not so difficult, huh?"
   ]
  },
  {
   "cell_type": "markdown",
   "metadata": {},
   "source": [
    "# Step 5: Evaluate model on test data\n",
    "* Score: mean of the loss for each test sample\n",
    "* Accuracy: the predict_classes function outputs the highest probability class according to the trained classifier for each input example"
   ]
  },
  {
   "cell_type": "code",
   "execution_count": 20,
   "metadata": {},
   "outputs": [
    {
     "name": "stdout",
     "output_type": "stream",
     "text": [
      "\r",
      " 32/126 [======>.......................] - ETA: 0s\b\b\b\b\b\b\b\b\b\b\b\b\b\b\b\b\b\b\b\b\b\b\b\b\b\b\b\b\b\b\b\b\b\b\b\b\b\b\b\b\b\b\b\b\b\b\b\b\b\b\r",
      "126/126 [==============================] - 0s 81us/step\n"
     ]
    },
    {
     "data": {
      "text/plain": [
       "0.7836137745115492"
      ]
     },
     "execution_count": 20,
     "metadata": {},
     "output_type": "execute_result"
    }
   ],
   "source": [
    "# Score\n",
    "score = model.evaluate(x_test, y_test, verbose = 1)\n",
    "score"
   ]
  },
  {
   "cell_type": "code",
   "execution_count": 21,
   "metadata": {},
   "outputs": [],
   "source": [
    "# Accuracy\n",
    "prediction = model.predict(x_test)\n",
    "predicted_classes = model.predict_classes(x_test)\n",
    "\n",
    "def categorical_accuracy(y_true, y_pred):\n",
    "    accu = 0\n",
    "    for idx, y in enumerate(y_true):\n",
    "        y_t = 0\n",
    "        if y[0] == 1:\n",
    "            pass\n",
    "        else:\n",
    "            y_t += 1\n",
    "            \n",
    "        if y_t == y_pred[idx]:\n",
    "            accu += 1\n",
    "    accuracy = accu / len(y_true)\n",
    "    print(\"Accuracy: \", accuracy)\n",
    "    return accuracy"
   ]
  },
  {
   "cell_type": "code",
   "execution_count": 22,
   "metadata": {},
   "outputs": [
    {
     "name": "stdout",
     "output_type": "stream",
     "text": [
      "Accuracy:  0.5317460317460317\n"
     ]
    }
   ],
   "source": [
    "accuracy = categorical_accuracy(y_test,predicted_classes)"
   ]
  },
  {
   "cell_type": "markdown",
   "metadata": {},
   "source": [
    "### Okay, so I am only slightly doing better than a monkey. \n",
    "Obviously, the dataset I have is way too small for neural network."
   ]
  }
 ],
 "metadata": {
  "kernelspec": {
   "display_name": "Python 3",
   "language": "python",
   "name": "python3"
  },
  "language_info": {
   "codemirror_mode": {
    "name": "ipython",
    "version": 3
   },
   "file_extension": ".py",
   "mimetype": "text/x-python",
   "name": "python",
   "nbconvert_exporter": "python",
   "pygments_lexer": "ipython3",
   "version": "3.4.5"
  }
 },
 "nbformat": 4,
 "nbformat_minor": 2
}
