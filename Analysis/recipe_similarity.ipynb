{
 "cells": [
  {
   "cell_type": "markdown",
   "metadata": {},
   "source": [
    "# Calculate recipe-ingredient similarity\n",
    "We will compare each recipe's ingredients similarity using three techniques. \n",
    "* Similarity based on co-occurance count\n",
    "* Similarity based on Jaccard\n",
    "* Similarity based on [tfidf](https://en.wikipedia.org/wiki/Tf%E2%80%93idf)\n",
    "\n",
    "#### Before you read further, please check the following terminologies\n",
    "* token: each ingredients. As this is a tutorial for \n",
    "First we will use simple count of tokens. Second, we will calculate the similarity using  technique. For simplicity, we will treat each recipe-ingredients as one document. "
   ]
  },
  {
   "cell_type": "code",
   "execution_count": 152,
   "metadata": {},
   "outputs": [],
   "source": [
    "# Load libraries\n",
    "import pandas as pd\n",
    "import numpy as np\n",
    "import pickle\n",
    "import copy\n",
    "import datetime\n",
    "import math\n",
    "import scipy.sparse as sp\n",
    "from collections import Counter"
   ]
  },
  {
   "cell_type": "markdown",
   "metadata": {},
   "source": [
    "### 0. Load dataset"
   ]
  },
  {
   "cell_type": "code",
   "execution_count": 96,
   "metadata": {},
   "outputs": [],
   "source": [
    "data_path = 'data/'\n",
    "with open( data_path + 'recipe_2_ingredients_dict.pkl', 'rb') as fp:\n",
    "    recipe_2_ingredient_dict = pickle.load(fp)\n",
    "    \n",
    "with open( data_path + 'recipe_2_recipename_dict.pkl', 'rb') as fp:\n",
    "    recipe_2_recipename_dict = pickle.load(fp)"
   ]
  },
  {
   "cell_type": "markdown",
   "metadata": {},
   "source": [
    "## 1. Calculate similarity based on counts\n",
    "This is perhaps the most straight-forward way to calcualte simialrity between documents. We will record all the terms that occur in each document and see the co-occurance of certain terms in any two documents"
   ]
  },
  {
   "cell_type": "code",
   "execution_count": 12,
   "metadata": {},
   "outputs": [],
   "source": [
    "recipe_key_list = list(recipe_2_ingredient_dict.keys())"
   ]
  },
  {
   "cell_type": "code",
   "execution_count": 15,
   "metadata": {},
   "outputs": [],
   "source": [
    "# Get a list of all unique words from all the documents, recipe ingredients\n",
    "unqiue_ingredient_list = []\n",
    "for key in recipe_key_list:\n",
    "    unqiue_ingredient_list = list(set(unqiue_ingredient_list) | set(recipe_2_ingredient_dict[key]))\n",
    "\n",
    "# remove null ingredient\n",
    "unqiue_ingredient_list.remove('')"
   ]
  },
  {
   "cell_type": "code",
   "execution_count": 40,
   "metadata": {},
   "outputs": [],
   "source": [
    "# Create matrix to update the counts\n",
    "# But before we update the matrix, we will create matrix_idx - recipe mapping table\n",
    "recipe_idx_dict     = dict(zip(recipe_key_list, np.arange(0, len(recipe_key_list))))\n",
    "ingredient_idx_dict = dict(zip(unqiue_ingredient_list, np.arange(0, len(unqiue_ingredient_list))))\n",
    "\n",
    "# Make reverse dictionary to use later\n",
    "idx_recipe_dict     = {idx: recipe for recipe, idx in recipe_idx_dict.items()}\n",
    "idx_ingredient_dict = {idx: ingredient for ingredient, idx in ingredient_idx_dict.items()}\n",
    "\n",
    "# Also, define variables\n",
    "row_num = len(recipe_idx_dict)\n",
    "col_num = len(ingredient_idx_dict)"
   ]
  },
  {
   "cell_type": "code",
   "execution_count": 30,
   "metadata": {},
   "outputs": [
    {
     "name": "stdout",
     "output_type": "stream",
     "text": [
      "Populating co-occurance matrix completed. 0:00:00.226271 seconds\n"
     ]
    }
   ],
   "source": [
    "# Populate matrix\n",
    "start = datetime.datetime.now()\n",
    "mat_a = sp.dok_matrix(( row_num, col_num ), dtype = np.int64)\n",
    "for recipe in recipe_key_list:\n",
    "    mx              = recipe_idx_dict[recipe]\n",
    "    ingredient_list = [ing for ing in recipe_2_ingredient_dict[recipe] if ing != '']\n",
    "    for ingredient in ingredient_list:\n",
    "        mx_ingre = ingredient_idx_dict[ingredient]\n",
    "        mat_a[mx, mx_ingre] = 1\n",
    "        \n",
    "# Transpose mat_a\n",
    "mat_b = mat_a.transpose().tocsr()\n",
    "       \n",
    "# Multiply mat_a and mat_b to get co-occurance\n",
    "coo_mx = np.dot(mat_a,mat_b)\n",
    "        \n",
    "end = datetime.datetime.now()\n",
    "print( 'Populating co-occurance matrix completed. {} seconds'.format(end - start) )"
   ]
  },
  {
   "cell_type": "markdown",
   "metadata": {},
   "source": [
    "Now we want to calculate the similarity using counts. If it has the  most counts, we think it is more similar"
   ]
  },
  {
   "cell_type": "code",
   "execution_count": 35,
   "metadata": {},
   "outputs": [],
   "source": [
    "# Convert to dense matrix\n",
    "coo_mx_dense = coo_mx.todense()\n",
    "\n",
    "# Squeeze the matrix into array, so I can sort it in a descending order\n",
    "# Each array value represents how many co-occuring artist for each bx (represented as mx, row index num)\n",
    "\n",
    "coo_ingredient_array = np.squeeze(np.asarray(coo_mx_dense))"
   ]
  },
  {
   "cell_type": "code",
   "execution_count": 44,
   "metadata": {},
   "outputs": [],
   "source": [
    "# We want to ONLY sort non-zero values. Because only non-zero indices make a proper recommendations. \n",
    "coo_ingredient_array_index = np.argsort(~coo_ingredient_array)\n",
    "coo_model = coo_ingredient_array_index\n",
    "\n",
    "# non_zero for production & convert back to recipe & make into dictionary\n",
    "def non_zero_argsort(arr):\n",
    "    indices = np.nonzero(arr)[0]\n",
    "    return indices[np.argsort(~arr[indices])]\n",
    "\n",
    "recipe_2_simRecipe_dict = dict()\n",
    "for arr in range(coo_ingredient_array.shape[0]):\n",
    "    non_zero_rec_candidate = non_zero_argsort(coo_ingredient_array[arr])\n",
    "    # Make into dictionary without self\n",
    "    recipe_2_simRecipe_dict[idx_recipe_dict[arr]] = [idx_recipe_dict[mx] for mx in non_zero_rec_candidate if idx_recipe_dict[mx] != idx_recipe_dict[arr]]"
   ]
  },
  {
   "cell_type": "code",
   "execution_count": 115,
   "metadata": {},
   "outputs": [],
   "source": [
    "def prt_model_result(model, idx_recipe_dict, recipe_idx_dict, recipe_2_ingredient_dict, list_of_recipe_to_test, rec_size):\n",
    "    for test_recipe in list_of_recipe_to_test:\n",
    "        print(test_recipe)\n",
    "        test_recipe_ingredient_list  = recipe_2_ingredient_dict[test_recipe]\n",
    "        close_recipe                 = recipe_2_simRecipe_dict[test_recipe][:rec_size]   # Bring top recommendations from the model\n",
    "        rec_candidates               = [recipe for recipe in close_recipe]     # Convert matrix row id to bx\n",
    "        print( 'Test recipe:{} <{}>'.format(test_recipe, recipe_2_recipename_dict[test_recipe]) )\n",
    "        print( 'Test recipe ingredients: {}'.format(recipe_2_ingredient_dict[test_recipe]) )\n",
    "        print( ' ')\n",
    "        print( 'Similar recipes ')\n",
    "        for rec in rec_candidates:\n",
    "            co_occur_num = len(set(test_recipe_ingredient_list)&set(recipe_2_ingredient_dict[rec]))\n",
    "            print( ' {}, <{}>.............co-occurance: {}'.format(rec, recipe_2_recipename_dict[rec], co_occur_num))\n",
    "            print( ' Co-occuring ingredients: {}'.format(set(test_recipe_ingredient_list)&set(recipe_2_ingredient_dict[rec])))\n",
    "            print( ' ' )\n",
    "            print( ' ' )\n",
    "        print('--------------------------------------------------------------------')    "
   ]
  },
  {
   "cell_type": "code",
   "execution_count": 116,
   "metadata": {},
   "outputs": [],
   "source": [
    "list_of_recipe_to_test = [6128]"
   ]
  },
  {
   "cell_type": "code",
   "execution_count": 117,
   "metadata": {},
   "outputs": [
    {
     "name": "stdout",
     "output_type": "stream",
     "text": [
      "6128\n",
      "Test recipe:6128 <마이 ♥ 케이크>\n",
      "Test recipe ingredients: ['인스턴트 카레', '돈코츠 라면 수프', '트러플 오일', '달걀', '크림소스', '핫케이크 가루', '브로콜리', '파프리카', '팽이버섯', '칵테일 새우', '날치알', '물', '후추', '대파', '소금']\n",
      " \n",
      "Similar recipes \n",
      " 6129, <크림 속에 비친 파프리카>.............co-occurance: 6\n",
      " Co-occuring ingredients: {'팽이버섯', '파프리카', '날치알', '소금', '달걀', '후추'}\n",
      " \n",
      " \n",
      " 6046, <허니버터징>.............co-occurance: 5\n",
      " Co-occuring ingredients: {'대파', '소금', '달걀', '브로콜리', '후추'}\n",
      " \n",
      " \n",
      " 6228, <무적 카레레인저>.............co-occurance: 5\n",
      " Co-occuring ingredients: {'대파', '소금', '브로콜리', '후추', '인스턴트 카레'}\n",
      " \n",
      " \n",
      " 6156, <미트볼그레>.............co-occurance: 5\n",
      " Co-occuring ingredients: {'대파', '소금', '달걀', '파프리카', '후추'}\n",
      " \n",
      " \n",
      " 6127, <로맨티스타 케이크>.............co-occurance: 5\n",
      " Co-occuring ingredients: {'팽이버섯', '소금', '달걀', '후추', '크림소스'}\n",
      " \n",
      " \n",
      " 6459, <떡이라자냐>.............co-occurance: 5\n",
      " Co-occuring ingredients: {'소금', '달걀', '파프리카', '후추', '크림소스'}\n",
      " \n",
      " \n",
      " 6208, <떡.고.치>.............co-occurance: 5\n",
      " Co-occuring ingredients: {'대파', '소금', '달걀', '파프리카', '후추'}\n",
      " \n",
      " \n",
      " 6034, <누르삼>.............co-occurance: 5\n",
      " Co-occuring ingredients: {'대파', '소금', '달걀', '브로콜리', '후추'}\n",
      " \n",
      " \n",
      " 6147, <삼치렐라>.............co-occurance: 5\n",
      " Co-occuring ingredients: {'소금', '달걀', '파프리카', '브로콜리', '후추'}\n",
      " \n",
      " \n",
      " 6560, <무소유>.............co-occurance: 5\n",
      " Co-occuring ingredients: {'대파', '소금', '브로콜리', '후추', '크림소스'}\n",
      " \n",
      " \n",
      " 6361, <불량고기>.............co-occurance: 4\n",
      " Co-occuring ingredients: {'대파', '소금', '파프리카', '후추'}\n",
      " \n",
      " \n",
      " 6547, <월드시리즈 간닭!>.............co-occurance: 4\n",
      " Co-occuring ingredients: {'대파', '소금', '달걀', '후추'}\n",
      " \n",
      " \n",
      " 6256, <닭날두>.............co-occurance: 4\n",
      " Co-occuring ingredients: {'소금', '달걀', '파프리카', '후추'}\n",
      " \n",
      " \n",
      " 6542, <칼제비전>.............co-occurance: 4\n",
      " Co-occuring ingredients: {'팽이버섯', '날치알', '소금', '후추'}\n",
      " \n",
      " \n",
      " 6555, <승수나르도 파스타리오>.............co-occurance: 4\n",
      " Co-occuring ingredients: {'날치알', '소금', '파프리카', '후추'}\n",
      " \n",
      " \n",
      " 6536, <테리우스테이크>.............co-occurance: 4\n",
      " Co-occuring ingredients: {'대파', '소금', '파프리카', '후추'}\n",
      " \n",
      " \n",
      " 6247, <하트비트>.............co-occurance: 4\n",
      " Co-occuring ingredients: {'대파', '소금', '달걀', '후추'}\n",
      " \n",
      " \n",
      " 6246, <미카옐로>.............co-occurance: 4\n",
      " Co-occuring ingredients: {'대파', '소금', '달걀', '후추'}\n",
      " \n",
      " \n",
      " 6548, <홍~치킨!>.............co-occurance: 4\n",
      " Co-occuring ingredients: {'대파', '소금', '파프리카', '후추'}\n",
      " \n",
      " \n",
      " 6571, <골뱅이 에스카르고>.............co-occurance: 4\n",
      " Co-occuring ingredients: {'대파', '소금', '달걀', '후추'}\n",
      " \n",
      " \n",
      "--------------------------------------------------------------------\n"
     ]
    }
   ],
   "source": [
    "prt_model_result(coo_model, idx_recipe_dict, recipe_idx_dict, recipe_2_ingredient_dict, list_of_recipe_to_test, 20)"
   ]
  },
  {
   "cell_type": "markdown",
   "metadata": {},
   "source": [
    "Now we see that after the first 3 recipes, the rest is not as related as I would hope. This is a reason why we might want to consider tfidf which, theoretically discrimiates the ingredients that occure more frequenlty, therefore, has less meaning in defining a relationship"
   ]
  },
  {
   "cell_type": "markdown",
   "metadata": {},
   "source": [
    "### Calculate similarity based on Jaccard"
   ]
  },
  {
   "cell_type": "code",
   "execution_count": 130,
   "metadata": {},
   "outputs": [],
   "source": [
    "def get_jaccard(doc_1, doc_2):\n",
    "    a = set(doc_1)\n",
    "    b = set(doc_2)\n",
    "    c = a.intersection(b)\n",
    "    return float(len(c)) / (len(a) + len(b) - len(c))"
   ]
  },
  {
   "cell_type": "code",
   "execution_count": 143,
   "metadata": {},
   "outputs": [],
   "source": [
    "def get_similar_recipe(test_recipe, n ):\n",
    "    \"\"\"\n",
    "    Input: Recipe to test, recipe_2_ingredient_dict, recipe_key_list\n",
    "    Output: Top N similar recipe based on Jaccard\n",
    "    \"\"\"\n",
    "    recipe_score_tuple_list = []\n",
    "    test_ingredient = recipe_2_ingredient_dict[test_recipe]\n",
    "    for key in recipe_key_list:\n",
    "        compare_ingredient = recipe_2_ingredient_dict[key]\n",
    "        score = get_jaccard(test_ingredient, compare_ingredient)\n",
    "        recipe_score_tuple_list.append((score, key))\n",
    "\n",
    "    # Sort based on the value \n",
    "    sorted_recipe_score_tuple_list = sorted(recipe_score_tuple_list, key = lambda element: element[0],reverse=True)\n",
    "    sorted_recipe_score_list = [candidate for candidate in sorted_recipe_score_tuple_list if candidate[1] != test_recipe]\n",
    "    return sorted_recipe_score_list[:n]"
   ]
  },
  {
   "cell_type": "code",
   "execution_count": 144,
   "metadata": {},
   "outputs": [
    {
     "data": {
      "text/plain": [
       "[(0.2222222222222222, 6129),\n",
       " (0.21739130434782608, 6127),\n",
       " (0.19047619047619047, 5998),\n",
       " (0.19047619047619047, 6114),\n",
       " (0.18181818181818182, 6238),\n",
       " (0.18181818181818182, 6012),\n",
       " (0.17857142857142858, 6147),\n",
       " (0.17857142857142858, 6228),\n",
       " (0.17857142857142858, 6560),\n",
       " (0.17391304347826086, 6212)]"
      ]
     },
     "execution_count": 144,
     "metadata": {},
     "output_type": "execute_result"
    }
   ],
   "source": [
    "get_similar_recipe(6128, 10)"
   ]
  },
  {
   "cell_type": "markdown",
   "metadata": {},
   "source": [
    "Looking at the result, we can see it is different from the similarity based on count"
   ]
  },
  {
   "cell_type": "code",
   "execution_count": 150,
   "metadata": {},
   "outputs": [
    {
     "name": "stdout",
     "output_type": "stream",
     "text": [
      "Test recipe:6128 <마이 ♥ 케이크>\n",
      "Test recipe ingredients: ['인스턴트 카레', '돈코츠 라면 수프', '트러플 오일', '달걀', '크림소스', '핫케이크 가루', '브로콜리', '파프리카', '팽이버섯', '칵테일 새우', '날치알', '물', '후추', '대파', '소금']\n",
      " \n",
      "Similar recipes \n",
      " 6129, <크림 속에 비친 파프리카>.............co-occurance: 6\n",
      " Co-occuring ingredients: {'팽이버섯', '파프리카', '날치알', '소금', '달걀', '후추'}\n",
      " \n",
      " \n",
      "--------------------------------------------------------------------\n",
      " 6127, <로맨티스타 케이크>.............co-occurance: 5\n",
      " Co-occuring ingredients: {'팽이버섯', '소금', '달걀', '후추', '크림소스'}\n",
      " \n",
      " \n",
      "--------------------------------------------------------------------\n",
      " 5998, <소테미너>.............co-occurance: 4\n",
      " Co-occuring ingredients: {'소금', '브로콜리', '파프리카', '후추'}\n",
      " \n",
      " \n",
      "--------------------------------------------------------------------\n",
      " 6114, <아이스테키>.............co-occurance: 4\n",
      " Co-occuring ingredients: {'대파', '소금', '달걀', '후추'}\n",
      " \n",
      " \n",
      "--------------------------------------------------------------------\n",
      " 6238, <렌틸콩그레츄레이션>.............co-occurance: 4\n",
      " Co-occuring ingredients: {'대파', '소금', '파프리카', '후추'}\n",
      " \n",
      " \n",
      "--------------------------------------------------------------------\n",
      " 6012, <윌나잇까스>.............co-occurance: 4\n",
      " Co-occuring ingredients: {'팽이버섯', '소금', '달걀', '후추'}\n",
      " \n",
      " \n",
      "--------------------------------------------------------------------\n",
      " 6147, <삼치렐라>.............co-occurance: 5\n",
      " Co-occuring ingredients: {'소금', '달걀', '파프리카', '브로콜리', '후추'}\n",
      " \n",
      " \n",
      "--------------------------------------------------------------------\n",
      " 6228, <무적 카레레인저>.............co-occurance: 5\n",
      " Co-occuring ingredients: {'대파', '소금', '브로콜리', '후추', '인스턴트 카레'}\n",
      " \n",
      " \n",
      "--------------------------------------------------------------------\n",
      " 6560, <무소유>.............co-occurance: 5\n",
      " Co-occuring ingredients: {'대파', '소금', '브로콜리', '후추', '크림소스'}\n",
      " \n",
      " \n",
      "--------------------------------------------------------------------\n",
      " 6212, <연어를 찾아~ 사바>.............co-occurance: 4\n",
      " Co-occuring ingredients: {'대파', '소금', '달걀', '후추'}\n",
      " \n",
      " \n",
      "--------------------------------------------------------------------\n"
     ]
    }
   ],
   "source": [
    "# print the result\n",
    "test_recipe = 6128\n",
    "similar_recipe = get_similar_recipe(test_recipe, 10)\n",
    "test_recipe_ingredient_list = recipe_2_ingredient_dict[test_recipe]\n",
    "print( 'Test recipe:{} <{}>'.format(test_recipe, recipe_2_recipename_dict[test_recipe]) )\n",
    "print( 'Test recipe ingredients: {}'.format(test_recipe_ingredient_list) )\n",
    "print( ' ')\n",
    "print( 'Similar recipes ')\n",
    "for rec in similar_recipe:\n",
    "    co_occur_num = len(set(test_recipe_ingredient_list)&set(recipe_2_ingredient_dict[rec[1]]))\n",
    "    print( ' {}, <{}>.............co-occurance: {}'.format(rec[1], recipe_2_recipename_dict[rec[1]], co_occur_num))\n",
    "    print( ' Co-occuring ingredients: {}'.format(set(test_recipe_ingredient_list)&set(recipe_2_ingredient_dict[rec[1]])))\n",
    "    print( ' ' )\n",
    "    print( ' ' )\n",
    "    print('--------------------------------------------------------------------')    "
   ]
  },
  {
   "cell_type": "markdown",
   "metadata": {},
   "source": [
    "### Cosine similarity based on TFIDF\n",
    "Cosine similarity calculates similarity by measuring the cosine of angle between two vectors. With cosine similarity, we need to convert sentences into vectors. One way to do that is to use bag of words with either TF (term frequency) or TF-IDF (term frequency- inverse document frequency). The choice of TF or TF-IDF depends on application and is immaterial to how cosine similarity is actually performed — which just needs vectors. TF is good for text similarity in general, but TF-IDF is good for search query relevance."
   ]
  },
  {
   "cell_type": "markdown",
   "metadata": {},
   "source": [
    "There are two main difference between tf/ tf-idf with bag of words and word embeddings: \n",
    "1. tf / tf-idf creates one number per word, word embeddings typically creates one vector per word. \n",
    "2. tf / tf-idf is good for classification documents as a whole, but word embeddings is good for identifying contextual content.\n",
    "\n"
   ]
  },
  {
   "cell_type": "code",
   "execution_count": 154,
   "metadata": {},
   "outputs": [],
   "source": [
    "# Resource: https://stevenloria.com/tf-idf/\n",
    "# Resource: https://towardsdatascience.com/overview-of-text-similarity-metrics-3397c4601f50"
   ]
  },
  {
   "cell_type": "code",
   "execution_count": 184,
   "metadata": {},
   "outputs": [],
   "source": [
    "# Define the following functions\n",
    "def tf(word, blob):\n",
    "    \"\"\"\n",
    "    Tf(word, blob) computes \"term frequency\" which is the number of times \n",
    "    a word appears in a document blob, normalized by dividing by the \n",
    "    total number of words in blob.\n",
    "    \"\"\"\n",
    "    all_the_words_counter = Counter(recipe_2_ingredient_dict[blob])\n",
    "    num_word_appears = all_the_words_counter[word]\n",
    "    total_num_of_words = len(set(recipe_2_ingredient_dict[blob]))\n",
    "    return num_word_appears / total_num_of_words\n",
    "\n",
    "def n_containing(word, bloblist):\n",
    "    \"\"\"\n",
    "    Returns the number of documents containing word.\n",
    "    A generator expression is passed to the sum() function.\n",
    "    \"\"\"\n",
    "    return sum(1 for blob in bloblist if word in recipe_2_ingredient_dict[blob])\n",
    "\n",
    "def idf(word, bloblist):\n",
    "    \"\"\"\n",
    "    Computes \"inverse document frequency\" which measures \n",
    "    how common a word is among all documents in bloblist. \n",
    "    The more common a word is, the lower its idf. \n",
    "    We take the ratio of the total number of documents \n",
    "    to the number of documents containing word, \n",
    "    then take the log of that. Add 1 to the divisor to \n",
    "    prevent division by zero.\n",
    "    \"\"\"\n",
    "    return float(math.log(len(bloblist)) / float((1 + n_containing(word, bloblist))))\n",
    "\n",
    "def tfidf(word, blob, bloblist):\n",
    "    \"\"\"\n",
    "    Computes the TF-IDF score. It's the product of tf and idf.\n",
    "    \"\"\"\n",
    "    return tf(word, blob) * idf(word, bloblist)"
   ]
  },
  {
   "cell_type": "code",
   "execution_count": 185,
   "metadata": {},
   "outputs": [],
   "source": [
    "bloblist = recipe_key_list\n",
    "test_recipe = [6128,6129]\n",
    "tfidf_score_dict = dict()\n",
    "for i, blob in enumerate(bloblist):\n",
    "    #print(\"Top words in document {}\".format(i + 1))\n",
    "    scores = {word: tfidf(word, blob, bloblist) for word in recipe_2_ingredient_dict[blob]}\n",
    "    sorted_words = sorted(scores.items(), key=lambda x: x[1], reverse=True)\n",
    "    tfidf_score_dict[blob] = scores\n",
    "#     if blob in test_recipe:\n",
    "#         for word, score in sorted_words[:10]:\n",
    "#             print(\"\\tWord: {}, TF-IDF: {}\".format(word, round(score, 5)))\n",
    "#         print(\"-------\")"
   ]
  },
  {
   "cell_type": "code",
   "execution_count": 197,
   "metadata": {},
   "outputs": [],
   "source": [
    "def get_cosine_similarity(doc_1, doc_2):\n",
    "    co_occur_words = list(set(recipe_2_ingredient_dict[doc_1]) & set(recipe_2_ingredient_dict[doc_2]))\n",
    "    cosine_similarity = 0\n",
    "    for word in co_occur_words:\n",
    "        vec_1 = tfidf_score_dict[doc_1][word]\n",
    "        vec_2 = tfidf_score_dict[doc_2][word]\n",
    "        cosine_similarity += np.dot(vec_1, vec_2)\n",
    "    return cosine_similarity"
   ]
  },
  {
   "cell_type": "code",
   "execution_count": 198,
   "metadata": {},
   "outputs": [
    {
     "data": {
      "text/plain": [
       "0.004596486194561721"
      ]
     },
     "execution_count": 198,
     "metadata": {},
     "output_type": "execute_result"
    }
   ],
   "source": [
    "get_cosine_similarity(6128,6129)"
   ]
  },
  {
   "cell_type": "code",
   "execution_count": 201,
   "metadata": {},
   "outputs": [],
   "source": [
    "def rank_based_on_cosine_similarity(doc_1, all_the_doc):\n",
    "    compare_dict = dict()\n",
    "    for compare_doc in all_the_doc:\n",
    "        score = get_cosine_similarity(doc_1, compare_doc)\n",
    "        compare_dict[compare_doc] = score\n",
    "    # sort\n",
    "    sorted_doc = sorted(compare_dict.items(), key = lambda x: x[1], reverse = True)\n",
    "    return sorted_doc[:20]"
   ]
  },
  {
   "cell_type": "code",
   "execution_count": 216,
   "metadata": {},
   "outputs": [
    {
     "data": {
      "text/plain": [
       "[6134, 6135, 6136, 6137, 6138, 6139, 6140, 6141, 6142, 6143]"
      ]
     },
     "execution_count": 216,
     "metadata": {},
     "output_type": "execute_result"
    }
   ],
   "source": [
    "recipe_key_list[-10:]"
   ]
  },
  {
   "cell_type": "code",
   "execution_count": 225,
   "metadata": {},
   "outputs": [
    {
     "data": {
      "text/plain": [
       "[(6142, 0.055135872735961766),\n",
       " (6504, 0.022171458156960384),\n",
       " (6003, 0.008496461529052778),\n",
       " (6138, 0.006953647368766969),\n",
       " (6507, 0.006132103494184278),\n",
       " (6514, 0.005880420000713393),\n",
       " (6564, 0.005479137948729378),\n",
       " (6006, 0.005463580075459761),\n",
       " (6128, 0.0051031529877613785),\n",
       " (6130, 0.004499418885672744),\n",
       " (6562, 0.004204035747129451),\n",
       " (6423, 0.0005813939380748428),\n",
       " (6139, 0.0004908841208334472),\n",
       " (6225, 0.00045107130802424835),\n",
       " (6396, 0.0004160094726963732),\n",
       " (6416, 0.0004002141612553351),\n",
       " (6314, 0.0003894637038674107),\n",
       " (6336, 0.0003676214024024194),\n",
       " (6008, 0.000365350865301032),\n",
       " (6353, 0.0003540566773712902)]"
      ]
     },
     "execution_count": 225,
     "metadata": {},
     "output_type": "execute_result"
    }
   ],
   "source": [
    "rank_based_on_cosine_similarity(6142, recipe_key_list)"
   ]
  },
  {
   "cell_type": "markdown",
   "metadata": {},
   "source": [
    "Differences between Jaccard Similarity and Cosine Similarity:\n",
    "1. Jaccard similarity takes only unique set of words for each sentence / document while cosine similarity takes total length of the vectors. (these vectors could be made from bag of words term frequency or tf-idf)\n",
    "2. This means that if you repeat the word “friend” in Sentence 1 several times, cosine similarity changes but Jaccard similarity does not. For ex, if the word “friend” is repeated in the first sentence 50 times, cosine similarity drops to 0.4 but Jaccard similarity remains at 0.5.\n",
    "3. Jaccard similarity is good for cases where duplication does not matter, cosine similarity is good for cases where duplication matters while analyzing text similarity. For two product descriptions, it will be better to use Jaccard similarity as repetition of a word does not reduce their similarity."
   ]
  },
  {
   "cell_type": "code",
   "execution_count": null,
   "metadata": {},
   "outputs": [],
   "source": []
  },
  {
   "cell_type": "code",
   "execution_count": null,
   "metadata": {},
   "outputs": [],
   "source": []
  },
  {
   "cell_type": "code",
   "execution_count": null,
   "metadata": {},
   "outputs": [],
   "source": []
  },
  {
   "cell_type": "code",
   "execution_count": null,
   "metadata": {},
   "outputs": [],
   "source": []
  },
  {
   "cell_type": "code",
   "execution_count": null,
   "metadata": {},
   "outputs": [],
   "source": []
  },
  {
   "cell_type": "code",
   "execution_count": null,
   "metadata": {},
   "outputs": [],
   "source": []
  },
  {
   "cell_type": "code",
   "execution_count": null,
   "metadata": {},
   "outputs": [],
   "source": []
  },
  {
   "cell_type": "code",
   "execution_count": null,
   "metadata": {},
   "outputs": [],
   "source": []
  }
 ],
 "metadata": {
  "kernelspec": {
   "display_name": "Python 3",
   "language": "python",
   "name": "python3"
  },
  "language_info": {
   "codemirror_mode": {
    "name": "ipython",
    "version": 3
   },
   "file_extension": ".py",
   "mimetype": "text/x-python",
   "name": "python",
   "nbconvert_exporter": "python",
   "pygments_lexer": "ipython3",
   "version": "3.4.5"
  }
 },
 "nbformat": 4,
 "nbformat_minor": 2
}
