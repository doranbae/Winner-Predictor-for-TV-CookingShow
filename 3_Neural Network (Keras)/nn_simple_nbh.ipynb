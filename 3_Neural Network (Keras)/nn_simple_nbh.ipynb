{
 "cells": [
  {
   "cell_type": "markdown",
   "metadata": {},
   "source": [
    "# Predicting winner with Deep Learning (Keras) \n",
    "(Uses Elo rating as features)\n",
    "In this simple example, I will use Elo rating's score as one input feature. "
   ]
  },
  {
   "cell_type": "code",
   "execution_count": 27,
   "metadata": {},
   "outputs": [],
   "source": [
    "from keras.models import Sequential\n",
    "from keras.layers.core import Dense, Dropout, Activation\n",
    "from keras.utils import np_utils\n",
    "import pickle\n",
    "import numpy as np"
   ]
  },
  {
   "cell_type": "markdown",
   "metadata": {},
   "source": [
    "## Step 1: Load dataset\n",
    "I imported pickle dataframe which I saved on my previous exercise using elo rating to predict the winner. "
   ]
  },
  {
   "cell_type": "code",
   "execution_count": 4,
   "metadata": {},
   "outputs": [],
   "source": [
    "with open(\"elo_df.pkl\", 'rb') as fp:\n",
    "    elo_df = pickle.load(fp)"
   ]
  },
  {
   "cell_type": "code",
   "execution_count": 7,
   "metadata": {},
   "outputs": [
    {
     "data": {
      "text/html": [
       "<div>\n",
       "<style>\n",
       "    .dataframe thead tr:only-child th {\n",
       "        text-align: right;\n",
       "    }\n",
       "\n",
       "    .dataframe thead th {\n",
       "        text-align: left;\n",
       "    }\n",
       "\n",
       "    .dataframe tbody tr th {\n",
       "        vertical-align: top;\n",
       "    }\n",
       "</style>\n",
       "<table border=\"1\" class=\"dataframe\">\n",
       "  <thead>\n",
       "    <tr style=\"text-align: right;\">\n",
       "      <th></th>\n",
       "      <th>win</th>\n",
       "      <th>lose</th>\n",
       "      <th>date</th>\n",
       "      <th>w_elo_before_game</th>\n",
       "      <th>w_elo_after_game</th>\n",
       "      <th>l_elo_before_game</th>\n",
       "      <th>l_elo_after_game</th>\n",
       "      <th>year</th>\n",
       "      <th>month</th>\n",
       "      <th>day</th>\n",
       "      <th>total_days</th>\n",
       "    </tr>\n",
       "  </thead>\n",
       "  <tbody>\n",
       "    <tr>\n",
       "      <th>0</th>\n",
       "      <td>4</td>\n",
       "      <td>12</td>\n",
       "      <td>1/19/2015</td>\n",
       "      <td>1500</td>\n",
       "      <td>1532</td>\n",
       "      <td>1500</td>\n",
       "      <td>1468</td>\n",
       "      <td>2015</td>\n",
       "      <td>1</td>\n",
       "      <td>19</td>\n",
       "      <td>19.0</td>\n",
       "    </tr>\n",
       "    <tr>\n",
       "      <th>1</th>\n",
       "      <td>8</td>\n",
       "      <td>1</td>\n",
       "      <td>1/19/2015</td>\n",
       "      <td>1500</td>\n",
       "      <td>1532</td>\n",
       "      <td>1500</td>\n",
       "      <td>1468</td>\n",
       "      <td>2015</td>\n",
       "      <td>1</td>\n",
       "      <td>19</td>\n",
       "      <td>19.0</td>\n",
       "    </tr>\n",
       "    <tr>\n",
       "      <th>2</th>\n",
       "      <td>3</td>\n",
       "      <td>0</td>\n",
       "      <td>1/26/2015</td>\n",
       "      <td>1500</td>\n",
       "      <td>1532</td>\n",
       "      <td>1500</td>\n",
       "      <td>1468</td>\n",
       "      <td>2015</td>\n",
       "      <td>1</td>\n",
       "      <td>26</td>\n",
       "      <td>26.0</td>\n",
       "    </tr>\n",
       "  </tbody>\n",
       "</table>\n",
       "</div>"
      ],
      "text/plain": [
       "   win  lose       date  w_elo_before_game  w_elo_after_game  \\\n",
       "0    4    12  1/19/2015               1500              1532   \n",
       "1    8     1  1/19/2015               1500              1532   \n",
       "2    3     0  1/26/2015               1500              1532   \n",
       "\n",
       "   l_elo_before_game  l_elo_after_game  year  month  day  total_days  \n",
       "0               1500              1468  2015      1   19        19.0  \n",
       "1               1500              1468  2015      1   19        19.0  \n",
       "2               1500              1468  2015      1   26        26.0  "
      ]
     },
     "execution_count": 7,
     "metadata": {},
     "output_type": "execute_result"
    }
   ],
   "source": [
    "elo_df[:3]"
   ]
  },
  {
   "cell_type": "markdown",
   "metadata": {},
   "source": [
    "## Step 2: Prepare x(input) and y(output)\n",
    "The start of most of Machine Learning problems (except supervised learning) starts with defining x's and y's. For the purpose of this simple example, I have defined: \n",
    "#### x\n",
    "Probabiliy for winning (for those who had higher Elo score pre-match) based on Elo rating & prediction function\n",
    "#### y\n",
    "Win/lose. I will treat this as categorical value (1 for win, and 0 for lose)"
   ]
  },
  {
   "cell_type": "markdown",
   "metadata": {},
   "source": [
    "### Prepare X values\n",
    "Given a match, I calcualted expected win probability based on elo rating before the match. "
   ]
  },
  {
   "cell_type": "code",
   "execution_count": 10,
   "metadata": {},
   "outputs": [],
   "source": [
    "# The following function is from Elo rating notebook. \n",
    "# It calculates winning probability of elo_a against elo_b \n",
    "def expected_result(elo_a, elo_b):\n",
    "    expect_a = 1.0/(1+10**((elo_b - elo_a)/elo_width))\n",
    "    return expect_a\n",
    "\n",
    "mean_elo = 1500\n",
    "elo_width = 400\n",
    "k_factor = 64"
   ]
  },
  {
   "cell_type": "code",
   "execution_count": 11,
   "metadata": {},
   "outputs": [],
   "source": [
    "elo_a = elo_df[\"w_elo_before_game\"].tolist()\n",
    "elo_b = elo_df[\"l_elo_before_game\"].tolist()\n",
    "\n",
    "expected_win = []\n",
    "for idx, a in enumerate(elo_a):\n",
    "    expected_a = expected_result(a, elo_b[idx])\n",
    "    expected_win.append(expected_a)"
   ]
  },
  {
   "cell_type": "markdown",
   "metadata": {},
   "source": [
    "#### What does it mean?\n",
    "In match 1~4, before-Elo-score is the same for each contestant. Therfore expected win is also 0.5, which is random. For the 5th game, winner's before-Elo-score is lower than the loser. Based on Elo ranking, winner's wining probability was 40.89%, but won against the odds. "
   ]
  },
  {
   "cell_type": "code",
   "execution_count": 16,
   "metadata": {},
   "outputs": [
    {
     "data": {
      "text/html": [
       "<div>\n",
       "<style>\n",
       "    .dataframe thead tr:only-child th {\n",
       "        text-align: right;\n",
       "    }\n",
       "\n",
       "    .dataframe thead th {\n",
       "        text-align: left;\n",
       "    }\n",
       "\n",
       "    .dataframe tbody tr th {\n",
       "        vertical-align: top;\n",
       "    }\n",
       "</style>\n",
       "<table border=\"1\" class=\"dataframe\">\n",
       "  <thead>\n",
       "    <tr style=\"text-align: right;\">\n",
       "      <th></th>\n",
       "      <th>win</th>\n",
       "      <th>lose</th>\n",
       "      <th>date</th>\n",
       "      <th>w_elo_before_game</th>\n",
       "      <th>l_elo_before_game</th>\n",
       "    </tr>\n",
       "  </thead>\n",
       "  <tbody>\n",
       "    <tr>\n",
       "      <th>0</th>\n",
       "      <td>4</td>\n",
       "      <td>12</td>\n",
       "      <td>1/19/2015</td>\n",
       "      <td>1500</td>\n",
       "      <td>1500</td>\n",
       "    </tr>\n",
       "    <tr>\n",
       "      <th>1</th>\n",
       "      <td>8</td>\n",
       "      <td>1</td>\n",
       "      <td>1/19/2015</td>\n",
       "      <td>1500</td>\n",
       "      <td>1500</td>\n",
       "    </tr>\n",
       "    <tr>\n",
       "      <th>2</th>\n",
       "      <td>3</td>\n",
       "      <td>0</td>\n",
       "      <td>1/26/2015</td>\n",
       "      <td>1500</td>\n",
       "      <td>1500</td>\n",
       "    </tr>\n",
       "    <tr>\n",
       "      <th>3</th>\n",
       "      <td>14</td>\n",
       "      <td>7</td>\n",
       "      <td>1/26/2015</td>\n",
       "      <td>1500</td>\n",
       "      <td>1500</td>\n",
       "    </tr>\n",
       "    <tr>\n",
       "      <th>4</th>\n",
       "      <td>7</td>\n",
       "      <td>8</td>\n",
       "      <td>2/2/2015</td>\n",
       "      <td>1468</td>\n",
       "      <td>1532</td>\n",
       "    </tr>\n",
       "  </tbody>\n",
       "</table>\n",
       "</div>"
      ],
      "text/plain": [
       "   win  lose       date  w_elo_before_game  l_elo_before_game\n",
       "0    4    12  1/19/2015               1500               1500\n",
       "1    8     1  1/19/2015               1500               1500\n",
       "2    3     0  1/26/2015               1500               1500\n",
       "3   14     7  1/26/2015               1500               1500\n",
       "4    7     8   2/2/2015               1468               1532"
      ]
     },
     "execution_count": 16,
     "metadata": {},
     "output_type": "execute_result"
    }
   ],
   "source": [
    "elo_df[[\"win\", \"lose\",\"date\", \"w_elo_before_game\",\"l_elo_before_game\",\"expected\"]][:5]"
   ]
  },
  {
   "cell_type": "code",
   "execution_count": 12,
   "metadata": {},
   "outputs": [
    {
     "data": {
      "text/plain": [
       "[0.5, 0.5, 0.5, 0.5, 0.4089244036850566]"
      ]
     },
     "execution_count": 12,
     "metadata": {},
     "output_type": "execute_result"
    }
   ],
   "source": [
    "expected_win[:5]"
   ]
  },
  {
   "cell_type": "markdown",
   "metadata": {},
   "source": [
    "#### Good enough? \n",
    "I transformed the result into n-dimensional array so it will be easier to put into Keras model. Plus, I filtered out the game scores with 0.5 predictions. Out of 313 values we started, now we have 304 values left."
   ]
  },
  {
   "cell_type": "code",
   "execution_count": 34,
   "metadata": {},
   "outputs": [
    {
     "name": "stdout",
     "output_type": "stream",
     "text": [
      "313\n",
      "304\n"
     ]
    },
    {
     "data": {
      "text/html": [
       "<div>\n",
       "<style>\n",
       "    .dataframe thead tr:only-child th {\n",
       "        text-align: right;\n",
       "    }\n",
       "\n",
       "    .dataframe thead th {\n",
       "        text-align: left;\n",
       "    }\n",
       "\n",
       "    .dataframe tbody tr th {\n",
       "        vertical-align: top;\n",
       "    }\n",
       "</style>\n",
       "<table border=\"1\" class=\"dataframe\">\n",
       "  <thead>\n",
       "    <tr style=\"text-align: right;\">\n",
       "      <th></th>\n",
       "      <th>index</th>\n",
       "      <th>win</th>\n",
       "      <th>lose</th>\n",
       "      <th>date</th>\n",
       "      <th>w_elo_before_game</th>\n",
       "      <th>l_elo_before_game</th>\n",
       "      <th>random_match</th>\n",
       "    </tr>\n",
       "  </thead>\n",
       "  <tbody>\n",
       "    <tr>\n",
       "      <th>0</th>\n",
       "      <td>4</td>\n",
       "      <td>7</td>\n",
       "      <td>8</td>\n",
       "      <td>2/2/2015</td>\n",
       "      <td>1468</td>\n",
       "      <td>1532</td>\n",
       "      <td>-64</td>\n",
       "    </tr>\n",
       "    <tr>\n",
       "      <th>1</th>\n",
       "      <td>5</td>\n",
       "      <td>1</td>\n",
       "      <td>3</td>\n",
       "      <td>2/2/2015</td>\n",
       "      <td>1468</td>\n",
       "      <td>1532</td>\n",
       "      <td>-64</td>\n",
       "    </tr>\n",
       "    <tr>\n",
       "      <th>2</th>\n",
       "      <td>8</td>\n",
       "      <td>3</td>\n",
       "      <td>1</td>\n",
       "      <td>2/16/2015</td>\n",
       "      <td>1494</td>\n",
       "      <td>1505</td>\n",
       "      <td>-11</td>\n",
       "    </tr>\n",
       "  </tbody>\n",
       "</table>\n",
       "</div>"
      ],
      "text/plain": [
       "   index  win  lose       date  w_elo_before_game  l_elo_before_game  \\\n",
       "0      4    7     8   2/2/2015               1468               1532   \n",
       "1      5    1     3   2/2/2015               1468               1532   \n",
       "2      8    3     1  2/16/2015               1494               1505   \n",
       "\n",
       "   random_match  \n",
       "0           -64  \n",
       "1           -64  \n",
       "2           -11  "
      ]
     },
     "execution_count": 34,
     "metadata": {},
     "output_type": "execute_result"
    }
   ],
   "source": [
    "print(len(elo_df))\n",
    "elo_df = elo_df[[\"win\", \"lose\",\"date\", \"w_elo_before_game\",\"l_elo_before_game\"]]\n",
    "elo_df[\"random_match\"] = elo_df[\"w_elo_before_game\"] - elo_df[\"l_elo_before_game\"] \n",
    "elo_df_filtered = elo_df.loc[elo_df[\"random_match\"] != 0].reset_index()\n",
    "print(len(elo_df_filtered))\n",
    "elo_df_filtered[:3]"
   ]
  },
  {
   "cell_type": "code",
   "execution_count": 39,
   "metadata": {},
   "outputs": [],
   "source": [
    "# Calculate again since we have a new data frame (filtered)\n",
    "elo_a = elo_df_filtered[\"w_elo_before_game\"].tolist()\n",
    "elo_b = elo_df_filtered[\"l_elo_before_game\"].tolist()\n",
    "\n",
    "expected_win = []\n",
    "for idx, a in enumerate(elo_a):\n",
    "    expected_a = expected_result(a, elo_b[idx])\n",
    "    expected_win.append(expected_a)"
   ]
  },
  {
   "cell_type": "code",
   "execution_count": 60,
   "metadata": {},
   "outputs": [],
   "source": [
    "# X values in n-dimensional array\n",
    "x = np.ones((len(elo_df_filtered), 1))\n",
    "for row in elo_df_filtered.itertuples():\n",
    "    idx = row.Index\n",
    "    if expected_win[idx] > 0.5:\n",
    "        x[idx][0] = expected_win[idx]\n",
    "    else: \n",
    "        x[idx][0] = 1 - expected_win[idx]"
   ]
  },
  {
   "cell_type": "code",
   "execution_count": 61,
   "metadata": {},
   "outputs": [
    {
     "data": {
      "text/plain": [
       "array([[ 0.5910756 ],\n",
       "       [ 0.5910756 ],\n",
       "       [ 0.51582499],\n",
       "       [ 0.50863384],\n",
       "       [ 0.50719508],\n",
       "       [ 0.67630167],\n",
       "       [ 0.66099909],\n",
       "       [ 0.59801377],\n",
       "       [ 0.59246623],\n",
       "       [ 0.65582051]])"
      ]
     },
     "execution_count": 61,
     "metadata": {},
     "output_type": "execute_result"
    }
   ],
   "source": [
    "x[:10]"
   ]
  },
  {
   "cell_type": "markdown",
   "metadata": {},
   "source": [
    "Now let's check the x'shapes."
   ]
  },
  {
   "cell_type": "code",
   "execution_count": 62,
   "metadata": {},
   "outputs": [
    {
     "name": "stdout",
     "output_type": "stream",
     "text": [
      "(304, 1)\n",
      "(1,)\n"
     ]
    }
   ],
   "source": [
    "print(x.shape)\n",
    "print(x[0].shape)"
   ]
  },
  {
   "cell_type": "markdown",
   "metadata": {},
   "source": [
    "### Prepare Y values\n",
    "First, we need to capture whether the expected winner (person with higher Elo ranking pregame) lost or won."
   ]
  },
  {
   "cell_type": "code",
   "execution_count": 63,
   "metadata": {},
   "outputs": [
    {
     "data": {
      "text/plain": [
       "[0, 0, 0, 1, 1, 1, 1, 0, 1, 1]"
      ]
     },
     "execution_count": 63,
     "metadata": {},
     "output_type": "execute_result"
    }
   ],
   "source": [
    "y_ = []\n",
    "for row in elo_df_filtered.itertuples():\n",
    "    idx = row.Index\n",
    "    if expected_win[idx] > 0.5: # For the winners with higher pre-game Elo ranking\n",
    "        y_.append(1)\n",
    "    else: \n",
    "        y_.append(0)\n",
    "\n",
    "y_[:10]"
   ]
  },
  {
   "cell_type": "markdown",
   "metadata": {},
   "source": [
    "#### Convert Y with one-hot encoding\n",
    "There are two ways. First I will use my favorite numpy."
   ]
  },
  {
   "cell_type": "code",
   "execution_count": 64,
   "metadata": {},
   "outputs": [
    {
     "name": "stdout",
     "output_type": "stream",
     "text": [
      "(304, 2)\n",
      "(2,)\n",
      "[[1 0]\n",
      " [1 0]\n",
      " [1 0]]\n"
     ]
    }
   ],
   "source": [
    "y_ohe = np.zeros((len(y_), 2),dtype=np.int8)\n",
    "y_ohe[np.arange(len(y_)), y_] = 1\n",
    "y = y_ohe\n",
    "print(y.shape)\n",
    "print(y[0].shape)\n",
    "print(y[:3])"
   ]
  },
  {
   "cell_type": "markdown",
   "metadata": {},
   "source": [
    "Another way is to use Kera's util function."
   ]
  },
  {
   "cell_type": "code",
   "execution_count": 65,
   "metadata": {},
   "outputs": [
    {
     "name": "stdout",
     "output_type": "stream",
     "text": [
      "(304, 2)\n",
      "(2,)\n",
      "[[ 1.  0.]\n",
      " [ 1.  0.]\n",
      " [ 1.  0.]]\n"
     ]
    }
   ],
   "source": [
    "y_categorical = np_utils.to_categorical(y_, 2)\n",
    "print(y_categorical.shape)\n",
    "print(y_categorical[0].shape)\n",
    "print(y_categorical[:3])"
   ]
  },
  {
   "cell_type": "code",
   "execution_count": 66,
   "metadata": {},
   "outputs": [],
   "source": [
    "y = y_categorical"
   ]
  },
  {
   "cell_type": "markdown",
   "metadata": {},
   "source": [
    "#### Divide the dataset into trian & test dataset"
   ]
  },
  {
   "cell_type": "code",
   "execution_count": 69,
   "metadata": {},
   "outputs": [],
   "source": [
    "ratio = 0.85\n",
    "x_train = np.array(x[:int((len(x)*ratio))])\n",
    "x_test = np.array(x[len(x_train):])\n",
    "y_train = np.array(y[:int((len(y)*ratio))])\n",
    "y_test = np.array(y[len(y_train):])"
   ]
  },
  {
   "cell_type": "code",
   "execution_count": 70,
   "metadata": {},
   "outputs": [
    {
     "name": "stdout",
     "output_type": "stream",
     "text": [
      "258\n",
      "46\n"
     ]
    }
   ],
   "source": [
    "print(len(x_train))\n",
    "print(len(x_test))"
   ]
  },
  {
   "cell_type": "markdown",
   "metadata": {},
   "source": [
    "### Yes. This is only a toy example, so the dataset is tiny. \n",
    "I don't expect neural network to do much here. Although I want to see if Keras' neural network model can be built upon NBH dataset."
   ]
  },
  {
   "cell_type": "markdown",
   "metadata": {},
   "source": [
    "## Step 3: Define model architecture\n",
    "The simplest model is defined in the Sequential class which is a linear stack of Layers."
   ]
  },
  {
   "cell_type": "code",
   "execution_count": 72,
   "metadata": {},
   "outputs": [],
   "source": [
    "# Declare Sequential model\n",
    "model = Sequential()"
   ]
  },
  {
   "cell_type": "code",
   "execution_count": 77,
   "metadata": {},
   "outputs": [
    {
     "name": "stdout",
     "output_type": "stream",
     "text": [
      "(None, 512)\n"
     ]
    }
   ],
   "source": [
    "# Next, declare input layer. Input shape parameter is the shape of 1 sample.\n",
    "model.add(Dense(512, input_shape=(1,)))\n",
    "model.add(Activation('relu')) \n",
    "# An \"activation\" is just a non-linear function applied to the output of the layer above.\n",
    "\n",
    "# If I print, the current shape of the model output, it will return me this.\n",
    "print(model.output_shape)"
   ]
  },
  {
   "cell_type": "code",
   "execution_count": 78,
   "metadata": {},
   "outputs": [],
   "source": [
    "# Now add more layers.\n",
    "# We want to add Dropout layer to regularize the model in order to prevent overfitting.\n",
    "model.add(Dropout(0.2))\n",
    "model.add(Dense(512))\n",
    "model.add(Activation('relu'))\n",
    "model.add(Dropout(0.2))\n",
    "model.add(Dense(2)) # Corresponds to the final output size of 2.\n",
    "model.add(Activation('softmax'))"
   ]
  },
  {
   "cell_type": "markdown",
   "metadata": {},
   "source": [
    "This special \"softmax\" activation among other things, ensures the output is a valid probaility distribution, that its values are all non-negative and sum to 1."
   ]
  },
  {
   "cell_type": "markdown",
   "metadata": {},
   "source": [
    "## Step 4: Compile model\n",
    "Cannot believe it is almost done already. The hard part is already over and I will just compile the model."
   ]
  },
  {
   "cell_type": "code",
   "execution_count": 85,
   "metadata": {},
   "outputs": [],
   "source": [
    "model.compile(loss='categorical_crossentropy', optimizer='adam')"
   ]
  },
  {
   "cell_type": "markdown",
   "metadata": {},
   "source": [
    "## Step 5: Fit model on training data"
   ]
  },
  {
   "cell_type": "code",
   "execution_count": 86,
   "metadata": {},
   "outputs": [
    {
     "name": "stdout",
     "output_type": "stream",
     "text": [
      "Train on 258 samples, validate on 46 samples\n",
      "Epoch 1/4\n",
      "\r",
      " 32/258 [==>...........................] - ETA: 3s - loss: 0.6917\b\b\b\b\b\b\b\b\b\b\b\b\b\b\b\b\b\b\b\b\b\b\b\b\b\b\b\b\b\b\b\b\b\b\b\b\b\b\b\b\b\b\b\b\b\b\b\b\b\b\b\b\b\b\b\b\b\b\b\b\b\b\b\b\b\r",
      "160/258 [=================>............] - ETA: 0s - loss: 0.6909\b\b\b\b\b\b\b\b\b\b\b\b\b\b\b\b\b\b\b\b\b\b\b\b\b\b\b\b\b\b\b\b\b\b\b\b\b\b\b\b\b\b\b\b\b\b\b\b\b\b\b\b\b\b\b\b\b\b\b\b\b\b\b\b\b\r",
      "258/258 [==============================] - 1s 2ms/step - loss: 0.6942 - val_loss: 0.6997\n",
      "Epoch 2/4\n",
      "\r",
      " 32/258 [==>...........................] - ETA: 0s - loss: 0.6945\b\b\b\b\b\b\b\b\b\b\b\b\b\b\b\b\b\b\b\b\b\b\b\b\b\b\b\b\b\b\b\b\b\b\b\b\b\b\b\b\b\b\b\b\b\b\b\b\b\b\b\b\b\b\b\b\b\b\b\b\b\b\b\b\b\r",
      "160/258 [=================>............] - ETA: 0s - loss: 0.6905\b\b\b\b\b\b\b\b\b\b\b\b\b\b\b\b\b\b\b\b\b\b\b\b\b\b\b\b\b\b\b\b\b\b\b\b\b\b\b\b\b\b\b\b\b\b\b\b\b\b\b\b\b\b\b\b\b\b\b\b\b\b\b\b\b\r",
      "258/258 [==============================] - 0s 514us/step - loss: 0.6925 - val_loss: 0.7088\n",
      "Epoch 3/4\n",
      "\r",
      " 32/258 [==>...........................] - ETA: 0s - loss: 0.6704\b\b\b\b\b\b\b\b\b\b\b\b\b\b\b\b\b\b\b\b\b\b\b\b\b\b\b\b\b\b\b\b\b\b\b\b\b\b\b\b\b\b\b\b\b\b\b\b\b\b\b\b\b\b\b\b\b\b\b\b\b\b\b\b\b\r",
      "160/258 [=================>............] - ETA: 0s - loss: 0.6943\b\b\b\b\b\b\b\b\b\b\b\b\b\b\b\b\b\b\b\b\b\b\b\b\b\b\b\b\b\b\b\b\b\b\b\b\b\b\b\b\b\b\b\b\b\b\b\b\b\b\b\b\b\b\b\b\b\b\b\b\b\b\b\b\b\r",
      "258/258 [==============================] - 0s 498us/step - loss: 0.6991 - val_loss: 0.7147\n",
      "Epoch 4/4\n",
      "\r",
      " 32/258 [==>...........................] - ETA: 0s - loss: 0.6953\b\b\b\b\b\b\b\b\b\b\b\b\b\b\b\b\b\b\b\b\b\b\b\b\b\b\b\b\b\b\b\b\b\b\b\b\b\b\b\b\b\b\b\b\b\b\b\b\b\b\b\b\b\b\b\b\b\b\b\b\b\b\b\b\b\r",
      "160/258 [=================>............] - ETA: 0s - loss: 0.6965\b\b\b\b\b\b\b\b\b\b\b\b\b\b\b\b\b\b\b\b\b\b\b\b\b\b\b\b\b\b\b\b\b\b\b\b\b\b\b\b\b\b\b\b\b\b\b\b\b\b\b\b\b\b\b\b\b\b\b\b\b\b\b\b\b\r",
      "258/258 [==============================] - 0s 527us/step - loss: 0.6939 - val_loss: 0.6986\n"
     ]
    },
    {
     "data": {
      "text/plain": [
       "<keras.callbacks.History at 0x11eb7a4a8>"
      ]
     },
     "execution_count": 86,
     "metadata": {},
     "output_type": "execute_result"
    }
   ],
   "source": [
    "model.fit(x_train, y_train,\n",
    "          batch_size=32, epochs=4,\n",
    "          verbose=1,\n",
    "          validation_data=(x_test, y_test))"
   ]
  },
  {
   "cell_type": "markdown",
   "metadata": {},
   "source": [
    "Generally speaking, the lower the loss, the better a model. The loss is calculated on training and validation and its interperation is how well the model is doing for these two sets. Unlike accuracy, loss is not a percentage. It is a summation of the errors made for each example in training or validation sets."
   ]
  },
  {
   "cell_type": "markdown",
   "metadata": {},
   "source": [
    "### That was easy. huh?"
   ]
  },
  {
   "cell_type": "markdown",
   "metadata": {},
   "source": [
    "## Step 6: Evaluate model on test data"
   ]
  },
  {
   "cell_type": "code",
   "execution_count": 81,
   "metadata": {},
   "outputs": [
    {
     "name": "stdout",
     "output_type": "stream",
     "text": [
      "\r",
      "32/46 [===================>..........] - ETA: 0s\b\b\b\b\b\b\b\b\b\b\b\b\b\b\b\b\b\b\b\b\b\b\b\b\b\b\b\b\b\b\b\b\b\b\b\b\b\b\b\b\b\b\b\b\b\b\b\b\r",
      "46/46 [==============================] - 0s 361us/step\n"
     ]
    },
    {
     "data": {
      "text/plain": [
       "0.71154286291288293"
      ]
     },
     "execution_count": 81,
     "metadata": {},
     "output_type": "execute_result"
    }
   ],
   "source": [
    "score = model.evaluate(x_test, y_test, verbose = 1)\n",
    "score"
   ]
  },
  {
   "cell_type": "markdown",
   "metadata": {},
   "source": [
    "Score is the mean of the loss for each test sample. "
   ]
  },
  {
   "cell_type": "markdown",
   "metadata": {},
   "source": [
    "### Accuracy\n",
    "The predict_classes function outputs the highest probability class according to the trained classifier for each input example."
   ]
  },
  {
   "cell_type": "code",
   "execution_count": 109,
   "metadata": {},
   "outputs": [],
   "source": [
    "prediction = model.predict(x_test)\n",
    "predicted_classes = model.predict_classes(x_test)"
   ]
  },
  {
   "cell_type": "code",
   "execution_count": 129,
   "metadata": {},
   "outputs": [],
   "source": [
    "def categorical_accuracy(y_true, y_pred):\n",
    "    accu = 0\n",
    "    for idx, y in enumerate(y_true):\n",
    "        y_t = 0\n",
    "        if y[0] == 1:\n",
    "            pass\n",
    "        else:\n",
    "            y_t += 1\n",
    "            \n",
    "        if y_t == y_pred[idx]:\n",
    "            accu += 1\n",
    "    accuracy = accu / len(y_true)\n",
    "    print(\"Accuracy: \", accuracy)\n",
    "    return accuracy"
   ]
  },
  {
   "cell_type": "code",
   "execution_count": 130,
   "metadata": {},
   "outputs": [
    {
     "name": "stdout",
     "output_type": "stream",
     "text": [
      "Accuracy:  0.43478260869565216\n"
     ]
    }
   ],
   "source": [
    "accuracy = categorical_accuracy(y_test,predicted_classes)"
   ]
  },
  {
   "cell_type": "markdown",
   "metadata": {},
   "source": [
    "Okay. I knew it wasn't going to be great, but it looks like a monkey could have done better!\n",
    "### But it gives a great insight: One chef's winning streak can't last forever.\n",
    "Elo ranking is based on the winner's past performance only. It assumes that if you have one in the past, then you will win again. Given the fact that our prediciton is below 50%, it means, anyone can cook (and win)."
   ]
  }
 ],
 "metadata": {
  "kernelspec": {
   "display_name": "Python 3",
   "language": "python",
   "name": "python3"
  },
  "language_info": {
   "codemirror_mode": {
    "name": "ipython",
    "version": 3
   },
   "file_extension": ".py",
   "mimetype": "text/x-python",
   "name": "python",
   "nbconvert_exporter": "python",
   "pygments_lexer": "ipython3",
   "version": "3.4.5"
  }
 },
 "nbformat": 4,
 "nbformat_minor": 2
}
