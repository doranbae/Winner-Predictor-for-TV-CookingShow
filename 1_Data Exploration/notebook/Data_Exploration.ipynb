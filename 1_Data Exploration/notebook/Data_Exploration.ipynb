{
 "cells": [
  {
   "cell_type": "markdown",
   "metadata": {},
   "source": [
    "# NBH Data Exploration"
   ]
  },
  {
   "cell_type": "markdown",
   "metadata": {},
   "source": [
    "[냉장고를 부탁해](https://ko.wikipedia.org/wiki/%EB%83%89%EC%9E%A5%EA%B3%A0%EB%A5%BC_%EB%B6%80%ED%83%81%ED%95%B4), is a cooking-variety TV program starring by various chefs and celebrity guests. Its title in English translates to, \"Please Take Care of My Refrigerator\", but for simplicity, I will refer to it as **NBH**, which is the first alphabet from its abbreviated nickname, *Naeng Bu Hae*. Please check out this [link](https://en.wikipedia.org/wiki/Please_Take_Care_of_My_Refrigerator) for more explanation from Wikipedia.\n",
    "</br>\n",
    "![main image](../data/nbh_main.png)\n",
    "*Source: JBTC Homepage*"
   ]
  },
  {
   "cell_type": "markdown",
   "metadata": {},
   "source": [
    "The format of the show is 15-minute cooking competition, where the guest (usually a celebrity) selects the winner of the two competing chefs. There are about eight chefs who regularily appears in the show some more so than others. The following game data is drawn from Episode 10 and onward until recently (late 2017)."
   ]
  },
  {
   "cell_type": "markdown",
   "metadata": {},
   "source": [
    "## Who are the chefs?\n",
    "### Let's see who they are and their current score and winning rates"
   ]
  },
  {
   "cell_type": "markdown",
   "metadata": {},
   "source": [
    "I used my best friend, *Wikipedia* to get information on the chef matches.\n",
    "* When was the match?\n",
    "* Which two chefs were competing?\n",
    "* What kind of dish did they make and to whom did they serve food?\n",
    "* Who won the match?\n",
    "After I scraped all the data, I was able to count who did the most number of matches, and who won the most."
   ]
  },
  {
   "cell_type": "markdown",
   "metadata": {},
   "source": [
    "There were total of 31 chefs who have cooked at least once on the show. Not everyone was regular (some were visiting chefs from other countries) so I have looked at top 15 chefs (sorted by number of matches).\n",
    "![who_chef](../data/nbh_apperance_winning_rate.png)\n",
    "It looks like Kim,Poong is does most matches, with a very low winning rate. "
   ]
  },
  {
   "cell_type": "markdown",
   "metadata": {},
   "source": [
    "## Who is my nemesis?\n",
    "Now it is time to look at each chef's strongest and weakest opponents. The following heatmap's each row represents the chef's (name on the left) match history against each opponent. For example, chef Lee,Yeon-bok (*third from the top*) has one over Kim, Poong 70% of the time, and Mihal 90% of the time."
   ]
  },
  {
   "cell_type": "markdown",
   "metadata": {},
   "source": [
    "![who_nemesis](../data/nbh_nemesis.png)"
   ]
  },
  {
   "cell_type": "code",
   "execution_count": null,
   "metadata": {},
   "outputs": [],
   "source": []
  },
  {
   "cell_type": "code",
   "execution_count": null,
   "metadata": {},
   "outputs": [],
   "source": []
  }
 ],
 "metadata": {
  "kernelspec": {
   "display_name": "Python 3",
   "language": "python",
   "name": "python3"
  },
  "language_info": {
   "codemirror_mode": {
    "name": "ipython",
    "version": 3
   },
   "file_extension": ".py",
   "mimetype": "text/x-python",
   "name": "python",
   "nbconvert_exporter": "python",
   "pygments_lexer": "ipython3",
   "version": "3.4.5"
  }
 },
 "nbformat": 4,
 "nbformat_minor": 2
}
