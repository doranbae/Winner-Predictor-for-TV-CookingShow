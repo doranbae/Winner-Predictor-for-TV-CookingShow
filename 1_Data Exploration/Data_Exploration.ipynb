{
 "cells": [
  {
   "cell_type": "markdown",
   "metadata": {},
   "source": [
    "# NBH Data Exploration\n",
    "NBH is a term coined by the author to refer to the show, \"Please Take Care of My Refrigerator\", which losely translates to *Naeng Bu Hae* in Korean."
   ]
  },
  {
   "cell_type": "markdown",
   "metadata": {},
   "source": [
    "# About the chefs\n",
    "I used my best friend, *Wikipedia* to get information on the match results. I am interested in the following questions\n",
    "1. Who appeared the most?\n",
    "2. Who has the highest winning probability?\n",
    "3. Who is my nemesis?"
   ]
  },
  {
   "cell_type": "markdown",
   "metadata": {},
   "source": [
    "## 1. Match frequency against winning probability"
   ]
  },
  {
   "cell_type": "markdown",
   "metadata": {},
   "source": [
    "There were total of 31 chefs who have cooked at least once on the show. Not everyone is a regular (some were visiting chefs from other countries) so I have looked at top 15 chefs (sorted by number of matches).\n",
    "</br>\n",
    "![who_chef](../data/nbh_apperance_winning_rate.png)\n",
    "Chef's face photo source: [JTBC \"Please Take Care of My Refrigerator\" program homepage](http://tv.jtbc.joins.com/janggo) and Google Image search. </br>\n",
    "Please let me know if I need to take any of them down.\n",
    "\n",
    "### It looks like Kim Poong is out in the battle field the most, with a low winning rate.\n",
    "For those who may not know who [Kim Poong](https://en.wikipedia.org/wiki/Kim_Poong) is, he is a famous webcomic artist. He is the only non-professional contestant on the show."
   ]
  },
  {
   "cell_type": "markdown",
   "metadata": {},
   "source": [
    "## 2. Who is my nemesis?\n",
    "Now it is time to look at each chef's strongest and weakest opponents. The following heatmap's each row represents the chef's (name on the left) match history against each opponent. For example, chef Lee,Yeon-bok (*third from the top*) has one over Kim, Poong 70% of the time, and Mihal 90% of the time."
   ]
  },
  {
   "cell_type": "markdown",
   "metadata": {},
   "source": [
    "![who_nemesis](../data/nbh_nemesis.png)"
   ]
  }
 ],
 "metadata": {
  "kernelspec": {
   "display_name": "Python 3",
   "language": "python",
   "name": "python3"
  },
  "language_info": {
   "codemirror_mode": {
    "name": "ipython",
    "version": 3
   },
   "file_extension": ".py",
   "mimetype": "text/x-python",
   "name": "python",
   "nbconvert_exporter": "python",
   "pygments_lexer": "ipython3",
   "version": "3.4.5"
  }
 },
 "nbformat": 4,
 "nbformat_minor": 2
}
